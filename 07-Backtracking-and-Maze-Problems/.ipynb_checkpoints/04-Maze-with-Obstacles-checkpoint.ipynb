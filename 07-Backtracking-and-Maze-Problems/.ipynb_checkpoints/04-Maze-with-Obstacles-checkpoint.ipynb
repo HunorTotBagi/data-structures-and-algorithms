{
 "cells": [
  {
   "cell_type": "markdown",
   "id": "fca96838",
   "metadata": {},
   "source": [
    "#### A 2d lista will be given with boolean values. If a position is false it means it's an obsticle."
   ]
  },
  {
   "cell_type": "code",
   "execution_count": 30,
   "id": "f7a06aee",
   "metadata": {},
   "outputs": [
    {
     "name": "stdout",
     "output_type": "stream",
     "text": [
      "DDRR\n",
      "RRDD\n"
     ]
    }
   ],
   "source": [
    "def pathObst(p, maze, r, c):\n",
    "    if r == len(maze) - 1 and c == len(maze[0]) - 1:\n",
    "        print(p)\n",
    "        return\n",
    "    \n",
    "    if maze[r][c] == False:\n",
    "        return\n",
    "    if r < len(maze)-1:\n",
    "        pathObst(p + 'D', maze, r + 1, c)\n",
    "    if c < len(maze[0]) - 1:\n",
    "        pathObst(p + 'R', maze, r, c + 1)\n",
    "        \n",
    "board = [[True, True, True],[True, False, True],[True, True, True]]\n",
    "pathObst(\"\",board,0,0)"
   ]
  }
 ],
 "metadata": {
  "kernelspec": {
   "display_name": "Python 3 (ipykernel)",
   "language": "python",
   "name": "python3"
  },
  "language_info": {
   "codemirror_mode": {
    "name": "ipython",
    "version": 3
   },
   "file_extension": ".py",
   "mimetype": "text/x-python",
   "name": "python",
   "nbconvert_exporter": "python",
   "pygments_lexer": "ipython3",
   "version": "3.9.13"
  }
 },
 "nbformat": 4,
 "nbformat_minor": 5
}
