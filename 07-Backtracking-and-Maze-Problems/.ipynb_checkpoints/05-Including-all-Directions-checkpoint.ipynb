{
 "cells": [
  {
   "cell_type": "code",
   "execution_count": 1,
   "id": "3e564f6b",
   "metadata": {},
   "outputs": [
    {
     "name": "stdout",
     "output_type": "stream",
     "text": [
      "DDRR\n",
      "DDRURD\n",
      "DDRUURDD\n",
      "DRDR\n",
      "DRRD\n",
      "DRURDD\n",
      "RDDR\n",
      "RDRD\n",
      "RDLDRR\n",
      "RRDD\n",
      "RRDLDR\n",
      "RRDLLDRR\n"
     ]
    }
   ],
   "source": [
    "def allPath(p, maze, r, c):\n",
    "    if r == len(maze) - 1 and c == len(maze[0]) - 1:\n",
    "        print(p)\n",
    "        return\n",
    "    \n",
    "    if maze[r][c] == False:\n",
    "        return\n",
    "    \n",
    "    maze[r][c] = False\n",
    "    \n",
    "    if r < len(maze)-1:\n",
    "        allPath(p + 'D', maze, r + 1, c)\n",
    "    if c < len(maze[0]) - 1:\n",
    "        allPath(p + 'R', maze, r, c + 1)\n",
    "    if r > 0 :\n",
    "        allPath(p + 'U', maze, r - 1, c)\n",
    "    if c > 0:\n",
    "        allPath(p + 'L', maze, r, c - 1)\n",
    "        \n",
    "    maze[r][c] = True\n",
    "        \n",
    "board = [[True, True, True],[True, True, True],[True, True, True]]\n",
    "allPath(\"\",board,0,0)"
   ]
  }
 ],
 "metadata": {
  "kernelspec": {
   "display_name": "Python 3 (ipykernel)",
   "language": "python",
   "name": "python3"
  },
  "language_info": {
   "codemirror_mode": {
    "name": "ipython",
    "version": 3
   },
   "file_extension": ".py",
   "mimetype": "text/x-python",
   "name": "python",
   "nbconvert_exporter": "python",
   "pygments_lexer": "ipython3",
   "version": "3.9.13"
  }
 },
 "nbformat": 4,
 "nbformat_minor": 5
}
