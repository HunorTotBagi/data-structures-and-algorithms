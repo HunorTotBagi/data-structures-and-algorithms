{
 "cells": [
  {
   "cell_type": "code",
   "execution_count": 3,
   "id": "75e39136",
   "metadata": {},
   "outputs": [
    {
     "data": {
      "text/plain": [
       "['dd',\n",
       " 'dDR',\n",
       " 'dRD',\n",
       " 'DdR',\n",
       " 'DDRR',\n",
       " 'DRd',\n",
       " 'DRDR',\n",
       " 'DRRD',\n",
       " 'RdD',\n",
       " 'RDd',\n",
       " 'RDDR',\n",
       " 'RDRD',\n",
       " 'RRDD']"
      ]
     },
     "execution_count": 3,
     "metadata": {},
     "output_type": "execute_result"
    }
   ],
   "source": [
    "def pathDiag(p, r, c):\n",
    "    if r == 1 and c == 1:\n",
    "        lista = []\n",
    "        lista.append(p)\n",
    "        return lista\n",
    "        \n",
    "    lista = []\n",
    "    \n",
    "    if r > 1 and c > 1:\n",
    "        lista.extend(pathDiag(p + 'd', r - 1, c - 1))\n",
    "    if r > 1:\n",
    "        lista.extend(pathDiag(p + 'D', r - 1, c))\n",
    "    if c > 1:\n",
    "        lista.extend(pathDiag(p + 'R', r, c - 1))\n",
    "    \n",
    "        \n",
    "    return lista\n",
    "    \n",
    "pathDiag(\"\",3,3)"
   ]
  }
 ],
 "metadata": {
  "kernelspec": {
   "display_name": "Python 3 (ipykernel)",
   "language": "python",
   "name": "python3"
  },
  "language_info": {
   "codemirror_mode": {
    "name": "ipython",
    "version": 3
   },
   "file_extension": ".py",
   "mimetype": "text/x-python",
   "name": "python",
   "nbconvert_exporter": "python",
   "pygments_lexer": "ipython3",
   "version": "3.9.13"
  }
 },
 "nbformat": 4,
 "nbformat_minor": 5
}
