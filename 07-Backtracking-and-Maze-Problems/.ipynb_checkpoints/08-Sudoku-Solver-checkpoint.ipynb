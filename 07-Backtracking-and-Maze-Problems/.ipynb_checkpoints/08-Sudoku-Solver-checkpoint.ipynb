{
 "cells": [
  {
   "cell_type": "code",
   "execution_count": 91,
   "id": "141e1e8d",
   "metadata": {},
   "outputs": [],
   "source": [
    "import numpy as np\n",
    "\n",
    "def display(board):\n",
    "    n = len(board)\n",
    "    for i in range(n):\n",
    "        for j in range(n):\n",
    "            print(board[i][j])\n",
    "\n",
    "def isSafe(board, row, col, num):\n",
    "    n = len(board)\n",
    "     \n",
    "    # Check the row\n",
    "    for i in range(n):\n",
    "        if board[row][i] == num:\n",
    "            return False\n",
    "        \n",
    "    # Check the col\n",
    "    for i in range(n):\n",
    "        if board[i][col] == num:\n",
    "            return False\n",
    "        \n",
    "    sqrt = int(np.sqrt(n))\n",
    "    rowStart = row - row % sqrt\n",
    "    colStart = col - col % sqrt\n",
    "    \n",
    "    for r in range(rowStart, rowStart + sqrt):\n",
    "        for c in range(colStart, colStart + sqrt):\n",
    "            if board[r][c] == num:\n",
    "                return False\n",
    "            \n",
    "    return True\n",
    "        \n",
    "\n",
    "def solve(board):\n",
    "    n = len(board)\n",
    "    row = -1\n",
    "    col = -1\n",
    "    \n",
    "    emptyLeft = True\n",
    "    \n",
    "    for i in range(n):\n",
    "        for j in range(n):\n",
    "            if board[i][j] == 0:\n",
    "                row = i\n",
    "                col = j\n",
    "                emptyLeft = False\n",
    "                break\n",
    "        # if you found some empty element in row, then break\n",
    "        if emptyLeft == False:\n",
    "            break\n",
    "    if emptyLeft == True:\n",
    "        return True\n",
    "        # Sudoku is solved\n",
    "        \n",
    "    for number in range(1,10):\n",
    "        if isSafe(board, row, col, number):\n",
    "            board[row][col] = number\n",
    "            if solve(board):\n",
    "                #print(board)\n",
    "                return True\n",
    "            else:\n",
    "                board[row][col] = 0\n",
    "\n",
    "    return False"
   ]
  },
  {
   "cell_type": "code",
   "execution_count": 92,
   "id": "1e388de2",
   "metadata": {},
   "outputs": [
    {
     "data": {
      "text/plain": [
       "[[5, 3, 4, 6, 7, 8, 9, 1, 2],\n",
       " [6, 7, 2, 1, 9, 5, 3, 4, 8],\n",
       " [1, 9, 8, 3, 4, 2, 5, 6, 7],\n",
       " [8, 5, 9, 7, 6, 1, 4, 2, 3],\n",
       " [4, 2, 6, 8, 5, 3, 7, 9, 1],\n",
       " [7, 1, 3, 9, 2, 4, 8, 5, 6],\n",
       " [9, 6, 1, 5, 3, 7, 2, 8, 4],\n",
       " [2, 8, 7, 4, 1, 9, 6, 3, 5],\n",
       " [3, 4, 5, 2, 8, 6, 1, 7, 9]]"
      ]
     },
     "execution_count": 92,
     "metadata": {},
     "output_type": "execute_result"
    }
   ],
   "source": [
    "board = [[5,3,0,0,7,0,0,0,0]\n",
    "         ,[6,0,0,1,9,5,0,0,0]\n",
    "         ,[0,9,8,0,0,0,0,6,0]\n",
    "         ,[8,0,0,0,6,0,0,0,3]\n",
    "         ,[4,0,0,8,0,3,0,0,1]\n",
    "         ,[7,0,0,0,2,0,0,0,6]\n",
    "         ,[0,6,0,0,0,0,2,8,0]\n",
    "         ,[0,0,0,4,1,9,0,0,5]\n",
    "         ,[0,0,0,0,8,0,0,7,9]] \n",
    "\n",
    "solve(board)\n",
    "board"
   ]
  },
  {
   "cell_type": "code",
   "execution_count": 93,
   "id": "390d67df",
   "metadata": {},
   "outputs": [
    {
     "data": {
      "text/plain": [
       "[[7, 8, 5, 4, 3, 9, 1, 2, 6],\n",
       " [6, 1, 2, 8, 7, 5, 3, 4, 9],\n",
       " [4, 9, 3, 6, 2, 1, 5, 7, 8],\n",
       " [8, 5, 7, 9, 4, 3, 2, 6, 1],\n",
       " [2, 6, 1, 7, 5, 8, 9, 3, 4],\n",
       " [9, 3, 4, 1, 6, 2, 7, 8, 5],\n",
       " [5, 7, 8, 3, 9, 4, 6, 1, 2],\n",
       " [1, 2, 6, 5, 8, 7, 4, 9, 3],\n",
       " [3, 4, 9, 2, 1, 6, 8, 5, 7]]"
      ]
     },
     "execution_count": 93,
     "metadata": {},
     "output_type": "execute_result"
    }
   ],
   "source": [
    "grid =[\n",
    "        [7, 8, 0, 4, 0, 0, 1, 2, 0],\n",
    "        [6, 0, 0, 0, 7, 5, 0, 0, 9],\n",
    "        [0, 0, 0, 6, 0, 1, 0, 7, 8],\n",
    "        [0, 0, 7, 0, 4, 0, 2, 6, 0],\n",
    "        [0, 0, 1, 0, 5, 0, 9, 3, 0],\n",
    "        [9, 0, 4, 0, 6, 0, 0, 0, 5],\n",
    "        [0, 7, 0, 3, 0, 0, 0, 1, 2],\n",
    "        [1, 2, 0, 0, 0, 7, 4, 0, 0],\n",
    "        [0, 4, 9, 2, 0, 6, 0, 0, 7]\n",
    "    ]\n",
    "solve(grid)\n",
    "grid"
   ]
  }
 ],
 "metadata": {
  "kernelspec": {
   "display_name": "Python 3 (ipykernel)",
   "language": "python",
   "name": "python3"
  },
  "language_info": {
   "codemirror_mode": {
    "name": "ipython",
    "version": 3
   },
   "file_extension": ".py",
   "mimetype": "text/x-python",
   "name": "python",
   "nbconvert_exporter": "python",
   "pygments_lexer": "ipython3",
   "version": "3.9.13"
  }
 },
 "nbformat": 4,
 "nbformat_minor": 5
}
