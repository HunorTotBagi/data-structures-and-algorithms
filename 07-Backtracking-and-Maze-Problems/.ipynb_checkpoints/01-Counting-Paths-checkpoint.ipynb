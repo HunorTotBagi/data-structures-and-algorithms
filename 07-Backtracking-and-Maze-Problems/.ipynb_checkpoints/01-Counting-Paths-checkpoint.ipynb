{
 "cells": [
  {
   "cell_type": "markdown",
   "id": "de711e4b",
   "metadata": {},
   "source": [
    "#### In a 3x3 matrix print the ways to reach the end (2,2) from start (0,0) by only going right and down."
   ]
  },
  {
   "cell_type": "code",
   "execution_count": 7,
   "id": "9a20eaca",
   "metadata": {},
   "outputs": [
    {
     "data": {
      "text/plain": [
       "6"
      ]
     },
     "execution_count": 7,
     "metadata": {},
     "output_type": "execute_result"
    }
   ],
   "source": [
    "def ways(r, c):\n",
    "    if r == 1 or c == 1:\n",
    "        return 1\n",
    "    return ways(r - 1, c) + ways(r, c - 1)\n",
    "\n",
    "ways(3,3)"
   ]
  },
  {
   "cell_type": "code",
   "execution_count": null,
   "id": "d2696da6",
   "metadata": {},
   "outputs": [],
   "source": []
  }
 ],
 "metadata": {
  "kernelspec": {
   "display_name": "Python 3 (ipykernel)",
   "language": "python",
   "name": "python3"
  },
  "language_info": {
   "codemirror_mode": {
    "name": "ipython",
    "version": 3
   },
   "file_extension": ".py",
   "mimetype": "text/x-python",
   "name": "python",
   "nbconvert_exporter": "python",
   "pygments_lexer": "ipython3",
   "version": "3.9.13"
  }
 },
 "nbformat": 4,
 "nbformat_minor": 5
}
