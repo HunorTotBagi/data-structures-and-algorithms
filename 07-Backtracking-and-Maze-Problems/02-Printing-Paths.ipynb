{
 "cells": [
  {
   "cell_type": "code",
   "execution_count": 26,
   "id": "388faec0",
   "metadata": {},
   "outputs": [
    {
     "name": "stdout",
     "output_type": "stream",
     "text": [
      "DDRR\n",
      "DRDR\n",
      "DRRD\n",
      "RDDR\n",
      "RDRD\n",
      "RRDD\n"
     ]
    }
   ],
   "source": [
    "def path(p, r, c):\n",
    "    if r == 1 and c == 1:\n",
    "        print(p)\n",
    "        return\n",
    "    if r > 1:\n",
    "        path(p + 'D', r - 1, c)\n",
    "    if c > 1:\n",
    "        path(p + 'R', r, c - 1)\n",
    "    \n",
    "path(\"\",3,3)"
   ]
  },
  {
   "cell_type": "markdown",
   "id": "7a7f68fd",
   "metadata": {},
   "source": [
    "#### What is we want to return an array list?"
   ]
  },
  {
   "cell_type": "code",
   "execution_count": 29,
   "id": "78188ff6",
   "metadata": {},
   "outputs": [
    {
     "data": {
      "text/plain": [
       "['DDRR', 'DRDR', 'DRRD', 'RDDR', 'RDRD', 'RRDD']"
      ]
     },
     "execution_count": 29,
     "metadata": {},
     "output_type": "execute_result"
    }
   ],
   "source": [
    "def pathRet(p, r, c):\n",
    "    if r == 1 and c == 1:\n",
    "        lista = []\n",
    "        lista.append(p)\n",
    "        return lista\n",
    "        \n",
    "    lista = []\n",
    "    \n",
    "    if r > 1:\n",
    "        lista.extend(pathRet(p + 'D', r - 1, c))\n",
    "    if c > 1:\n",
    "        lista.extend(pathRet(p + 'R', r, c - 1))\n",
    "        \n",
    "    return lista\n",
    "    \n",
    "pathRet(\"\",3,3)"
   ]
  }
 ],
 "metadata": {
  "kernelspec": {
   "display_name": "Python 3 (ipykernel)",
   "language": "python",
   "name": "python3"
  },
  "language_info": {
   "codemirror_mode": {
    "name": "ipython",
    "version": 3
   },
   "file_extension": ".py",
   "mimetype": "text/x-python",
   "name": "python",
   "nbconvert_exporter": "python",
   "pygments_lexer": "ipython3",
   "version": "3.9.13"
  }
 },
 "nbformat": 4,
 "nbformat_minor": 5
}
