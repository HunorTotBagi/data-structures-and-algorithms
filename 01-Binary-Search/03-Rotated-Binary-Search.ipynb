{
 "cells": [
  {
   "cell_type": "markdown",
   "id": "3a3a2a54",
   "metadata": {},
   "source": [
    "Q: There is an integer array nums sorted in ascending order (with distinct values).\n",
    "\n",
    "Prior to being passed to your function, nums is possibly rotated at an unknown pivot index k (1 <= k < nums.length) such that the resulting array is [nums[k], nums[k+1], ..., nums[n-1], nums[0], nums[1], ..., nums[k-1]] (0-indexed). For example, [0,1,2,4,5,6,7] might be rotated at pivot index 3 and become [4,5,6,7,0,1,2].\n",
    "\n",
    "Given the array nums after the possible rotation and an integer target, return the index of target if it is in nums, or -1 if it is not in nums.\n",
    "\n",
    "You must write an algorithm with $\\mathcal{O}(\\log n)$ runtime complexity."
   ]
  },
  {
   "cell_type": "code",
   "execution_count": 1,
   "id": "5dd19774",
   "metadata": {},
   "outputs": [],
   "source": [
    "# Rewritten Binary Search for ascending array out of head\n",
    "def BinarySearch(arr, target, start, end):\n",
    "    while start <= end:\n",
    "        mid = int(start + (end - start) / 2)\n",
    "        if target < arr[mid]:\n",
    "            end = mid - 1\n",
    "        elif target > arr[mid]:\n",
    "            start = mid + 1\n",
    "        else:\n",
    "            return mid\n",
    "    return -1"
   ]
  },
  {
   "cell_type": "code",
   "execution_count": 2,
   "id": "b0ffc518",
   "metadata": {},
   "outputs": [],
   "source": [
    "def findPivot(arr):\n",
    "    start = 0\n",
    "    end = len(arr)-1\n",
    "    while start <= end:\n",
    "        mid = int(start + (end - start) / 2)\n",
    "        \n",
    "        if mid < end and arr[mid] > arr[mid+1]:\n",
    "            return mid\n",
    "        if mid > start and arr[mid] < arr[mid-1]:\n",
    "            return mid - 1\n",
    "        if arr[mid] <= arr[start]:\n",
    "            end = mid - 1\n",
    "        else:\n",
    "            start = mid + 1\n",
    "    return -1"
   ]
  },
  {
   "cell_type": "code",
   "execution_count": 3,
   "id": "a110e340",
   "metadata": {},
   "outputs": [],
   "source": [
    "def RotatedBinarySearch(arr,target):\n",
    "    pivot = findPivot(arr)\n",
    "    print(\"Pivot is on index %s\" %pivot)\n",
    "    \n",
    "    if pivot == -1: # If you did not find a pivot, it means the array is not rotated\n",
    "        return BinarySearch(arr, target, 0, len(arr) - 1)\n",
    "    # If pivot found, we have found 2 ascending sorted arrays\n",
    "    if arr[pivot] == target:\n",
    "        return pivot \n",
    "    if arr[0] <= target <= arr[pivot]:\n",
    "        print('Target is left')\n",
    "        start = 0\n",
    "        end = pivot\n",
    "        return BinarySearch(arr, target, start, end)\n",
    "    else:\n",
    "        print('Target is right')\n",
    "        start = pivot + 1\n",
    "        end = len(arr) - 1\n",
    "        return BinarySearch(arr, target, start, end)"
   ]
  },
  {
   "cell_type": "markdown",
   "id": "c456eb0d",
   "metadata": {},
   "source": [
    "Test Cases"
   ]
  },
  {
   "cell_type": "code",
   "execution_count": 4,
   "id": "2475e864",
   "metadata": {},
   "outputs": [
    {
     "name": "stdout",
     "output_type": "stream",
     "text": [
      "Pivot is on index 3\n",
      "Target is right\n"
     ]
    },
    {
     "data": {
      "text/plain": [
       "4"
      ]
     },
     "execution_count": 4,
     "metadata": {},
     "output_type": "execute_result"
    }
   ],
   "source": [
    "nums1 = [4,5,6,7,0,1,2]\n",
    "target1 = 0\n",
    "RotatedBinarySearch(nums1,target1)"
   ]
  },
  {
   "cell_type": "code",
   "execution_count": 5,
   "id": "29f06dfd",
   "metadata": {},
   "outputs": [
    {
     "name": "stdout",
     "output_type": "stream",
     "text": [
      "Pivot is on index 3\n",
      "Target is right\n"
     ]
    },
    {
     "data": {
      "text/plain": [
       "-1"
      ]
     },
     "execution_count": 5,
     "metadata": {},
     "output_type": "execute_result"
    }
   ],
   "source": [
    "nums2 = [4,5,6,7,0,1,2]\n",
    "target2 = 3\n",
    "RotatedBinarySearch(nums2,target2)"
   ]
  },
  {
   "cell_type": "code",
   "execution_count": 6,
   "id": "f057d92a",
   "metadata": {},
   "outputs": [
    {
     "name": "stdout",
     "output_type": "stream",
     "text": [
      "Pivot is on index -1\n"
     ]
    },
    {
     "data": {
      "text/plain": [
       "-1"
      ]
     },
     "execution_count": 6,
     "metadata": {},
     "output_type": "execute_result"
    }
   ],
   "source": [
    "nums3 = [1]\n",
    "target3 = 0\n",
    "RotatedBinarySearch(nums3,target3)"
   ]
  }
 ],
 "metadata": {
  "kernelspec": {
   "display_name": "Python 3 (ipykernel)",
   "language": "python",
   "name": "python3"
  },
  "language_info": {
   "codemirror_mode": {
    "name": "ipython",
    "version": 3
   },
   "file_extension": ".py",
   "mimetype": "text/x-python",
   "name": "python",
   "nbconvert_exporter": "python",
   "pygments_lexer": "ipython3",
   "version": "3.9.13"
  }
 },
 "nbformat": 4,
 "nbformat_minor": 5
}
