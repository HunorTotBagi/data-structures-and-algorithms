{
 "cells": [
  {
   "cell_type": "markdown",
   "id": "86c00fd1",
   "metadata": {},
   "source": [
    "No duplicate elements. Arr is guaranteed to be a mountain."
   ]
  },
  {
   "cell_type": "markdown",
   "id": "2e70b509",
   "metadata": {},
   "source": [
    "Applying Binary Search without a target "
   ]
  },
  {
   "cell_type": "code",
   "execution_count": 3,
   "id": "9caee8d8",
   "metadata": {},
   "outputs": [],
   "source": [
    "def PeakMountain(arr):\n",
    "    start = 0\n",
    "    end = len(arr)-1\n",
    "\n",
    "    while start < end:\n",
    "        mid = int(start + (end - start) / 2)\n",
    "\n",
    "        if arr[mid] > arr[mid+1]: # We are in decreasing part of the array\n",
    "        # So may be the answer, but look left\n",
    "        # This is why end != mid -1\n",
    "            end = mid\n",
    "        else: # We are in ascending part of the array\n",
    "            start = mid + 1\n",
    "            # Because we know that mid + 1 element > mid element\n",
    "        # In the end start == end and pointing to the largetst\n",
    "        # number because of the 2 checks above\n",
    "        # Start and end are always trying to find max element in the \n",
    "        # above 2 checks hence, when they are pointing to just one \n",
    "        # element, that is the max one because that checks say\n",
    "\n",
    "        # More elaboration: at every point of time for start and end,\n",
    "        # they have the best possible answer till that time. And if we are\n",
    "        # saying that only one item is remaining, hence cuz of above line that\n",
    "        # is the best possible answer.\n",
    "    return start, arr[start] # or end both are equal"
   ]
  },
  {
   "cell_type": "code",
   "execution_count": 4,
   "id": "3103c48d",
   "metadata": {},
   "outputs": [
    {
     "data": {
      "text/plain": [
       "(4, 6)"
      ]
     },
     "execution_count": 4,
     "metadata": {},
     "output_type": "execute_result"
    }
   ],
   "source": [
    "arr1 = [1,2,3,5,6,4,3,2]\n",
    "PeakMountain(arr1)"
   ]
  },
  {
   "cell_type": "code",
   "execution_count": 5,
   "id": "24f499c6",
   "metadata": {},
   "outputs": [
    {
     "data": {
      "text/plain": [
       "(1, 1)"
      ]
     },
     "execution_count": 5,
     "metadata": {},
     "output_type": "execute_result"
    }
   ],
   "source": [
    "arr2 = [0,1,0]\n",
    "PeakMountain(arr2)"
   ]
  },
  {
   "cell_type": "code",
   "execution_count": 6,
   "id": "44d319ed",
   "metadata": {},
   "outputs": [
    {
     "data": {
      "text/plain": [
       "(1, 2)"
      ]
     },
     "execution_count": 6,
     "metadata": {},
     "output_type": "execute_result"
    }
   ],
   "source": [
    "arr3 = [0,2,1,0]\n",
    "PeakMountain(arr3)"
   ]
  },
  {
   "cell_type": "code",
   "execution_count": 7,
   "id": "b17ac887",
   "metadata": {},
   "outputs": [
    {
     "data": {
      "text/plain": [
       "(1, 10)"
      ]
     },
     "execution_count": 7,
     "metadata": {},
     "output_type": "execute_result"
    }
   ],
   "source": [
    "arr4 = [0,10,5,2]\n",
    "PeakMountain(arr4)"
   ]
  }
 ],
 "metadata": {
  "kernelspec": {
   "display_name": "Python 3 (ipykernel)",
   "language": "python",
   "name": "python3"
  },
  "language_info": {
   "codemirror_mode": {
    "name": "ipython",
    "version": 3
   },
   "file_extension": ".py",
   "mimetype": "text/x-python",
   "name": "python",
   "nbconvert_exporter": "python",
   "pygments_lexer": "ipython3",
   "version": "3.9.13"
  }
 },
 "nbformat": 4,
 "nbformat_minor": 5
}
