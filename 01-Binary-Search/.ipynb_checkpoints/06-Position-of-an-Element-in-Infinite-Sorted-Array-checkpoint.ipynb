{
 "cells": [
  {
   "cell_type": "markdown",
   "id": "71e4f8ba",
   "metadata": {},
   "source": [
    "Find position of an element in a sorted array of infinite numbers without using the length function."
   ]
  },
  {
   "cell_type": "code",
   "execution_count": 6,
   "id": "2cf0e982",
   "metadata": {},
   "outputs": [],
   "source": [
    "def BinarySearchInfinite(arr, target, start, end):  \n",
    "    while (start <= end):\n",
    "        mid = int(start + (end - start) / 2)\n",
    "        if target < arr[mid]:\n",
    "            end = mid - 1\n",
    "        elif target > arr[mid]:\n",
    "            start = mid + 1\n",
    "        else:\n",
    "            return mid\n",
    "    return -1"
   ]
  },
  {
   "cell_type": "code",
   "execution_count": 7,
   "id": "1d9a9aca",
   "metadata": {},
   "outputs": [],
   "source": [
    "def start_end(arr, target):\n",
    "    # First find the range.\n",
    "    # First start with a box of size 2\n",
    "    start = 0\n",
    "    end = 1\n",
    "    \n",
    "    # Condition for the target to lie in the range\n",
    "    while arr[end] < target:\n",
    "        new_start = end + 1\n",
    "        # Double the box value\n",
    "        # end = prevous end + sizeofbox*2\n",
    "        end = end + (end - start + 1) * 2\n",
    "        start = new_start \n",
    "    \n",
    "    return BinarySearchInfinite(arr, target, start, end)    "
   ]
  },
  {
   "cell_type": "code",
   "execution_count": 8,
   "id": "918fba23",
   "metadata": {},
   "outputs": [
    {
     "data": {
      "text/plain": [
       "4"
      ]
     },
     "execution_count": 8,
     "metadata": {},
     "output_type": "execute_result"
    }
   ],
   "source": [
    "start_end([3,5,7,9,10,90,100,130,140,160,170], 10)"
   ]
  },
  {
   "cell_type": "markdown",
   "id": "21fb788c",
   "metadata": {},
   "source": [
    "The point of this exercise was to solve the Binary Search problem without getting the length of the array."
   ]
  }
 ],
 "metadata": {
  "kernelspec": {
   "display_name": "Python 3 (ipykernel)",
   "language": "python",
   "name": "python3"
  },
  "language_info": {
   "codemirror_mode": {
    "name": "ipython",
    "version": 3
   },
   "file_extension": ".py",
   "mimetype": "text/x-python",
   "name": "python",
   "nbconvert_exporter": "python",
   "pygments_lexer": "ipython3",
   "version": "3.9.13"
  }
 },
 "nbformat": 4,
 "nbformat_minor": 5
}
