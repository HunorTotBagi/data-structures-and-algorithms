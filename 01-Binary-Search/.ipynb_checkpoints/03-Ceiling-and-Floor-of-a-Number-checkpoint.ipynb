{
 "cells": [
  {
   "cell_type": "markdown",
   "id": "981eda68",
   "metadata": {},
   "source": [
    "Determine the ceiling of a target number, which is defined as the smallest number in the array that is greater than or equal to the target number."
   ]
  },
  {
   "cell_type": "code",
   "execution_count": 1,
   "id": "e655b244",
   "metadata": {},
   "outputs": [],
   "source": [
    "def BinarySearchCeiling(arr, target):\n",
    "    if target > arr[-1]: # What if the target is greater than the greatest number in the array\n",
    "        return -1\n",
    "    start = 0\n",
    "    end = len(arr) - 1\n",
    "    asc_or_desc = arr[0] < arr[-1]\n",
    "    while start <= end:\n",
    "        mid = int(start + (end - start) / 2)\n",
    "        if arr[mid] == target:\n",
    "            return mid\n",
    "        if  asc_or_desc:\n",
    "            if target < arr[mid]:\n",
    "                end = mid - 1\n",
    "            elif target > arr[mid]:\n",
    "                start = mid + 1\n",
    "        else:\n",
    "            if target > arr[mid]:\n",
    "                end = mid - 1\n",
    "            elif target < arr[mid]:\n",
    "                start = mid + 1\n",
    "    return start"
   ]
  },
  {
   "cell_type": "markdown",
   "id": "0a895501",
   "metadata": {},
   "source": [
    "The only deviation from the classical Binary Search algorithm is the condition for ending the while loop, which results in the next largest element being precisely the index at 'start'."
   ]
  },
  {
   "cell_type": "markdown",
   "id": "b4d04627",
   "metadata": {},
   "source": [
    "Target is not in the list"
   ]
  },
  {
   "cell_type": "code",
   "execution_count": 2,
   "id": "27deed47",
   "metadata": {},
   "outputs": [
    {
     "data": {
      "text/plain": [
       "5"
      ]
     },
     "execution_count": 2,
     "metadata": {},
     "output_type": "execute_result"
    }
   ],
   "source": [
    "arr1 = [2,3,5,9,14,16,18]\n",
    "BinarySearchCeiling(arr1, 15)"
   ]
  },
  {
   "cell_type": "markdown",
   "id": "9c551555",
   "metadata": {},
   "source": [
    "Target is in the list"
   ]
  },
  {
   "cell_type": "code",
   "execution_count": 3,
   "id": "fc6d4528",
   "metadata": {},
   "outputs": [
    {
     "data": {
      "text/plain": [
       "5"
      ]
     },
     "execution_count": 3,
     "metadata": {},
     "output_type": "execute_result"
    }
   ],
   "source": [
    "BinarySearchCeiling(arr1, 16)"
   ]
  },
  {
   "cell_type": "code",
   "execution_count": 4,
   "id": "ab75921e",
   "metadata": {},
   "outputs": [],
   "source": [
    "def BinarySearchFloor(arr, target):\n",
    "    start = 0\n",
    "    end = len(arr) - 1\n",
    "    asc_or_desc = arr[0] < arr[-1]\n",
    "    while (start <= end):\n",
    "        mid = int(start + (end - start) / 2)\n",
    "        if arr[mid] == target:\n",
    "            return mid\n",
    "        if asc_or_desc:\n",
    "            if target < arr[mid]:\n",
    "                end = mid - 1\n",
    "            elif target > arr[mid]:\n",
    "                start = mid + 1\n",
    "        else:\n",
    "            if target > arr[mid]:\n",
    "                end = mid - 1\n",
    "            elif target < arr[mid]:\n",
    "                start = mid + 1\n",
    "    return end"
   ]
  },
  {
   "cell_type": "markdown",
   "id": "7eceb6e5",
   "metadata": {},
   "source": [
    "The alteration from the traditional Binary Search approach lies in the while loop termination condition, leading to the previous smallest element being precisely represented by the 'end' index.\""
   ]
  },
  {
   "cell_type": "markdown",
   "id": "9ac8f007",
   "metadata": {},
   "source": [
    "Target is not in the list"
   ]
  },
  {
   "cell_type": "code",
   "execution_count": 5,
   "id": "9fed14df",
   "metadata": {},
   "outputs": [
    {
     "data": {
      "text/plain": [
       "4"
      ]
     },
     "execution_count": 5,
     "metadata": {},
     "output_type": "execute_result"
    }
   ],
   "source": [
    "arr3 = [2,3,5,9,14,16,18]\n",
    "BinarySearchFloor(arr3, 15)"
   ]
  },
  {
   "cell_type": "markdown",
   "id": "9e8954a0",
   "metadata": {},
   "source": [
    "Target is in the list"
   ]
  },
  {
   "cell_type": "code",
   "execution_count": 6,
   "id": "9c093c5f",
   "metadata": {},
   "outputs": [
    {
     "data": {
      "text/plain": [
       "1"
      ]
     },
     "execution_count": 6,
     "metadata": {},
     "output_type": "execute_result"
    }
   ],
   "source": [
    "BinarySearchFloor(arr3, 3)"
   ]
  },
  {
   "cell_type": "markdown",
   "id": "28761f4a",
   "metadata": {},
   "source": [
    "Target is smaller than the smallest element in the array"
   ]
  },
  {
   "cell_type": "code",
   "execution_count": 7,
   "id": "57f85768",
   "metadata": {},
   "outputs": [
    {
     "data": {
      "text/plain": [
       "-1"
      ]
     },
     "execution_count": 7,
     "metadata": {},
     "output_type": "execute_result"
    }
   ],
   "source": [
    "BinarySearchFloor(arr3, 1)"
   ]
  }
 ],
 "metadata": {
  "kernelspec": {
   "display_name": "Python 3 (ipykernel)",
   "language": "python",
   "name": "python3"
  },
  "language_info": {
   "codemirror_mode": {
    "name": "ipython",
    "version": 3
   },
   "file_extension": ".py",
   "mimetype": "text/x-python",
   "name": "python",
   "nbconvert_exporter": "python",
   "pygments_lexer": "ipython3",
   "version": "3.9.13"
  }
 },
 "nbformat": 4,
 "nbformat_minor": 5
}
