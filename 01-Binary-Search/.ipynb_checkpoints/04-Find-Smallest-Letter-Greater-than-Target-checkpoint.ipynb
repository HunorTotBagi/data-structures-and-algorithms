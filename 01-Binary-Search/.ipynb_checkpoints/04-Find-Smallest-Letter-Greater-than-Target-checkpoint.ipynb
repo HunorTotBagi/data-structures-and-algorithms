{
 "cells": [
  {
   "cell_type": "markdown",
   "id": "c28fac0d",
   "metadata": {},
   "source": [
    "You are given an array of characters letters that is sorted in non-decreasing order, and a character target. There are at least two different characters in letters. Return the smallest character in letters that is lexicographically greater than target. If such a character does not exist, return the first character in letters."
   ]
  },
  {
   "cell_type": "code",
   "execution_count": 1,
   "id": "a478cd1f",
   "metadata": {},
   "outputs": [],
   "source": [
    "def BinarySearchLetters(arr, target):\n",
    "    start = 0\n",
    "    end = len(arr) - 1\n",
    "    while start <= end:\n",
    "        mid = int(start + (end - start) / 2)\n",
    "        if target < arr[mid]:\n",
    "            end = mid - 1\n",
    "        else:\n",
    "            start = mid + 1\n",
    "    return arr[start % len(arr)]"
   ]
  },
  {
   "cell_type": "markdown",
   "id": "c5be7f08",
   "metadata": {},
   "source": [
    "Test Cases"
   ]
  },
  {
   "cell_type": "code",
   "execution_count": 2,
   "id": "fa43f046",
   "metadata": {},
   "outputs": [
    {
     "data": {
      "text/plain": [
       "'c'"
      ]
     },
     "execution_count": 2,
     "metadata": {},
     "output_type": "execute_result"
    }
   ],
   "source": [
    "BinarySearchLetters([\"c\",\"f\",\"j\"], \"a\")"
   ]
  },
  {
   "cell_type": "code",
   "execution_count": 3,
   "id": "e8a0bfc3",
   "metadata": {},
   "outputs": [
    {
     "data": {
      "text/plain": [
       "'f'"
      ]
     },
     "execution_count": 3,
     "metadata": {},
     "output_type": "execute_result"
    }
   ],
   "source": [
    "BinarySearchLetters([\"c\",\"f\",\"j\"], \"c\")"
   ]
  },
  {
   "cell_type": "code",
   "execution_count": 4,
   "id": "cc5fdc78",
   "metadata": {},
   "outputs": [
    {
     "data": {
      "text/plain": [
       "'x'"
      ]
     },
     "execution_count": 4,
     "metadata": {},
     "output_type": "execute_result"
    }
   ],
   "source": [
    "BinarySearchLetters([\"x\",\"x\",\"y\",\"y\"], \"z\")"
   ]
  }
 ],
 "metadata": {
  "kernelspec": {
   "display_name": "Python 3 (ipykernel)",
   "language": "python",
   "name": "python3"
  },
  "language_info": {
   "codemirror_mode": {
    "name": "ipython",
    "version": 3
   },
   "file_extension": ".py",
   "mimetype": "text/x-python",
   "name": "python",
   "nbconvert_exporter": "python",
   "pygments_lexer": "ipython3",
   "version": "3.9.13"
  }
 },
 "nbformat": 4,
 "nbformat_minor": 5
}
