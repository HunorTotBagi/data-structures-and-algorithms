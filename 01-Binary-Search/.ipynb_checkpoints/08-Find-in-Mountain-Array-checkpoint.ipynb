{
 "cells": [
  {
   "cell_type": "markdown",
   "id": "0405bc5d",
   "metadata": {},
   "source": [
    "You may recall that an array arr is a mountain array if and only if:\n",
    "\n",
    "arr.length >= 3\n",
    "\n",
    "There exists some i with 0 < i < arr.length - 1 such that:\n",
    "\n",
    "arr[0] < arr[1] < ... < arr[i - 1] < arr[i]\n",
    "\n",
    "arr[i] > arr[i + 1] > ... > arr[arr.length - 1]\n",
    "\n",
    "Given a mountain array mountainArr, return the minimum index such that mountainArr.get(index) == target. If such an index does not exist, return -1.\n",
    "\n",
    "You cannot access the mountain array directly. You may only access the array using a MountainArray interface:\n",
    "\n",
    "MountainArray.get(k) returns the element of the array at index k (0-indexed).\n",
    "\n",
    "MountainArray.length() returns the length of the array.\n",
    "\n",
    "Submissions making more than 100 calls to MountainArray.get will be judged Wrong Answer. Also, any solutions that attempt to circumvent the judge will result in disqualification."
   ]
  },
  {
   "cell_type": "code",
   "execution_count": 21,
   "id": "5efa985b",
   "metadata": {},
   "outputs": [],
   "source": [
    "# Using to get the peak element in the array.\n",
    "def PeakMountain(arr):\n",
    "    start = 0\n",
    "    end = len(arr)-1\n",
    "    while start < end:\n",
    "        mid = int(start + (end - start) / 2)\n",
    "        if arr[mid] > arr[mid+1]:\n",
    "            end = mid\n",
    "        else: \n",
    "            start = mid + 1\n",
    "    return start"
   ]
  },
  {
   "cell_type": "code",
   "execution_count": 40,
   "id": "2c1b3f25",
   "metadata": {},
   "outputs": [],
   "source": [
    "# Using for ascending part. Can be replaced with the function below.\n",
    "\n",
    "def BinarySearchInfinite(arr, target, start, end):  \n",
    "    while (start <= end):\n",
    "        \n",
    "        mid = int(start + (end - start) / 2) # This way int can't \"explode\"\n",
    "        # This is same as \"(start+end)/2\"\n",
    "        \n",
    "        if target < arr[mid]:\n",
    "            end = mid - 1\n",
    "        elif target > arr[mid]:\n",
    "            start = mid + 1\n",
    "        else:\n",
    "            return mid\n",
    "        \n",
    "    return -1"
   ]
  },
  {
   "cell_type": "code",
   "execution_count": 23,
   "id": "8cb02b2c",
   "metadata": {},
   "outputs": [],
   "source": [
    "def asc_or_desc(arr):\n",
    "    return arr[0]<arr[-1]"
   ]
  },
  {
   "cell_type": "code",
   "execution_count": 42,
   "id": "1fb6dd65",
   "metadata": {},
   "outputs": [],
   "source": [
    "# Using for the second half of the array, the descending part.\n",
    "def BinarySearch(arr, target, start, end):\n",
    "    while (start <= end):\n",
    "        mid = int(start + (end - start) / 2) # This way int can't \"explode\"\n",
    "        \n",
    "        if arr[mid] == target:\n",
    "            return mid\n",
    "        \n",
    "        if asc_or_desc(arr): # Ascending case.\n",
    "            if target < arr[mid]:\n",
    "                end = mid - 1\n",
    "            elif target > arr[mid]:\n",
    "                start = mid + 1\n",
    "        else: # Descending case.\n",
    "            if target > arr[mid]:\n",
    "                end = mid - 1\n",
    "            elif target < arr[mid]:\n",
    "                start = mid + 1\n",
    "    return -1"
   ]
  },
  {
   "cell_type": "code",
   "execution_count": 49,
   "id": "1670c13d",
   "metadata": {},
   "outputs": [],
   "source": [
    "def search(arr, target):\n",
    "    peak = PeakMountain(arr)\n",
    "    first_try = BinarySearchInfinite(arr, target, 0, peak)\n",
    "    second_half = BinarySearch(arr, target, peak + 1, len(arr)-1)\n",
    "    if first_try != -1:\n",
    "        return first_try\n",
    "    elif second_half != -1:\n",
    "        return second_half\n",
    "    else:\n",
    "        return -1"
   ]
  },
  {
   "cell_type": "code",
   "execution_count": 44,
   "id": "ce83e87d",
   "metadata": {},
   "outputs": [
    {
     "data": {
      "text/plain": [
       "2"
      ]
     },
     "execution_count": 44,
     "metadata": {},
     "output_type": "execute_result"
    }
   ],
   "source": [
    "search([1,2,3,4,5,3,1],3)"
   ]
  },
  {
   "cell_type": "code",
   "execution_count": 50,
   "id": "fb74a443",
   "metadata": {},
   "outputs": [
    {
     "data": {
      "text/plain": [
       "-1"
      ]
     },
     "execution_count": 50,
     "metadata": {},
     "output_type": "execute_result"
    }
   ],
   "source": [
    "search([0,1,2,4,2,1],3)"
   ]
  }
 ],
 "metadata": {
  "kernelspec": {
   "display_name": "Python 3 (ipykernel)",
   "language": "python",
   "name": "python3"
  },
  "language_info": {
   "codemirror_mode": {
    "name": "ipython",
    "version": 3
   },
   "file_extension": ".py",
   "mimetype": "text/x-python",
   "name": "python",
   "nbconvert_exporter": "python",
   "pygments_lexer": "ipython3",
   "version": "3.9.13"
  }
 },
 "nbformat": 4,
 "nbformat_minor": 5
}
