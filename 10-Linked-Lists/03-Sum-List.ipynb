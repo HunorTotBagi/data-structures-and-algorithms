{
 "cells": [
  {
   "cell_type": "code",
   "execution_count": 2,
   "id": "fc26e3c4",
   "metadata": {},
   "outputs": [],
   "source": [
    "class Node:\n",
    "    def __init__(self, val = None, Next = None):\n",
    "        self.val = val\n",
    "        self.Next = None\n",
    "\n",
    "a = Node(2)\n",
    "b = Node(8)\n",
    "c = Node(3)\n",
    "d = Node(7)\n",
    "\n",
    "a.Next = b\n",
    "b.Next = c\n",
    "c.Next = d\n",
    "\n",
    "# A -> B -> C -> D -> \"None\"       "
   ]
  },
  {
   "cell_type": "markdown",
   "id": "33bf856f",
   "metadata": {},
   "source": [
    "#### Iterative solution"
   ]
  },
  {
   "cell_type": "code",
   "execution_count": 3,
   "id": "99da8915",
   "metadata": {},
   "outputs": [
    {
     "data": {
      "text/plain": [
       "20"
      ]
     },
     "execution_count": 3,
     "metadata": {},
     "output_type": "execute_result"
    }
   ],
   "source": [
    "def sumListIter(head):\n",
    "    result = 0\n",
    "    while head != None:\n",
    "        result += head.val\n",
    "        head = head.Next\n",
    "    return result\n",
    "\n",
    "sumListIter(a)"
   ]
  },
  {
   "cell_type": "markdown",
   "id": "e640c210",
   "metadata": {},
   "source": [
    "#### Recursive solution"
   ]
  },
  {
   "cell_type": "code",
   "execution_count": 6,
   "id": "f323599e",
   "metadata": {},
   "outputs": [
    {
     "data": {
      "text/plain": [
       "20"
      ]
     },
     "execution_count": 6,
     "metadata": {},
     "output_type": "execute_result"
    }
   ],
   "source": [
    "def sumListRec(head):\n",
    "    result = 0\n",
    "    if head == None:\n",
    "        return result\n",
    "    result += head.val\n",
    "    result += sumListRec(head.Next)\n",
    "    return result\n",
    "\n",
    "sumListRec(a)"
   ]
  }
 ],
 "metadata": {
  "kernelspec": {
   "display_name": "Python 3 (ipykernel)",
   "language": "python",
   "name": "python3"
  },
  "language_info": {
   "codemirror_mode": {
    "name": "ipython",
    "version": 3
   },
   "file_extension": ".py",
   "mimetype": "text/x-python",
   "name": "python",
   "nbconvert_exporter": "python",
   "pygments_lexer": "ipython3",
   "version": "3.9.13"
  }
 },
 "nbformat": 4,
 "nbformat_minor": 5
}
