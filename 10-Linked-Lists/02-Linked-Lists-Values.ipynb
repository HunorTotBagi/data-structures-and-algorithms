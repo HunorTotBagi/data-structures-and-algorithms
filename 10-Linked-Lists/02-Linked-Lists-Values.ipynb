{
 "cells": [
  {
   "cell_type": "code",
   "execution_count": 2,
   "id": "120c6564",
   "metadata": {},
   "outputs": [],
   "source": [
    "class Node:\n",
    "    def __init__(self, val = None, Next = None):\n",
    "        self.val = val\n",
    "        self.Next = None\n",
    "\n",
    "a = Node('A')\n",
    "b = Node('B')\n",
    "c = Node('C')\n",
    "d = Node('D')\n",
    "\n",
    "a.Next = b\n",
    "b.Next = c\n",
    "c.Next = d\n",
    "\n",
    "# A -> B -> C -> D -> \"None\"       "
   ]
  },
  {
   "cell_type": "markdown",
   "id": "6e9943a4",
   "metadata": {},
   "source": [
    "#### Iterative solution"
   ]
  },
  {
   "cell_type": "code",
   "execution_count": 6,
   "id": "505fca90",
   "metadata": {},
   "outputs": [
    {
     "data": {
      "text/plain": [
       "['A', 'B', 'C', 'D']"
      ]
     },
     "execution_count": 6,
     "metadata": {},
     "output_type": "execute_result"
    }
   ],
   "source": [
    "def valuesIter(head):\n",
    "    result = []\n",
    "    while head != None:\n",
    "        result.append(head.val)\n",
    "        head = head.Next\n",
    "    return result\n",
    "\n",
    "valuesIter(a)"
   ]
  },
  {
   "cell_type": "markdown",
   "id": "08cdd9aa",
   "metadata": {},
   "source": [
    "#### Recursive solution"
   ]
  },
  {
   "cell_type": "code",
   "execution_count": 15,
   "id": "92c2b258",
   "metadata": {},
   "outputs": [
    {
     "data": {
      "text/plain": [
       "['A', 'B', 'C', 'D']"
      ]
     },
     "execution_count": 15,
     "metadata": {},
     "output_type": "execute_result"
    }
   ],
   "source": [
    "def valuesRec(head):\n",
    "    result = []\n",
    "    if head == None:\n",
    "        return result\n",
    "    result.append(head.val)\n",
    "    result.extend(valuesRec(head.Next))\n",
    "    return result\n",
    "    \n",
    "valuesRec(a)"
   ]
  }
 ],
 "metadata": {
  "kernelspec": {
   "display_name": "Python 3 (ipykernel)",
   "language": "python",
   "name": "python3"
  },
  "language_info": {
   "codemirror_mode": {
    "name": "ipython",
    "version": 3
   },
   "file_extension": ".py",
   "mimetype": "text/x-python",
   "name": "python",
   "nbconvert_exporter": "python",
   "pygments_lexer": "ipython3",
   "version": "3.9.13"
  }
 },
 "nbformat": 4,
 "nbformat_minor": 5
}
