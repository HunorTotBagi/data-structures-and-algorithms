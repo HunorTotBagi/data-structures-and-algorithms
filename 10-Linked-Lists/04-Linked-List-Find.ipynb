{
 "cells": [
  {
   "cell_type": "code",
   "execution_count": 8,
   "id": "35c97a2e",
   "metadata": {},
   "outputs": [],
   "source": [
    "class Node:\n",
    "    def __init__(self, val = None, Next = None):\n",
    "        self.val = val\n",
    "        self.Next = None\n",
    "\n",
    "a = Node('A')\n",
    "b = Node('B')\n",
    "c = Node('C')\n",
    "d = Node('D')\n",
    "\n",
    "a.Next = b\n",
    "b.Next = c\n",
    "c.Next = d\n",
    "\n",
    "# A -> B -> C -> D -> \"None\"  "
   ]
  },
  {
   "cell_type": "markdown",
   "id": "55ee1eea",
   "metadata": {},
   "source": [
    "#### Iterative solution"
   ]
  },
  {
   "cell_type": "code",
   "execution_count": 13,
   "id": "e2f372f3",
   "metadata": {},
   "outputs": [
    {
     "data": {
      "text/plain": [
       "(True, False)"
      ]
     },
     "execution_count": 13,
     "metadata": {},
     "output_type": "execute_result"
    }
   ],
   "source": [
    "def findIter(head, target):\n",
    "    while head != None:\n",
    "        if head.val == target:\n",
    "            return True\n",
    "        head = head.Next\n",
    "    return False\n",
    "\n",
    "findIter(a, 'A'), findIter(a, 'H')"
   ]
  },
  {
   "cell_type": "markdown",
   "id": "1a0b631c",
   "metadata": {},
   "source": [
    "#### Recursive solution"
   ]
  },
  {
   "cell_type": "code",
   "execution_count": 22,
   "id": "10786dbc",
   "metadata": {},
   "outputs": [
    {
     "data": {
      "text/plain": [
       "(True, False)"
      ]
     },
     "execution_count": 22,
     "metadata": {},
     "output_type": "execute_result"
    }
   ],
   "source": [
    "def findRec(head, target):\n",
    "    if head == None:\n",
    "        return False\n",
    "    return head.val == target or findRec(head.Next, target)\n",
    "\n",
    "findRec(a, 'D'), findRec(a, 'W')"
   ]
  }
 ],
 "metadata": {
  "kernelspec": {
   "display_name": "Python 3 (ipykernel)",
   "language": "python",
   "name": "python3"
  },
  "language_info": {
   "codemirror_mode": {
    "name": "ipython",
    "version": 3
   },
   "file_extension": ".py",
   "mimetype": "text/x-python",
   "name": "python",
   "nbconvert_exporter": "python",
   "pygments_lexer": "ipython3",
   "version": "3.9.13"
  }
 },
 "nbformat": 4,
 "nbformat_minor": 5
}
