{
 "cells": [
  {
   "cell_type": "code",
   "execution_count": 9,
   "id": "bdb982df",
   "metadata": {},
   "outputs": [],
   "source": [
    "class Node:\n",
    "    def __init__(self, val = None, Next = None):\n",
    "        self.val = val\n",
    "        self.Next = Next\n",
    "        \n",
    "a = Node('A')\n",
    "b = Node('B')\n",
    "c = Node('C')\n",
    "d = Node('D')\n",
    "\n",
    "a.Next = b\n",
    "b.Next = c\n",
    "c.Next = d\n",
    "\n",
    "# A -> B -> C -> D -> \"None\""
   ]
  },
  {
   "cell_type": "markdown",
   "id": "a54af5be",
   "metadata": {},
   "source": [
    "#### Iterative solution"
   ]
  },
  {
   "cell_type": "code",
   "execution_count": 21,
   "id": "5d6c1396",
   "metadata": {},
   "outputs": [
    {
     "name": "stdout",
     "output_type": "stream",
     "text": [
      "A\n",
      "B\n",
      "C\n",
      "D\n"
     ]
    }
   ],
   "source": [
    "def traversalIter(head):\n",
    "    while head != None:\n",
    "        print(head.val)\n",
    "        head = head.Next\n",
    "        \n",
    "traversalIter(a)"
   ]
  },
  {
   "cell_type": "markdown",
   "id": "27896f20",
   "metadata": {},
   "source": [
    "#### Recursive solution"
   ]
  },
  {
   "cell_type": "code",
   "execution_count": 20,
   "id": "a9b40636",
   "metadata": {},
   "outputs": [
    {
     "name": "stdout",
     "output_type": "stream",
     "text": [
      "A\n",
      "B\n",
      "C\n",
      "D\n"
     ]
    }
   ],
   "source": [
    "def traversalRec(head):\n",
    "    if head == None:\n",
    "        return \n",
    "    print(head.val)\n",
    "    traversalRec(head.Next)\n",
    "\n",
    "traversalRec(a)"
   ]
  }
 ],
 "metadata": {
  "kernelspec": {
   "display_name": "Python 3 (ipykernel)",
   "language": "python",
   "name": "python3"
  },
  "language_info": {
   "codemirror_mode": {
    "name": "ipython",
    "version": 3
   },
   "file_extension": ".py",
   "mimetype": "text/x-python",
   "name": "python",
   "nbconvert_exporter": "python",
   "pygments_lexer": "ipython3",
   "version": "3.9.13"
  }
 },
 "nbformat": 4,
 "nbformat_minor": 5
}
