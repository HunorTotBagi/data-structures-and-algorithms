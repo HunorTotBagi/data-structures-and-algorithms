{
 "cells": [
  {
   "cell_type": "code",
   "execution_count": 3,
   "id": "eddabfb5",
   "metadata": {},
   "outputs": [],
   "source": [
    "class Node:\n",
    "    def __init__(self, val = None, Next = None):\n",
    "        self.val = val\n",
    "        self.Next = None"
   ]
  },
  {
   "cell_type": "code",
   "execution_count": 27,
   "id": "cfbaece0",
   "metadata": {},
   "outputs": [
    {
     "data": {
      "text/plain": [
       "<__main__.Node at 0x2a32c73e130>"
      ]
     },
     "execution_count": 27,
     "metadata": {},
     "output_type": "execute_result"
    }
   ],
   "source": [
    "# First linked list\n",
    "a = Node('A')\n",
    "b = Node('B')\n",
    "c = Node('C')\n",
    "d = Node('D')\n",
    "e = Node('E')\n",
    "f = Node('F')\n",
    "\n",
    "a.Next = b\n",
    "b.Next = c\n",
    "c.Next = d\n",
    "d.Next = e\n",
    "e.Next = f\n",
    "\n",
    "# Second linked list\n",
    "q = Node('Q')\n",
    "r = Node('R')\n",
    "\n",
    "q.Next = r\n",
    "\n",
    "def zipperListIter(head1, head2):\n",
    "    if not head1:\n",
    "        return head2\n",
    "    if not head2:\n",
    "        return head1\n",
    "\n",
    "    dummy = tail = Node()\n",
    "    current1, current2 = head1, head2\n",
    "\n",
    "    while current1 and current2:\n",
    "        tail.Next, tail = current2, current2\n",
    "        current2 = current2.Next\n",
    "        if current1:\n",
    "            tail.Next, tail = current1, current1\n",
    "            current1 = current1.Next\n",
    "        \n",
    "    tail.Next = current1 or current2\n",
    "\n",
    "    return dummy.Next\n",
    "\n",
    "zipperList1(a,q)"
   ]
  },
  {
   "cell_type": "markdown",
   "id": "e23c6460",
   "metadata": {},
   "source": [
    "#### $n = $ length of list $1$\n",
    "#### $n = $ length of list $2$\n",
    "#### Time: $\\mathcal{O}( \\min(n,m) )$\n",
    "#### Space: $\\mathcal{O}(1)$"
   ]
  },
  {
   "cell_type": "markdown",
   "id": "1617dbca",
   "metadata": {},
   "source": [
    "#### Recursion soltuion"
   ]
  },
  {
   "cell_type": "code",
   "execution_count": 4,
   "id": "b200181c",
   "metadata": {},
   "outputs": [],
   "source": [
    "# First linked list\n",
    "a = Node('A')\n",
    "b = Node('B')\n",
    "c = Node('C')\n",
    "d = Node('D')\n",
    "e = Node('E')\n",
    "f = Node('F')\n",
    "\n",
    "a.Next = b\n",
    "b.Next = c\n",
    "c.Next = d\n",
    "d.Next = e\n",
    "e.Next = f\n",
    "\n",
    "# Second linked list\n",
    "q = Node('Q')\n",
    "r = Node('R')\n",
    "\n",
    "q.Next = r\n",
    "\n",
    "\n",
    "def zipperListRec(head1, head2):\n",
    "    if head1 == None and head2 == None:\n",
    "        return None\n",
    "    if head1 == None:\n",
    "        return head2\n",
    "    if head2 == None:\n",
    "        return head1\n",
    "    \n",
    "    var1 = head1.Next\n",
    "    var2 = head2.Next\n",
    "    \n",
    "    head1.Next = head2\n",
    "    head2.next = zipperListRec(var1, var2)\n",
    "    \n",
    "    return head1\n",
    "\n",
    "h = zipperListRec(a,q)"
   ]
  }
 ],
 "metadata": {
  "kernelspec": {
   "display_name": "Python 3 (ipykernel)",
   "language": "python",
   "name": "python3"
  },
  "language_info": {
   "codemirror_mode": {
    "name": "ipython",
    "version": 3
   },
   "file_extension": ".py",
   "mimetype": "text/x-python",
   "name": "python",
   "nbconvert_exporter": "python",
   "pygments_lexer": "ipython3",
   "version": "3.9.13"
  }
 },
 "nbformat": 4,
 "nbformat_minor": 5
}
