{
 "cells": [
  {
   "cell_type": "markdown",
   "id": "efe16c0a",
   "metadata": {},
   "source": [
    "#### Given an index returns it's value"
   ]
  },
  {
   "cell_type": "code",
   "execution_count": 1,
   "id": "66338cdc",
   "metadata": {},
   "outputs": [],
   "source": [
    "class Node:\n",
    "    def __init__(self, val = None, Next = None):\n",
    "        self.val = val\n",
    "        self.Next = None\n",
    "\n",
    "a = Node('A')\n",
    "b = Node('B')\n",
    "c = Node('C')\n",
    "d = Node('D')\n",
    "\n",
    "a.Next = b\n",
    "b.Next = c\n",
    "c.Next = d\n",
    "\n",
    "# A -> B -> C -> D -> \"None\"  "
   ]
  },
  {
   "cell_type": "markdown",
   "id": "509c6bb0",
   "metadata": {},
   "source": [
    "#### Iterative solution"
   ]
  },
  {
   "cell_type": "code",
   "execution_count": 25,
   "id": "ec6c94fa",
   "metadata": {},
   "outputs": [
    {
     "data": {
      "text/plain": [
       "'A'"
      ]
     },
     "execution_count": 25,
     "metadata": {},
     "output_type": "execute_result"
    }
   ],
   "source": [
    "def getNodeValueIter(head, index):\n",
    "    counter = 0\n",
    "    while head != None:\n",
    "        if counter == index:\n",
    "            return head.val\n",
    "            break\n",
    "        counter += 1\n",
    "        head = head.Next\n",
    "        \n",
    "getNodeValueIter(a, 0)"
   ]
  },
  {
   "cell_type": "markdown",
   "id": "c12e89ae",
   "metadata": {},
   "source": [
    "#### Recursive solution"
   ]
  },
  {
   "cell_type": "code",
   "execution_count": 26,
   "id": "6ae9c216",
   "metadata": {},
   "outputs": [
    {
     "data": {
      "text/plain": [
       "'C'"
      ]
     },
     "execution_count": 26,
     "metadata": {},
     "output_type": "execute_result"
    }
   ],
   "source": [
    "def getNodeValueRec(head, index):\n",
    "    if head == None:\n",
    "        return\n",
    "    if index == 0:\n",
    "        return head.val\n",
    "    return getNodeValueRec(head.Next, index - 1)\n",
    "\n",
    "getNodeValueRec(a, 2)"
   ]
  }
 ],
 "metadata": {
  "kernelspec": {
   "display_name": "Python 3 (ipykernel)",
   "language": "python",
   "name": "python3"
  },
  "language_info": {
   "codemirror_mode": {
    "name": "ipython",
    "version": 3
   },
   "file_extension": ".py",
   "mimetype": "text/x-python",
   "name": "python",
   "nbconvert_exporter": "python",
   "pygments_lexer": "ipython3",
   "version": "3.9.13"
  }
 },
 "nbformat": 4,
 "nbformat_minor": 5
}
