{
 "cells": [
  {
   "cell_type": "code",
   "execution_count": 3,
   "id": "eddabfb5",
   "metadata": {},
   "outputs": [],
   "source": [
    "class Node:\n",
    "    def __init__(self, val = None, Next = None):\n",
    "        self.val = val\n",
    "        self.Next = None\n",
    "        \n",
    "# First linked list\n",
    "a = Node('A')\n",
    "b = Node('B')\n",
    "c = Node('C')\n",
    "d = Node('D')\n",
    "e = Node('E')\n",
    "f = Node('F')\n",
    "\n",
    "a.Next = b\n",
    "b.Next = c\n",
    "c.Next = d\n",
    "d.Next = e\n",
    "e.Next = f\n",
    "\n",
    "# Second linked list\n",
    "q = Node('Q')\n",
    "r = Node('R')\n",
    "\n",
    "q.Next = r"
   ]
  },
  {
   "cell_type": "code",
   "execution_count": null,
   "id": "cfbaece0",
   "metadata": {},
   "outputs": [],
   "source": [
    "def zipperList(head1, head2):"
   ]
  },
  {
   "cell_type": "markdown",
   "id": "e23c6460",
   "metadata": {},
   "source": [
    "#### $n = $ length of list $1$\n",
    "#### $n = $ length of list $2$\n",
    "#### Time: $\\mathcal{O}( \\min(n,m) )$\n",
    "#### Space: $\\mathcal{O}(1)$"
   ]
  }
 ],
 "metadata": {
  "kernelspec": {
   "display_name": "Python 3 (ipykernel)",
   "language": "python",
   "name": "python3"
  },
  "language_info": {
   "codemirror_mode": {
    "name": "ipython",
    "version": 3
   },
   "file_extension": ".py",
   "mimetype": "text/x-python",
   "name": "python",
   "nbconvert_exporter": "python",
   "pygments_lexer": "ipython3",
   "version": "3.9.13"
  }
 },
 "nbformat": 4,
 "nbformat_minor": 5
}
