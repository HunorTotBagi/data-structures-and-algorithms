{
 "cells": [
  {
   "cell_type": "code",
   "execution_count": 65,
   "id": "b5b0010a",
   "metadata": {},
   "outputs": [],
   "source": [
    "class Node:\n",
    "    def __init__(self, val = None, Next = None):\n",
    "        self.val = val\n",
    "        self.Next = None"
   ]
  },
  {
   "cell_type": "markdown",
   "id": "c5af9670",
   "metadata": {},
   "source": [
    "#### Iterative solution"
   ]
  },
  {
   "cell_type": "code",
   "execution_count": 66,
   "id": "36c8021b",
   "metadata": {},
   "outputs": [
    {
     "data": {
      "text/plain": [
       "'D'"
      ]
     },
     "execution_count": 66,
     "metadata": {},
     "output_type": "execute_result"
    }
   ],
   "source": [
    "a = Node('A')\n",
    "b = Node('B')\n",
    "c = Node('C')\n",
    "d = Node('D')\n",
    "\n",
    "a.Next = b\n",
    "b.Next = c\n",
    "c.Next = d \n",
    "\n",
    "# A -> B -> C -> D -> \"None\"\n",
    "\n",
    "def reverseListIter(head):\n",
    "    prev = None\n",
    "    current = head\n",
    "    while current != None:\n",
    "        following = current.Next\n",
    "        current.Next = prev\n",
    "        prev = current\n",
    "        current = following\n",
    "    return prev.val\n",
    "    \n",
    "reverseListIter(a)"
   ]
  },
  {
   "cell_type": "markdown",
   "id": "0a10c937",
   "metadata": {},
   "source": [
    "#### Time: O(n)\n",
    "#### Space: O(1)"
   ]
  },
  {
   "cell_type": "markdown",
   "id": "e8aa8b1e",
   "metadata": {},
   "source": [
    "#### Recursive solution"
   ]
  },
  {
   "cell_type": "code",
   "execution_count": 67,
   "id": "41339361",
   "metadata": {},
   "outputs": [
    {
     "data": {
      "text/plain": [
       "<__main__.Node at 0x23c19144280>"
      ]
     },
     "execution_count": 67,
     "metadata": {},
     "output_type": "execute_result"
    }
   ],
   "source": [
    "a = Node('A')\n",
    "b = Node('B')\n",
    "c = Node('C')\n",
    "d = Node('D')\n",
    "\n",
    "a.Next = b\n",
    "b.Next = c\n",
    "c.Next = d \n",
    "\n",
    "# A -> B -> C -> D -> \"None\"\n",
    "\n",
    "def reverseListRec(head, prev = None):\n",
    "    if head == None:\n",
    "        return prev\n",
    "    following = head.Next\n",
    "    head.Next = prev\n",
    "    return reverseListRec(following, head)\n",
    "\n",
    "reverseListRec(a)"
   ]
  },
  {
   "cell_type": "markdown",
   "id": "7a527539",
   "metadata": {},
   "source": [
    "#### Time: O(n)\n",
    "#### Space: O(n)"
   ]
  }
 ],
 "metadata": {
  "kernelspec": {
   "display_name": "Python 3 (ipykernel)",
   "language": "python",
   "name": "python3"
  },
  "language_info": {
   "codemirror_mode": {
    "name": "ipython",
    "version": 3
   },
   "file_extension": ".py",
   "mimetype": "text/x-python",
   "name": "python",
   "nbconvert_exporter": "python",
   "pygments_lexer": "ipython3",
   "version": "3.9.13"
  }
 },
 "nbformat": 4,
 "nbformat_minor": 5
}
