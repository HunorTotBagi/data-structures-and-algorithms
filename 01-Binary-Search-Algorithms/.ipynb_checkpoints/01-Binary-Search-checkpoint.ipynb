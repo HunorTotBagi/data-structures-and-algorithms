{
 "cells": [
  {
   "cell_type": "markdown",
   "id": "5c62e45a",
   "metadata": {},
   "source": [
    "### Time complexity: $\\mathcal{O}(\\log n)$\n",
    "### Space complexity: $\\mathcal{O}(1)$"
   ]
  },
  {
   "cell_type": "code",
   "execution_count": 1,
   "id": "27a544dd",
   "metadata": {},
   "outputs": [],
   "source": [
    "def binary_search(array, target):\n",
    "    # initialize start and end indices\n",
    "    start = 0\n",
    "    end = len(array) - 1\n",
    "    \n",
    "    # loop until start and end indices cross\n",
    "    while start <= end:\n",
    "        # calculate middle index\n",
    "        middle = int(start + (end - start) / 2) # prevents int overflow\n",
    "        \n",
    "        # update start or end index based on target comparison\n",
    "        if target < array[middle]:\n",
    "            end = middle - 1\n",
    "        elif target > array[middle]:\n",
    "            start = middle + 1\n",
    "        else:\n",
    "            return middle # target found, return index\n",
    "\n",
    "    return -1 # target not found, return -1"
   ]
  },
  {
   "cell_type": "markdown",
   "id": "bcad7eed",
   "metadata": {},
   "source": [
    "### Testing"
   ]
  },
  {
   "cell_type": "code",
   "execution_count": 2,
   "id": "368f2d9a",
   "metadata": {},
   "outputs": [
    {
     "data": {
      "text/plain": [
       "8"
      ]
     },
     "execution_count": 2,
     "metadata": {},
     "output_type": "execute_result"
    }
   ],
   "source": [
    "# Target is right to the middle element\n",
    "binary_search([2,4,6,9,11,12,14,20,36,48], 36)"
   ]
  },
  {
   "cell_type": "code",
   "execution_count": 3,
   "id": "9435a375",
   "metadata": {},
   "outputs": [
    {
     "data": {
      "text/plain": [
       "2"
      ]
     },
     "execution_count": 3,
     "metadata": {},
     "output_type": "execute_result"
    }
   ],
   "source": [
    "# Target is left to the middle element\n",
    "binary_search([1,6,7,99,101,123,124,199,258,666,699,10555,201111], 7)"
   ]
  },
  {
   "cell_type": "code",
   "execution_count": 4,
   "id": "e8ae3f04",
   "metadata": {},
   "outputs": [
    {
     "data": {
      "text/plain": [
       "3"
      ]
     },
     "execution_count": 4,
     "metadata": {},
     "output_type": "execute_result"
    }
   ],
   "source": [
    "# Target is the middle element\n",
    "binary_search([1,11,25,75,88,247,666], 75)"
   ]
  },
  {
   "cell_type": "code",
   "execution_count": 5,
   "id": "2cd06b60",
   "metadata": {},
   "outputs": [
    {
     "data": {
      "text/plain": [
       "-1"
      ]
     },
     "execution_count": 5,
     "metadata": {},
     "output_type": "execute_result"
    }
   ],
   "source": [
    "# Target is not in the array\n",
    "binary_search([1,11,25,75,88,247,666,999], 777)"
   ]
  }
 ],
 "metadata": {
  "kernelspec": {
   "display_name": "Python 3 (ipykernel)",
   "language": "python",
   "name": "python3"
  },
  "language_info": {
   "codemirror_mode": {
    "name": "ipython",
    "version": 3
   },
   "file_extension": ".py",
   "mimetype": "text/x-python",
   "name": "python",
   "nbconvert_exporter": "python",
   "pygments_lexer": "ipython3",
   "version": "3.9.13"
  }
 },
 "nbformat": 4,
 "nbformat_minor": 5
}
