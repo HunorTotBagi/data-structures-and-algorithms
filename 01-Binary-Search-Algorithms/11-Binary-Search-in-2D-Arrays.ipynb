{
 "cells": [
  {
   "cell_type": "markdown",
   "id": "e037c028",
   "metadata": {},
   "source": [
    "### Search in a strictly sorted matrix"
   ]
  },
  {
   "cell_type": "code",
   "execution_count": 1,
   "id": "6c7d106a",
   "metadata": {},
   "outputs": [],
   "source": [
    "matrix = [[1,2,3,4],[5,6,7,8],[9,10,11,12],[13,14,15,16]]"
   ]
  },
  {
   "cell_type": "code",
   "execution_count": 2,
   "id": "090b8c47",
   "metadata": {},
   "outputs": [
    {
     "data": {
      "text/plain": [
       "[[1, 2, 3, 4], [5, 6, 7, 8], [9, 10, 11, 12], [13, 14, 15, 16]]"
      ]
     },
     "execution_count": 2,
     "metadata": {},
     "output_type": "execute_result"
    }
   ],
   "source": [
    "matrix"
   ]
  },
  {
   "cell_type": "code",
   "execution_count": 10,
   "id": "5870e377",
   "metadata": {},
   "outputs": [],
   "source": [
    "# Search in the row provided with columns provided\n",
    "def BinarySearch(matrix, row, cStart, cEnd, target):\n",
    "    while cStart <= cEnd:\n",
    "        mid = int(cStart + (cEnd-cStart)/2)\n",
    "        if matrix[row][mid] == target:\n",
    "            return row,mid\n",
    "        if matrix[row][mid] < target:\n",
    "            cStart = mid + 1\n",
    "        else:\n",
    "            cEnd = mid - 1\n",
    "    return -1,-1"
   ]
  },
  {
   "cell_type": "code",
   "execution_count": 16,
   "id": "270bcd5f",
   "metadata": {},
   "outputs": [],
   "source": [
    "def BStwoDAraay(matrix, target):\n",
    "    rows = len(matrix) - 1 \n",
    "    cols = len(matrix[0])\n",
    "    \n",
    "    if rows == 1:\n",
    "        return BinarySearch(matrix, 0, 0, cols - 1, target)\n",
    "\n",
    "    rStart = 0\n",
    "    rEnd = rows - 1\n",
    "    cMid = int(cols / 2)\n",
    "    \n",
    "    # Run the loop till 2 rows are remaining\n",
    "    while rStart < (rEnd -1):\n",
    "        mid = int(rStart + (rEnd - rStart) / 2)\n",
    "        if matrix[mid][cMid] == target:\n",
    "            return mid, cMid\n",
    "        if matrix[mid][cMid] < target:\n",
    "            rStart = mid\n",
    "        else:\n",
    "            rEnd = mid\n",
    "    \n",
    "    # Now we have tow rows remaining\n",
    "    # Check whether the target is in the col of 2 rows\n",
    "    if matrix[rStart][cMid] == target:\n",
    "        return rStart, cMid\n",
    "    if matrix[rStart + 1][cMid] == target:\n",
    "        return rStart + 1, cMid\n",
    "    \n",
    "    # Search in 1st half\n",
    "    if target <= matrix[rStart][cMid - 1]:\n",
    "        return BinarySearch(matrix, rStart, 0, cMid - 1, target)\n",
    "    \n",
    "    # Search in 2st half\n",
    "    if target >= matrix[rStart][cMid + 1] and target <= target >= matrix[rStart][cols - 1]:\n",
    "        return BinarySearch(matrix, rStart, cMid + 1, cols - 1, target)\n",
    "\n",
    "    # Search in 3st half\n",
    "    if target <= matrix[rStart + 1][cMid - 1]:\n",
    "        return BinarySearch(matrix, rStart + 1, 0, cMid - 1, target)\n",
    "        \n",
    "    # Search in 4st half\n",
    "    else:\n",
    "        return BinarySearch(matrix, rStart + 1, cMid + 1, cols - 1, target)"
   ]
  },
  {
   "cell_type": "markdown",
   "id": "1c4a3044",
   "metadata": {},
   "source": [
    "### Note: Not working correctly. Need more work."
   ]
  }
 ],
 "metadata": {
  "kernelspec": {
   "display_name": "Python 3 (ipykernel)",
   "language": "python",
   "name": "python3"
  },
  "language_info": {
   "codemirror_mode": {
    "name": "ipython",
    "version": 3
   },
   "file_extension": ".py",
   "mimetype": "text/x-python",
   "name": "python",
   "nbconvert_exporter": "python",
   "pygments_lexer": "ipython3",
   "version": "3.9.13"
  }
 },
 "nbformat": 4,
 "nbformat_minor": 5
}
