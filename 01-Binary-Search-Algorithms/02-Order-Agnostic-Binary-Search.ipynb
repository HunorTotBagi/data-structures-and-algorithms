{
 "cells": [
  {
   "cell_type": "markdown",
   "id": "b32d11a7",
   "metadata": {},
   "source": [
    "### Time complexity: $\\mathcal{O}(\\log n)$\n",
    "### Space complexity: $\\mathcal{O}(1)$"
   ]
  },
  {
   "cell_type": "markdown",
   "id": "2748cede",
   "metadata": {},
   "source": [
    "To determine the ordering of a sorted array, one may compare the first and last elements of the array $arr[0] < arr[-1]$."
   ]
  },
  {
   "cell_type": "code",
   "execution_count": 22,
   "id": "f4b54a70",
   "metadata": {},
   "outputs": [],
   "source": [
    "def oa_binary_search(array, target):\n",
    "    # initialize start and end indices\n",
    "    start = 0\n",
    "    end = len(array) - 1\n",
    "    \n",
    "    # determine whether the array is sorted in ascending or descending order\n",
    "    ascending = array[0] < array[-1]\n",
    "    \n",
    "    # execute the binary search until the target value is found or the array has been searched completely\n",
    "    while start <= end:\n",
    "        \n",
    "        # calculate middle index\n",
    "        middle = int(start + (end - start) / 2) # prevents int overflow\n",
    "        \n",
    "        # if the target value is found, return its index\n",
    "        if array[middle] == target:\n",
    "            return middle\n",
    "        \n",
    "        # check if the array is sorted in ascending or descending order, and adjust the search accordingly\n",
    "        if ascending:\n",
    "            if target < array[middle]:\n",
    "                end = middle - 1\n",
    "            elif target > array[middle]:\n",
    "                start = middle + 1\n",
    "                \n",
    "        else:\n",
    "            if target > array[middle]:\n",
    "                end = middle - 1\n",
    "            elif target < array[middle]:\n",
    "                start = middle + 1\n",
    "                \n",
    "    return -1 # target not found, return -1"
   ]
  },
  {
   "cell_type": "markdown",
   "id": "60dbb084",
   "metadata": {},
   "source": [
    "### Testing"
   ]
  },
  {
   "cell_type": "markdown",
   "id": "5ac17853",
   "metadata": {},
   "source": [
    "### 1. Ascending array"
   ]
  },
  {
   "cell_type": "code",
   "execution_count": 23,
   "id": "75f3bdf5",
   "metadata": {},
   "outputs": [
    {
     "data": {
      "text/plain": [
       "8"
      ]
     },
     "execution_count": 23,
     "metadata": {},
     "output_type": "execute_result"
    }
   ],
   "source": [
    "# Target is right to the middle element\n",
    "oa_binary_search([2,4,6,9,11,12,14,20,36,48], 36)"
   ]
  },
  {
   "cell_type": "code",
   "execution_count": 24,
   "id": "2692572c",
   "metadata": {},
   "outputs": [
    {
     "data": {
      "text/plain": [
       "2"
      ]
     },
     "execution_count": 24,
     "metadata": {},
     "output_type": "execute_result"
    }
   ],
   "source": [
    "# Target is left to the middle element\n",
    "arr2 = [1,6,7,99,101,123,124,199,258,666,699,10555,201111]\n",
    "oa_binary_search(arr2, 7)"
   ]
  },
  {
   "cell_type": "code",
   "execution_count": 25,
   "id": "1bc9d05d",
   "metadata": {},
   "outputs": [
    {
     "data": {
      "text/plain": [
       "3"
      ]
     },
     "execution_count": 25,
     "metadata": {},
     "output_type": "execute_result"
    }
   ],
   "source": [
    "# Target is in the middle\n",
    "oa_binary_search([1,11,25,75,88,247,666], 75)"
   ]
  },
  {
   "cell_type": "code",
   "execution_count": 26,
   "id": "38021933",
   "metadata": {},
   "outputs": [
    {
     "data": {
      "text/plain": [
       "-1"
      ]
     },
     "execution_count": 26,
     "metadata": {},
     "output_type": "execute_result"
    }
   ],
   "source": [
    "# Target is not in the array\n",
    "oa_binary_search([1,11,25,75,88,247,666,999], 777)"
   ]
  },
  {
   "cell_type": "markdown",
   "id": "d1141243",
   "metadata": {},
   "source": [
    "### 2. Descending array"
   ]
  },
  {
   "cell_type": "code",
   "execution_count": 27,
   "id": "38081802",
   "metadata": {},
   "outputs": [
    {
     "data": {
      "text/plain": [
       "9"
      ]
     },
     "execution_count": 27,
     "metadata": {},
     "output_type": "execute_result"
    }
   ],
   "source": [
    "# Target is right to the middle element\n",
    "oa_binary_search([99,84,74,66,58,44,30,21,15,8,6,2,1], 8)"
   ]
  },
  {
   "cell_type": "code",
   "execution_count": 28,
   "id": "7b53ebeb",
   "metadata": {},
   "outputs": [
    {
     "data": {
      "text/plain": [
       "0"
      ]
     },
     "execution_count": 28,
     "metadata": {},
     "output_type": "execute_result"
    }
   ],
   "source": [
    "# Target is left to the middle element\n",
    "oa_binary_search([99,84,74,66,58,44,30,21,15,8,6,2,1], 99)"
   ]
  },
  {
   "cell_type": "code",
   "execution_count": 29,
   "id": "ac062132",
   "metadata": {},
   "outputs": [
    {
     "data": {
      "text/plain": [
       "2"
      ]
     },
     "execution_count": 29,
     "metadata": {},
     "output_type": "execute_result"
    }
   ],
   "source": [
    "# Target is in the middle\n",
    "oa_binary_search([100,75,50,25,1], 50)"
   ]
  },
  {
   "cell_type": "code",
   "execution_count": 30,
   "id": "8f3c341d",
   "metadata": {},
   "outputs": [
    {
     "data": {
      "text/plain": [
       "-1"
      ]
     },
     "execution_count": 30,
     "metadata": {},
     "output_type": "execute_result"
    }
   ],
   "source": [
    "# Target is not in the array\n",
    "oa_binary_search([99,84,74,66,58,44,30,21,15,8,6,2,1], -88)"
   ]
  }
 ],
 "metadata": {
  "kernelspec": {
   "display_name": "Python 3 (ipykernel)",
   "language": "python",
   "name": "python3"
  },
  "language_info": {
   "codemirror_mode": {
    "name": "ipython",
    "version": 3
   },
   "file_extension": ".py",
   "mimetype": "text/x-python",
   "name": "python",
   "nbconvert_exporter": "python",
   "pygments_lexer": "ipython3",
   "version": "3.9.13"
  }
 },
 "nbformat": 4,
 "nbformat_minor": 5
}
