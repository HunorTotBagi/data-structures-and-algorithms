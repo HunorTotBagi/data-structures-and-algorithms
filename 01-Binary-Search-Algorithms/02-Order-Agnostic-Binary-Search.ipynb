{
 "cells": [
  {
   "cell_type": "markdown",
   "id": "b32d11a7",
   "metadata": {},
   "source": [
    "### Time complexity: $\\mathcal{O}(\\log n)$\n",
    "### Space complexity: $\\mathcal{O}(1)$"
   ]
  },
  {
   "cell_type": "markdown",
   "id": "2748cede",
   "metadata": {},
   "source": [
    "To determine the ordering of a sorted array, one may compare the first and last elements of the array $arr[0] < arr[-1]$."
   ]
  },
  {
   "cell_type": "code",
   "execution_count": 1,
   "id": "f4b54a70",
   "metadata": {},
   "outputs": [],
   "source": [
    "def oa_binary_search(array, target):\n",
    "    # initialize start and end indices\n",
    "    start = 0\n",
    "    end = len(array) - 1\n",
    "    \n",
    "    # determine whether the array is sorted in ascending or descending order\n",
    "    ascending = array[0] < array[-1]\n",
    "    \n",
    "    # execute the binary search until the target value is found or the array has been searched completely\n",
    "    while start <= end:\n",
    "        \n",
    "        # calculate middle index\n",
    "        middle = int(start + (end - start) / 2) # prevents int overflow\n",
    "        \n",
    "        # if the target value is found, return its index\n",
    "        if array[middle] == target:\n",
    "            return middle\n",
    "        \n",
    "        # check if the array is sorted in ascending or descending order, and adjust the search accordingly\n",
    "        if ascending:\n",
    "            if target < array[middle]:\n",
    "                end = middle - 1\n",
    "            elif target > array[middle]:\n",
    "                start = middle + 1\n",
    "                \n",
    "        else:\n",
    "            if target > array[middle]:\n",
    "                end = middle - 1\n",
    "            elif target < array[middle]:\n",
    "                start = middle + 1\n",
    "                \n",
    "    return -1 # target not found, return -1"
   ]
  },
  {
   "cell_type": "markdown",
   "id": "5ac17853",
   "metadata": {},
   "source": [
    "### Testing with ascending array"
   ]
  },
  {
   "cell_type": "code",
   "execution_count": 2,
   "id": "75f3bdf5",
   "metadata": {},
   "outputs": [
    {
     "name": "stdout",
     "output_type": "stream",
     "text": [
      "8\n",
      "2\n",
      "3\n",
      "-1\n"
     ]
    }
   ],
   "source": [
    "print(oa_binary_search([2,4,6,9,11,12,14,20,36,48], 36)) # Target is right to the middle element\n",
    "print(oa_binary_search([1,6,7,99,101,123,124,199,258,666,699,10555,201111], 7)) # Target is left to the middle element\n",
    "print(oa_binary_search([1,11,25,75,88,247,666], 75)) # Target is in the middle\n",
    "print(oa_binary_search([1,11,25,75,88,247,666,999], 777)) # Target is not in the array"
   ]
  },
  {
   "cell_type": "markdown",
   "id": "d1141243",
   "metadata": {},
   "source": [
    "### Testing with descending array"
   ]
  },
  {
   "cell_type": "code",
   "execution_count": 3,
   "id": "38081802",
   "metadata": {},
   "outputs": [
    {
     "name": "stdout",
     "output_type": "stream",
     "text": [
      "9\n",
      "0\n",
      "2\n",
      "-1\n"
     ]
    }
   ],
   "source": [
    "print(oa_binary_search([99,84,74,66,58,44,30,21,15,8,6,2,1], 8)) # Target is right to the middle element\n",
    "print(oa_binary_search([99,84,74,66,58,44,30,21,15,8,6,2,1], 99)) # Target is left to the middle element\n",
    "print(oa_binary_search([100,75,50,25,1], 50)) # Target is in the middle\n",
    "print(oa_binary_search([99,84,74,66,58,44,30,21,15,8,6,2,1], -88)) # Target is not in the array"
   ]
  }
 ],
 "metadata": {
  "kernelspec": {
   "display_name": "Python 3 (ipykernel)",
   "language": "python",
   "name": "python3"
  },
  "language_info": {
   "codemirror_mode": {
    "name": "ipython",
    "version": 3
   },
   "file_extension": ".py",
   "mimetype": "text/x-python",
   "name": "python",
   "nbconvert_exporter": "python",
   "pygments_lexer": "ipython3",
   "version": "3.9.13"
  }
 },
 "nbformat": 4,
 "nbformat_minor": 5
}
