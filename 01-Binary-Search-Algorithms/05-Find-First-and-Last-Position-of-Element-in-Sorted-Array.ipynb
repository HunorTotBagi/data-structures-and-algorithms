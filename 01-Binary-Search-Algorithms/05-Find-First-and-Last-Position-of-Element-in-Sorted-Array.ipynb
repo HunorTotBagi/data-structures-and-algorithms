{
 "cells": [
  {
   "cell_type": "markdown",
   "id": "1426762b",
   "metadata": {},
   "source": [
    "Given an array of integers nums sorted in non-decreasing order, find the starting and ending position of a given target value. If target is not found in the array, return $[-1, -1]$. You must write an algorithm with $\\mathcal{O}(\\log n)$ runtime complexity."
   ]
  },
  {
   "cell_type": "code",
   "execution_count": 2,
   "id": "ffb8fbe0",
   "metadata": {},
   "outputs": [],
   "source": [
    "def search(nums, target, findStartIndex):\n",
    "    ans = -1\n",
    "    start = 0\n",
    "    end = len(nums) - 1\n",
    "    \n",
    "    while start <= end:\n",
    "        \n",
    "        mid = int(start + (end - start)/2)\n",
    "        \n",
    "        if target < nums[mid]:\n",
    "            end = mid - 1\n",
    "        elif target > nums[mid]:\n",
    "            start = mid + 1\n",
    "        else:#potential ans found\n",
    "            ans = mid\n",
    "            if findStartIndex:\n",
    "                end = mid -1 # Running again BS on the left side\n",
    "            else:\n",
    "                start = mid + 1 # Running again BS on the right side\n",
    "    return ans \n",
    "def new(nums,target):\n",
    "    \n",
    "    ans = [-1,1]\n",
    "    \n",
    "    ans[0] = search(nums, target, True) # Save variable space.\n",
    "    if ans[0] != -1: # Save 1 function call if ans[0] is -1 already.\n",
    "        ans[1] = search(nums, target, False)\n",
    "\n",
    "    return ans"
   ]
  },
  {
   "cell_type": "markdown",
   "id": "4ada985f",
   "metadata": {},
   "source": [
    "Test cases"
   ]
  },
  {
   "cell_type": "code",
   "execution_count": 11,
   "id": "704cd4c9",
   "metadata": {},
   "outputs": [
    {
     "data": {
      "text/plain": [
       "[3, 4]"
      ]
     },
     "execution_count": 11,
     "metadata": {},
     "output_type": "execute_result"
    }
   ],
   "source": [
    "nums1 = [5,7,7,8,8,10]\n",
    "target1 = 8\n",
    "new(nums1, 8)"
   ]
  },
  {
   "cell_type": "code",
   "execution_count": 12,
   "id": "ff856036",
   "metadata": {},
   "outputs": [
    {
     "data": {
      "text/plain": [
       "[-1, 1]"
      ]
     },
     "execution_count": 12,
     "metadata": {},
     "output_type": "execute_result"
    }
   ],
   "source": [
    "nums2 = [5,7,7,8,8,10]\n",
    "target2 = 6\n",
    "new(nums2, 6)"
   ]
  },
  {
   "cell_type": "code",
   "execution_count": 13,
   "id": "8f10da34",
   "metadata": {},
   "outputs": [
    {
     "data": {
      "text/plain": [
       "[-1, 1]"
      ]
     },
     "execution_count": 13,
     "metadata": {},
     "output_type": "execute_result"
    }
   ],
   "source": [
    "nums3 = []\n",
    "new(nums3, 0)"
   ]
  },
  {
   "cell_type": "code",
   "execution_count": 14,
   "id": "b52b3f32",
   "metadata": {},
   "outputs": [
    {
     "data": {
      "text/plain": [
       "[9, 12]"
      ]
     },
     "execution_count": 14,
     "metadata": {},
     "output_type": "execute_result"
    }
   ],
   "source": [
    "nums4 = [1,1,1,1,2,3,4,5,6,7,7,7,7,8,8,8,9,9]\n",
    "target4 = 7\n",
    "new(nums4, 7)"
   ]
  },
  {
   "cell_type": "code",
   "execution_count": null,
   "id": "d5810c94",
   "metadata": {},
   "outputs": [],
   "source": []
  },
  {
   "cell_type": "code",
   "execution_count": null,
   "id": "3c6a3f88",
   "metadata": {},
   "outputs": [],
   "source": []
  }
 ],
 "metadata": {
  "kernelspec": {
   "display_name": "Python 3 (ipykernel)",
   "language": "python",
   "name": "python3"
  },
  "language_info": {
   "codemirror_mode": {
    "name": "ipython",
    "version": 3
   },
   "file_extension": ".py",
   "mimetype": "text/x-python",
   "name": "python",
   "nbconvert_exporter": "python",
   "pygments_lexer": "ipython3",
   "version": "3.9.13"
  }
 },
 "nbformat": 4,
 "nbformat_minor": 5
}
