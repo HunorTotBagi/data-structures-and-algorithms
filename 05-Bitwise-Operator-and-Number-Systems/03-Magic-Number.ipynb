{
 "cells": [
  {
   "cell_type": "code",
   "execution_count": 7,
   "id": "982486b9",
   "metadata": {},
   "outputs": [
    {
     "name": "stdout",
     "output_type": "stream",
     "text": [
      "150\n"
     ]
    }
   ],
   "source": [
    "ans = 0\n",
    "base = 5\n",
    "n = 6\n",
    "\n",
    "while n>0:\n",
    "    last = n & 1\n",
    "    n = n >> 1\n",
    "    \n",
    "    ans += last * base\n",
    "\n",
    "    base = base * 5\n",
    "\n",
    "print(ans)"
   ]
  }
 ],
 "metadata": {
  "kernelspec": {
   "display_name": "Python 3 (ipykernel)",
   "language": "python",
   "name": "python3"
  },
  "language_info": {
   "codemirror_mode": {
    "name": "ipython",
    "version": 3
   },
   "file_extension": ".py",
   "mimetype": "text/x-python",
   "name": "python",
   "nbconvert_exporter": "python",
   "pygments_lexer": "ipython3",
   "version": "3.9.13"
  }
 },
 "nbformat": 4,
 "nbformat_minor": 5
}
