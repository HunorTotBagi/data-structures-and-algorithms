{
 "cells": [
  {
   "cell_type": "code",
   "execution_count": 16,
   "id": "0a2534d1",
   "metadata": {},
   "outputs": [],
   "source": [
    "# Find the unique item in the array, that contains\n",
    "# 2 of each number except the one missing."
   ]
  },
  {
   "cell_type": "code",
   "execution_count": 17,
   "id": "a9231f29",
   "metadata": {},
   "outputs": [
    {
     "data": {
      "text/plain": [
       "6"
      ]
     },
     "execution_count": 17,
     "metadata": {},
     "output_type": "execute_result"
    }
   ],
   "source": [
    "def findUnique(arr):\n",
    "    unique = 0\n",
    "    for n in arr:\n",
    "        unique ^= n # XOR\n",
    "    return unique\n",
    "\n",
    "findUnique([2, 3, 3, 4, 2, 6, 4])"
   ]
  }
 ],
 "metadata": {
  "kernelspec": {
   "display_name": "Python 3 (ipykernel)",
   "language": "python",
   "name": "python3"
  },
  "language_info": {
   "codemirror_mode": {
    "name": "ipython",
    "version": 3
   },
   "file_extension": ".py",
   "mimetype": "text/x-python",
   "name": "python",
   "nbconvert_exporter": "python",
   "pygments_lexer": "ipython3",
   "version": "3.9.13"
  }
 },
 "nbformat": 4,
 "nbformat_minor": 5
}
