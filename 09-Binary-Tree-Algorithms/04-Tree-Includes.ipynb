{
 "cells": [
  {
   "cell_type": "code",
   "execution_count": 1,
   "id": "7ecf3760",
   "metadata": {},
   "outputs": [],
   "source": [
    "class Node:\n",
    "    def __init__(self, val, left = None, right = None):\n",
    "        self.val = val\n",
    "        self.left = left\n",
    "        self.right = right\n",
    "        \n",
    "a = Node('a')\n",
    "b = Node('b')\n",
    "c = Node('c')\n",
    "d = Node('d')\n",
    "e = Node('e')\n",
    "f = Node('f')\n",
    "\n",
    "a.left = b\n",
    "a.right = c\n",
    "b.left = d\n",
    "b.right = e\n",
    "c.right = f\n",
    "\n",
    "# Visual representation\n",
    "#       a\n",
    "#      /\\\n",
    "#     b  c\n",
    "#    /\\   \\\n",
    "#   d  e   f"
   ]
  },
  {
   "cell_type": "markdown",
   "id": "1fdb55aa",
   "metadata": {},
   "source": [
    "#### DFS"
   ]
  },
  {
   "cell_type": "code",
   "execution_count": 2,
   "id": "e1e32b13",
   "metadata": {},
   "outputs": [],
   "source": [
    "def TreeIncludesDFS(root, target):\n",
    "    if root == None:\n",
    "        return False\n",
    "    if root.val == target:\n",
    "        return True\n",
    "    return TreeIncludesDFS(root.left, target) or TreeIncludesDFS(root.right, target)"
   ]
  },
  {
   "cell_type": "code",
   "execution_count": 3,
   "id": "f4a4ae46",
   "metadata": {},
   "outputs": [
    {
     "data": {
      "text/plain": [
       "True"
      ]
     },
     "execution_count": 3,
     "metadata": {},
     "output_type": "execute_result"
    }
   ],
   "source": [
    "TreeIncludesDFS(a, 'b')"
   ]
  },
  {
   "cell_type": "code",
   "execution_count": 4,
   "id": "a56899f3",
   "metadata": {},
   "outputs": [
    {
     "data": {
      "text/plain": [
       "True"
      ]
     },
     "execution_count": 4,
     "metadata": {},
     "output_type": "execute_result"
    }
   ],
   "source": [
    "TreeIncludesDFS(a, 'f')"
   ]
  },
  {
   "cell_type": "code",
   "execution_count": 5,
   "id": "e169a3c2",
   "metadata": {},
   "outputs": [
    {
     "data": {
      "text/plain": [
       "False"
      ]
     },
     "execution_count": 5,
     "metadata": {},
     "output_type": "execute_result"
    }
   ],
   "source": [
    "TreeIncludesDFS(a, 'y')"
   ]
  },
  {
   "cell_type": "code",
   "execution_count": 6,
   "id": "9221163a",
   "metadata": {},
   "outputs": [
    {
     "data": {
      "text/plain": [
       "False"
      ]
     },
     "execution_count": 6,
     "metadata": {},
     "output_type": "execute_result"
    }
   ],
   "source": [
    "TreeIncludesDFS(None, 'b')"
   ]
  },
  {
   "cell_type": "markdown",
   "id": "548e4cbc",
   "metadata": {},
   "source": [
    "#### BFS"
   ]
  },
  {
   "cell_type": "code",
   "execution_count": 7,
   "id": "614b2b8d",
   "metadata": {},
   "outputs": [],
   "source": [
    "def TreeIncludesBFS(root, target):\n",
    "    if root == None:\n",
    "        return False\n",
    "    result = []\n",
    "    que = []\n",
    "    que.append(root)\n",
    "    while len(que) > 0:\n",
    "        current = que.pop(0)\n",
    "        if current.val == target:\n",
    "            return True\n",
    "            break\n",
    "        result.append(current.val)\n",
    "        if current.left != None:\n",
    "            que.append(current.left)\n",
    "        if current.right != None:\n",
    "            que.append(current.right)\n",
    "    return False"
   ]
  },
  {
   "cell_type": "code",
   "execution_count": 8,
   "id": "0c283b2f",
   "metadata": {},
   "outputs": [
    {
     "data": {
      "text/plain": [
       "True"
      ]
     },
     "execution_count": 8,
     "metadata": {},
     "output_type": "execute_result"
    }
   ],
   "source": [
    "TreeIncludesBFS(a, 'e')"
   ]
  },
  {
   "cell_type": "code",
   "execution_count": 9,
   "id": "753b3c81",
   "metadata": {},
   "outputs": [
    {
     "data": {
      "text/plain": [
       "True"
      ]
     },
     "execution_count": 9,
     "metadata": {},
     "output_type": "execute_result"
    }
   ],
   "source": [
    "TreeIncludesBFS(a, 'c')"
   ]
  },
  {
   "cell_type": "code",
   "execution_count": 10,
   "id": "f8cf93d3",
   "metadata": {},
   "outputs": [
    {
     "data": {
      "text/plain": [
       "False"
      ]
     },
     "execution_count": 10,
     "metadata": {},
     "output_type": "execute_result"
    }
   ],
   "source": [
    "TreeIncludesBFS(a, 't')"
   ]
  },
  {
   "cell_type": "code",
   "execution_count": 11,
   "id": "d8dd73db",
   "metadata": {},
   "outputs": [
    {
     "data": {
      "text/plain": [
       "False"
      ]
     },
     "execution_count": 11,
     "metadata": {},
     "output_type": "execute_result"
    }
   ],
   "source": [
    "TreeIncludesBFS(None, 'b')"
   ]
  }
 ],
 "metadata": {
  "kernelspec": {
   "display_name": "Python 3 (ipykernel)",
   "language": "python",
   "name": "python3"
  },
  "language_info": {
   "codemirror_mode": {
    "name": "ipython",
    "version": 3
   },
   "file_extension": ".py",
   "mimetype": "text/x-python",
   "name": "python",
   "nbconvert_exporter": "python",
   "pygments_lexer": "ipython3",
   "version": "3.9.13"
  }
 },
 "nbformat": 4,
 "nbformat_minor": 5
}
