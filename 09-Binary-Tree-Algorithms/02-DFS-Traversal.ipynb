{
 "cells": [
  {
   "cell_type": "code",
   "execution_count": 6,
   "id": "aef1d096",
   "metadata": {},
   "outputs": [],
   "source": [
    "class Node:\n",
    "    def __init__(self, val = None, left = None, right = None):\n",
    "        self.val = val\n",
    "        self.left = left\n",
    "        self.right = right\n",
    "\n",
    "a = Node('a')\n",
    "b = Node('b')\n",
    "c = Node('c')\n",
    "d = Node('d')\n",
    "e = Node('e')\n",
    "f = Node('f')\n",
    "\n",
    "a.left = b\n",
    "a.right = c\n",
    "b.left = d\n",
    "b.right = e\n",
    "c.right = f\n",
    "\n",
    "# Visual representation\n",
    "#       a\n",
    "#      /\\\n",
    "#     b  c\n",
    "#    /\\   \\\n",
    "#   d  e   f"
   ]
  },
  {
   "cell_type": "markdown",
   "id": "f76799ae",
   "metadata": {},
   "source": [
    "#### Iterative solution"
   ]
  },
  {
   "cell_type": "code",
   "execution_count": 7,
   "id": "ec126e9d",
   "metadata": {},
   "outputs": [
    {
     "data": {
      "text/plain": [
       "['a', 'b', 'd', 'e', 'c', 'f']"
      ]
     },
     "execution_count": 7,
     "metadata": {},
     "output_type": "execute_result"
    }
   ],
   "source": [
    "def DFS_Iter(root):\n",
    "    if root == None:\n",
    "        return []\n",
    "    result = []\n",
    "    stack = []\n",
    "    stack.append(root)\n",
    "    while len(stack) > 0:\n",
    "        current = stack.pop()\n",
    "        result.append(current.val)\n",
    "        if current.right != None:\n",
    "            stack.append(current.right)\n",
    "        if current.left != None:\n",
    "            stack.append(current.left)\n",
    "    return result\n",
    "\n",
    "DFS_Iter(a)"
   ]
  },
  {
   "cell_type": "markdown",
   "id": "d1800a40",
   "metadata": {},
   "source": [
    "#### Recursive solution"
   ]
  },
  {
   "cell_type": "code",
   "execution_count": 8,
   "id": "c9a997de",
   "metadata": {},
   "outputs": [
    {
     "data": {
      "text/plain": [
       "['a', 'b', 'd', 'e', 'c', 'f']"
      ]
     },
     "execution_count": 8,
     "metadata": {},
     "output_type": "execute_result"
    }
   ],
   "source": [
    "def DFS_Rec(root):\n",
    "    result = []\n",
    "    if root == None:\n",
    "        return result\n",
    "    result.append(root.val)\n",
    "    result.extend(DFS_Rec(root.left)) \n",
    "    result.extend(DFS_Rec(root.right))\n",
    "    return result\n",
    "\n",
    "DFS_Rec(a)"
   ]
  }
 ],
 "metadata": {
  "kernelspec": {
   "display_name": "Python 3 (ipykernel)",
   "language": "python",
   "name": "python3"
  },
  "language_info": {
   "codemirror_mode": {
    "name": "ipython",
    "version": 3
   },
   "file_extension": ".py",
   "mimetype": "text/x-python",
   "name": "python",
   "nbconvert_exporter": "python",
   "pygments_lexer": "ipython3",
   "version": "3.9.13"
  }
 },
 "nbformat": 4,
 "nbformat_minor": 5
}
