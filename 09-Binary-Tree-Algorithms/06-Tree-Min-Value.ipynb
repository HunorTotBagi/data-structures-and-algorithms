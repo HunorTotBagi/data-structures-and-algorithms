{
 "cells": [
  {
   "cell_type": "code",
   "execution_count": 1,
   "id": "e7c826b6",
   "metadata": {},
   "outputs": [],
   "source": [
    "class Node:\n",
    "    def __init__(self, val, left = None, right = None):\n",
    "        self.val = val\n",
    "        self.left = left\n",
    "        self.right = right\n",
    "\n",
    "a = Node(5)\n",
    "b = Node(11)\n",
    "c = Node(3)\n",
    "d = Node(4)\n",
    "e = Node(15)\n",
    "f = Node(12)\n",
    "\n",
    "a.left = b\n",
    "a.right = c\n",
    "b.left = d\n",
    "b.right = e\n",
    "c.right = f\n",
    "\n",
    "# Visual representation\n",
    "#        a(5)\n",
    "#      /      \\\n",
    "#     b(11)  c(3)\n",
    "#    /    \\     \\\n",
    "#   d(4)  e(15)  f(12)"
   ]
  },
  {
   "cell_type": "markdown",
   "id": "5b95299f",
   "metadata": {},
   "source": [
    "#### DFS"
   ]
  },
  {
   "cell_type": "code",
   "execution_count": 2,
   "id": "1b6fc321",
   "metadata": {},
   "outputs": [
    {
     "data": {
      "text/plain": [
       "3"
      ]
     },
     "execution_count": 2,
     "metadata": {},
     "output_type": "execute_result"
    }
   ],
   "source": [
    "def TreeMinValueDFS(root):\n",
    "    minValue = root.val\n",
    "    stack = []\n",
    "    stack.append(root)\n",
    "    while len(stack) > 0:\n",
    "        current = stack.pop(-1)\n",
    "        if current.left != None:\n",
    "            stack.append(current.left)\n",
    "            if current.left.val < minValue:\n",
    "                minValue = current.left.val\n",
    "        if current.right != None:\n",
    "            stack.append(current.right)\n",
    "            if current.right.val < minValue:\n",
    "                minValue = current.right.val\n",
    "    return minValue\n",
    "\n",
    "TreeMinValueDFS(a)"
   ]
  },
  {
   "cell_type": "markdown",
   "id": "0107aac3",
   "metadata": {},
   "source": [
    "#### BFS"
   ]
  },
  {
   "cell_type": "code",
   "execution_count": 3,
   "id": "e32860c4",
   "metadata": {},
   "outputs": [
    {
     "data": {
      "text/plain": [
       "3"
      ]
     },
     "execution_count": 3,
     "metadata": {},
     "output_type": "execute_result"
    }
   ],
   "source": [
    "def TreeMinValueBFS(root):\n",
    "    minValue = root.val\n",
    "    queue = []\n",
    "    queue.append(root)\n",
    "    while len(queue) > 0:\n",
    "        current = queue[0]\n",
    "        if current.left != None:\n",
    "            queue.append(current.left)\n",
    "            if current.left.val < minValue:\n",
    "                minValue = current.left.val\n",
    "        if current.right != None:\n",
    "            queue.append(current.right)\n",
    "            if current.right.val < minValue:\n",
    "                minValue = current.right.val\n",
    "        queue.pop(0)\n",
    "    return minValue\n",
    "\n",
    "TreeMinValueBFS(a)"
   ]
  },
  {
   "cell_type": "markdown",
   "id": "8b65bb3c",
   "metadata": {},
   "source": [
    "#### DFS Recursion"
   ]
  },
  {
   "cell_type": "code",
   "execution_count": 4,
   "id": "7010ba59",
   "metadata": {},
   "outputs": [
    {
     "data": {
      "text/plain": [
       "3"
      ]
     },
     "execution_count": 4,
     "metadata": {},
     "output_type": "execute_result"
    }
   ],
   "source": [
    "def TreeMinValueDFSRec(root):\n",
    "    if root == None:\n",
    "        return float(\"inf\")\n",
    "    return min(root.val, TreeMinValueDFSRec(root.left), TreeMinValueDFSRec(root.right))\n",
    "\n",
    "TreeMinValueDFSRec(a)"
   ]
  }
 ],
 "metadata": {
  "kernelspec": {
   "display_name": "Python 3 (ipykernel)",
   "language": "python",
   "name": "python3"
  },
  "language_info": {
   "codemirror_mode": {
    "name": "ipython",
    "version": 3
   },
   "file_extension": ".py",
   "mimetype": "text/x-python",
   "name": "python",
   "nbconvert_exporter": "python",
   "pygments_lexer": "ipython3",
   "version": "3.9.13"
  }
 },
 "nbformat": 4,
 "nbformat_minor": 5
}
