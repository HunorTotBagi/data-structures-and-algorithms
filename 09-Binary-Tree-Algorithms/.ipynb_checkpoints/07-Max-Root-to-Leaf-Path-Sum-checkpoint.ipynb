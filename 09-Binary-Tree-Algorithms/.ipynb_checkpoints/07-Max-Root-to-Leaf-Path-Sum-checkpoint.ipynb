{
 "cells": [
  {
   "cell_type": "code",
   "execution_count": 1,
   "id": "d8129cf2",
   "metadata": {},
   "outputs": [],
   "source": [
    "class Node:\n",
    "    def __init__(self, val = None, left = None, right = None):\n",
    "        self.val = val\n",
    "        self.left = left\n",
    "        self.right = right\n",
    "\n",
    "a = Node(3)\n",
    "b = Node(11)\n",
    "c = Node(4)\n",
    "d = Node(4)\n",
    "e = Node(2)\n",
    "f = Node(1)\n",
    "\n",
    "a.left = b\n",
    "a.right = c\n",
    "b.left = d\n",
    "b.right = e\n",
    "c.right = f\n",
    "\n",
    "# Visual representation\n",
    "#        a(3)\n",
    "#      /      \\\n",
    "#     b(11)  c(4)\n",
    "#    /    \\     \\\n",
    "#   d(4)  e(2)  f(1)"
   ]
  },
  {
   "cell_type": "code",
   "execution_count": 2,
   "id": "28329111",
   "metadata": {},
   "outputs": [
    {
     "data": {
      "text/plain": [
       "(18, 16, 8)"
      ]
     },
     "execution_count": 2,
     "metadata": {},
     "output_type": "execute_result"
    }
   ],
   "source": [
    "3+11+4, 3+11+2, 3+4+1"
   ]
  },
  {
   "cell_type": "markdown",
   "id": "1f68d4fb",
   "metadata": {},
   "source": [
    "#### DFS Recursion"
   ]
  },
  {
   "cell_type": "code",
   "execution_count": 3,
   "id": "27a355ec",
   "metadata": {},
   "outputs": [
    {
     "data": {
      "text/plain": [
       "18"
      ]
     },
     "execution_count": 3,
     "metadata": {},
     "output_type": "execute_result"
    }
   ],
   "source": [
    "def MaxPathSumDFS(root):\n",
    "    if root == None:\n",
    "        return float(\"-inf\")\n",
    "    if root.left == None and root.right == None:\n",
    "        return root.val\n",
    "    result = max(MaxPathSumDFS(root.left), MaxPathSumDFS(root.right))\n",
    "    return root.val + result\n",
    "\n",
    "MaxPathSumDFS(a)"
   ]
  },
  {
   "cell_type": "markdown",
   "id": "3e86b33a",
   "metadata": {},
   "source": [
    "#### Time complexity: $\\mathcal{O}(n)$\n",
    "#### Space complexity: $\\mathcal{O}(n)$"
   ]
  }
 ],
 "metadata": {
  "kernelspec": {
   "display_name": "Python 3 (ipykernel)",
   "language": "python",
   "name": "python3"
  },
  "language_info": {
   "codemirror_mode": {
    "name": "ipython",
    "version": 3
   },
   "file_extension": ".py",
   "mimetype": "text/x-python",
   "name": "python",
   "nbconvert_exporter": "python",
   "pygments_lexer": "ipython3",
   "version": "3.9.13"
  }
 },
 "nbformat": 4,
 "nbformat_minor": 5
}
