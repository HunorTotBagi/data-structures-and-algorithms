{
 "cells": [
  {
   "cell_type": "markdown",
   "id": "27edbf81",
   "metadata": {},
   "source": [
    "# Initializing the tree"
   ]
  },
  {
   "cell_type": "code",
   "execution_count": 1,
   "id": "e8941145",
   "metadata": {},
   "outputs": [],
   "source": [
    "class Node:\n",
    "    def __init__(self, val, left = None, right = None):\n",
    "        self.val = val\n",
    "        self.left = None\n",
    "        self.right = None\n",
    "\n",
    "a = Node(3, None, None)\n",
    "b = Node(11, None, None)\n",
    "c = Node(4, None, None)\n",
    "d = Node(4, None, None)\n",
    "e = Node(2, None, None)\n",
    "f = Node(1, None, None)\n",
    "\n",
    "a.left = b\n",
    "a.right = c\n",
    "b.left = d\n",
    "b.right = e\n",
    "c.right = f\n",
    "\n",
    "# Visual representation\n",
    "#        a(3)\n",
    "#      /      \\\n",
    "#     b(11)  c(4)\n",
    "#    /    \\     \\\n",
    "#   d(4)  e(2)  f(1)"
   ]
  },
  {
   "cell_type": "markdown",
   "id": "be1aef0e",
   "metadata": {},
   "source": [
    "# DFS"
   ]
  },
  {
   "cell_type": "code",
   "execution_count": 16,
   "id": "9523dd87",
   "metadata": {},
   "outputs": [
    {
     "data": {
      "text/plain": [
       "25"
      ]
     },
     "execution_count": 16,
     "metadata": {},
     "output_type": "execute_result"
    }
   ],
   "source": [
    "def TreeSumDFS(root):\n",
    "    result = 0\n",
    "    stack = []\n",
    "    stack.append(root)\n",
    "    result += root.val\n",
    "    while len(stack) > 0:\n",
    "        current = stack.pop(-1)\n",
    "        if current.left != None:\n",
    "            stack.append(current.left)\n",
    "            result += current.left.val\n",
    "        if current.right != None:\n",
    "            stack.append(current.right)\n",
    "            result += current.right.val\n",
    "    return result\n",
    "\n",
    "TreeSumDFS(a)"
   ]
  },
  {
   "cell_type": "markdown",
   "id": "5da977ef",
   "metadata": {},
   "source": [
    "# BFS"
   ]
  },
  {
   "cell_type": "code",
   "execution_count": 21,
   "id": "7a574efc",
   "metadata": {},
   "outputs": [
    {
     "data": {
      "text/plain": [
       "25"
      ]
     },
     "execution_count": 21,
     "metadata": {},
     "output_type": "execute_result"
    }
   ],
   "source": [
    "def TreeSumBFS(root):\n",
    "    result = 0\n",
    "    queue = []\n",
    "    queue.append(root)\n",
    "    result += root.val\n",
    "    while len(queue) > 0:\n",
    "        current = queue[0]\n",
    "\n",
    "        if current.left != None:\n",
    "            queue.append(current.left)\n",
    "            result += current.left.val\n",
    "        if current.right != None:\n",
    "            queue.append(current.right)\n",
    "            result += current.right.val\n",
    "        queue.pop(0)\n",
    "    return result\n",
    "\n",
    "TreeSumBFS(a)"
   ]
  }
 ],
 "metadata": {
  "kernelspec": {
   "display_name": "Python 3 (ipykernel)",
   "language": "python",
   "name": "python3"
  },
  "language_info": {
   "codemirror_mode": {
    "name": "ipython",
    "version": 3
   },
   "file_extension": ".py",
   "mimetype": "text/x-python",
   "name": "python",
   "nbconvert_exporter": "python",
   "pygments_lexer": "ipython3",
   "version": "3.9.13"
  }
 },
 "nbformat": 4,
 "nbformat_minor": 5
}
