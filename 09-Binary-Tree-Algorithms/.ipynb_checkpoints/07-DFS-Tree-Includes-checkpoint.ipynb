{
 "cells": [
  {
   "cell_type": "code",
   "execution_count": 4,
   "id": "e4211d43",
   "metadata": {},
   "outputs": [],
   "source": [
    "class Node:\n",
    "    # Makes it easier to create new nodes by automatically setting the left and right parameters to None\n",
    "    def __init__(self, val, left = None, right = None):\n",
    "        self.val = val\n",
    "        self.left = left\n",
    "        self.right = right\n",
    "        \n",
    "a = Node('a')\n",
    "b = Node('b')\n",
    "c = Node('c')\n",
    "d = Node('d')\n",
    "e = Node('e')\n",
    "f = Node('f')\n",
    "\n",
    "a.left = b\n",
    "a.right = c\n",
    "b.left = d\n",
    "b.right = e\n",
    "c.right = f\n",
    "\n",
    "# Visual representation\n",
    "#       a\n",
    "#      /\\\n",
    "#     b  c\n",
    "#    /\\   \\\n",
    "#   d  e   f\n",
    "\n",
    "def DFS(root, target):\n",
    "    if root == None:\n",
    "        return False\n",
    "    if root.val == target:\n",
    "        return True\n",
    "    return DFS(root.left, target) or DFS(root.right, target)"
   ]
  },
  {
   "cell_type": "code",
   "execution_count": 5,
   "id": "c53e4d14",
   "metadata": {},
   "outputs": [
    {
     "data": {
      "text/plain": [
       "True"
      ]
     },
     "execution_count": 5,
     "metadata": {},
     "output_type": "execute_result"
    }
   ],
   "source": [
    "DFS(a, 'b')"
   ]
  },
  {
   "cell_type": "code",
   "execution_count": 6,
   "id": "dad2813e",
   "metadata": {},
   "outputs": [
    {
     "data": {
      "text/plain": [
       "True"
      ]
     },
     "execution_count": 6,
     "metadata": {},
     "output_type": "execute_result"
    }
   ],
   "source": [
    "DFS(a, 'f')"
   ]
  },
  {
   "cell_type": "code",
   "execution_count": 7,
   "id": "8904c9cb",
   "metadata": {},
   "outputs": [
    {
     "data": {
      "text/plain": [
       "False"
      ]
     },
     "execution_count": 7,
     "metadata": {},
     "output_type": "execute_result"
    }
   ],
   "source": [
    "DFS(a, 'y')"
   ]
  },
  {
   "cell_type": "code",
   "execution_count": 8,
   "id": "4a5b277b",
   "metadata": {},
   "outputs": [
    {
     "data": {
      "text/plain": [
       "False"
      ]
     },
     "execution_count": 8,
     "metadata": {},
     "output_type": "execute_result"
    }
   ],
   "source": [
    "DFS(None, 'b')"
   ]
  }
 ],
 "metadata": {
  "kernelspec": {
   "display_name": "Python 3 (ipykernel)",
   "language": "python",
   "name": "python3"
  },
  "language_info": {
   "codemirror_mode": {
    "name": "ipython",
    "version": 3
   },
   "file_extension": ".py",
   "mimetype": "text/x-python",
   "name": "python",
   "nbconvert_exporter": "python",
   "pygments_lexer": "ipython3",
   "version": "3.9.13"
  }
 },
 "nbformat": 4,
 "nbformat_minor": 5
}
