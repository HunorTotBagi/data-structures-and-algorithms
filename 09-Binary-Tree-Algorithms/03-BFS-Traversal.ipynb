{
 "cells": [
  {
   "cell_type": "code",
   "execution_count": 7,
   "id": "1377a7ae",
   "metadata": {},
   "outputs": [],
   "source": [
    "class Node:\n",
    "    def __init__(self, val = None, left = None, right = None):\n",
    "        self.val = val\n",
    "        self.left = left\n",
    "        self.right = right\n",
    "\n",
    "a = Node('a')\n",
    "b = Node('b')\n",
    "c = Node('c')\n",
    "d = Node('d')\n",
    "e = Node('e')\n",
    "f = Node('f')\n",
    "\n",
    "a.left = b\n",
    "a.right = c\n",
    "b.left = d\n",
    "b.right = e\n",
    "c.right = f\n",
    "\n",
    "# Visual representation\n",
    "#       a\n",
    "#      /\\\n",
    "#     b  c\n",
    "#    /\\   \\\n",
    "#   d  e   f"
   ]
  },
  {
   "cell_type": "markdown",
   "id": "18b05d34",
   "metadata": {},
   "source": [
    "#### Iterative solution"
   ]
  },
  {
   "cell_type": "code",
   "execution_count": 8,
   "id": "8bb5ec5c",
   "metadata": {},
   "outputs": [
    {
     "data": {
      "text/plain": [
       "['a', 'b', 'c', 'd', 'e', 'f']"
      ]
     },
     "execution_count": 8,
     "metadata": {},
     "output_type": "execute_result"
    }
   ],
   "source": [
    "def breadthFirstValues(root):\n",
    "    result = []\n",
    "    queue = []\n",
    "    queue.append(root)\n",
    "    while len(queue) > 0:\n",
    "        current = queue[0]\n",
    "        result.append(current.val)\n",
    "        if current.left != None:\n",
    "            queue.append(current.left)\n",
    "        if current.right != None:\n",
    "            queue.append(current.right)\n",
    "        queue.pop(0)\n",
    "    return result\n",
    "            \n",
    "breadthFirstValues(a)"
   ]
  }
 ],
 "metadata": {
  "kernelspec": {
   "display_name": "Python 3 (ipykernel)",
   "language": "python",
   "name": "python3"
  },
  "language_info": {
   "codemirror_mode": {
    "name": "ipython",
    "version": 3
   },
   "file_extension": ".py",
   "mimetype": "text/x-python",
   "name": "python",
   "nbconvert_exporter": "python",
   "pygments_lexer": "ipython3",
   "version": "3.9.13"
  }
 },
 "nbformat": 4,
 "nbformat_minor": 5
}
