{
 "cells": [
  {
   "cell_type": "code",
   "execution_count": 3,
   "id": "ab4d21e8",
   "metadata": {},
   "outputs": [
    {
     "name": "stdout",
     "output_type": "stream",
     "text": [
      "* * * * \n",
      "* * * \n",
      "* * \n",
      "* \n"
     ]
    }
   ],
   "source": [
    "# Pattern 1 \n",
    "# * * * *\n",
    "# * * *\n",
    "# * * \n",
    "# * *\n",
    "# *\n",
    "\n",
    "def pattern1(n):\n",
    "    if n == 0:\n",
    "        return\n",
    "    print(\"* \" * n)\n",
    "    pattern1(n-1)\n",
    "\n",
    "        \n",
    "pattern1(4)"
   ]
  },
  {
   "cell_type": "code",
   "execution_count": 5,
   "id": "62304fe4",
   "metadata": {},
   "outputs": [
    {
     "name": "stdout",
     "output_type": "stream",
     "text": [
      "* \n",
      "* * \n",
      "* * * \n",
      "* * * * \n",
      "* * * * * \n",
      "* * * * * * \n",
      "* * * * * * * \n",
      "* * * * * * * * \n",
      "* * * * * * * * * \n"
     ]
    }
   ],
   "source": [
    "# Pattern 2\n",
    "# *\n",
    "# * *\n",
    "# * * *\n",
    "# * * * *\n",
    "\n",
    "def pattern2(n, index):\n",
    "    if index == n+1:\n",
    "        return\n",
    "    print(\"* \" * index)\n",
    "    pattern2(n, index+1)\n",
    "    \n",
    "pattern2(9,1)"
   ]
  }
 ],
 "metadata": {
  "kernelspec": {
   "display_name": "Python 3 (ipykernel)",
   "language": "python",
   "name": "python3"
  },
  "language_info": {
   "codemirror_mode": {
    "name": "ipython",
    "version": 3
   },
   "file_extension": ".py",
   "mimetype": "text/x-python",
   "name": "python",
   "nbconvert_exporter": "python",
   "pygments_lexer": "ipython3",
   "version": "3.9.13"
  }
 },
 "nbformat": 4,
 "nbformat_minor": 5
}
