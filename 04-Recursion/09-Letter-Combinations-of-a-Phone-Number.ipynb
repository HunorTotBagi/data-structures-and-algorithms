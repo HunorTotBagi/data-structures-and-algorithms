{
 "cells": [
  {
   "cell_type": "code",
   "execution_count": 35,
   "id": "8e034f03",
   "metadata": {},
   "outputs": [
    {
     "name": "stdout",
     "output_type": "stream",
     "text": [
      " amv\n",
      " amw\n",
      " amx\n",
      " anv\n",
      " anw\n",
      " anx\n",
      " aov\n",
      " aow\n",
      " aox\n",
      " bmv\n",
      " bmw\n",
      " bmx\n",
      " bnv\n",
      " bnw\n",
      " bnx\n",
      " bov\n",
      " bow\n",
      " box\n",
      " cmv\n",
      " cmw\n",
      " cmx\n",
      " cnv\n",
      " cnw\n",
      " cnx\n",
      " cov\n",
      " cow\n",
      " cox\n"
     ]
    }
   ],
   "source": [
    "def phone(p, up):\n",
    "    if len(up) == 0:\n",
    "        print(p)\n",
    "        return\n",
    "    \n",
    "    digit = int(up[0])\n",
    "    \n",
    "    for i in range((digit - 1)*3,digit*3):\n",
    "        ch = chr(97+i)\n",
    "        phone(p + ch, up[1:])\n",
    "        \n",
    "phone(\" \",\"158\")"
   ]
  }
 ],
 "metadata": {
  "kernelspec": {
   "display_name": "Python 3 (ipykernel)",
   "language": "python",
   "name": "python3"
  },
  "language_info": {
   "codemirror_mode": {
    "name": "ipython",
    "version": 3
   },
   "file_extension": ".py",
   "mimetype": "text/x-python",
   "name": "python",
   "nbconvert_exporter": "python",
   "pygments_lexer": "ipython3",
   "version": "3.9.13"
  }
 },
 "nbformat": 4,
 "nbformat_minor": 5
}
