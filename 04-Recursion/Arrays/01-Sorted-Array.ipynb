{
 "cells": [
  {
   "cell_type": "code",
   "execution_count": 5,
   "id": "3242cbe3",
   "metadata": {},
   "outputs": [
    {
     "data": {
      "text/plain": [
       "(True, False)"
      ]
     },
     "execution_count": 5,
     "metadata": {},
     "output_type": "execute_result"
    }
   ],
   "source": [
    "# Find if array is sorted or not.\n",
    "\n",
    "def Sorted(arr, index):\n",
    "    if index == len(arr)-1:\n",
    "        return True\n",
    "    return arr[index] < arr[index + 1] and Sorted(arr, index + 1)\n",
    "\n",
    "Sorted([1,2,3,5,6,8], 0), Sorted([1,2,10,5,6,8], 0)"
   ]
  }
 ],
 "metadata": {
  "kernelspec": {
   "display_name": "Python 3 (ipykernel)",
   "language": "python",
   "name": "python3"
  },
  "language_info": {
   "codemirror_mode": {
    "name": "ipython",
    "version": 3
   },
   "file_extension": ".py",
   "mimetype": "text/x-python",
   "name": "python",
   "nbconvert_exporter": "python",
   "pygments_lexer": "ipython3",
   "version": "3.9.13"
  }
 },
 "nbformat": 4,
 "nbformat_minor": 5
}
