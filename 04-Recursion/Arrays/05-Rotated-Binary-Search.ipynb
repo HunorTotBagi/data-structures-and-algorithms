{
 "cells": [
  {
   "cell_type": "code",
   "execution_count": 14,
   "id": "85727a23",
   "metadata": {},
   "outputs": [
    {
     "data": {
      "text/plain": [
       "6"
      ]
     },
     "execution_count": 14,
     "metadata": {},
     "output_type": "execute_result"
    }
   ],
   "source": [
    "def search(arr, target, s ,e):\n",
    "    if s > e:\n",
    "        return -1\n",
    "    m = int(s + (e-s)/2)\n",
    "    if arr[m] == target:\n",
    "        return m\n",
    "    if arr[s] <= arr[m]:\n",
    "        if target >= arr[s] and target <= arr[m]:\n",
    "            return search(arr, target, s, m - 1)\n",
    "        else:\n",
    "            return search(arr, target, m + 1, e)\n",
    "    \n",
    "    if target >= arr[m] and target <= arr[e]:\n",
    "        return search(arr, target, m + 1, e)\n",
    "    else:\n",
    "        return search(arr, target, s, m - 1)\n",
    "        \n",
    "arr1 = [5,6,7,8,9,1,2,3]\n",
    "search(arr1, 2, 0 ,len(arr1)-1)"
   ]
  }
 ],
 "metadata": {
  "kernelspec": {
   "display_name": "Python 3 (ipykernel)",
   "language": "python",
   "name": "python3"
  },
  "language_info": {
   "codemirror_mode": {
    "name": "ipython",
    "version": 3
   },
   "file_extension": ".py",
   "mimetype": "text/x-python",
   "name": "python",
   "nbconvert_exporter": "python",
   "pygments_lexer": "ipython3",
   "version": "3.9.13"
  }
 },
 "nbformat": 4,
 "nbformat_minor": 5
}
