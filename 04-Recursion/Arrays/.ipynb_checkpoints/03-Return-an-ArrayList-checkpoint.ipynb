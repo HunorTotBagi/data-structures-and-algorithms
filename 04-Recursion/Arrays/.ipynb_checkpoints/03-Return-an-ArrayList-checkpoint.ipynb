{
 "cells": [
  {
   "cell_type": "code",
   "execution_count": 23,
   "id": "864ea360",
   "metadata": {},
   "outputs": [],
   "source": [
    "def arrayList(arr, target, index, lista):\n",
    "    if index == len(arr)-1:\n",
    "        return lista\n",
    "    if target == arr[index]:\n",
    "        lista.append(index)\n",
    "    return arrayList(arr, target, index + 1, lista)"
   ]
  },
  {
   "cell_type": "code",
   "execution_count": 24,
   "id": "c37a49ef",
   "metadata": {},
   "outputs": [
    {
     "data": {
      "text/plain": [
       "[3, 4]"
      ]
     },
     "execution_count": 24,
     "metadata": {},
     "output_type": "execute_result"
    }
   ],
   "source": [
    "arrayList([1,2,3,4,4,8], 4, 0, [])"
   ]
  }
 ],
 "metadata": {
  "kernelspec": {
   "display_name": "Python 3 (ipykernel)",
   "language": "python",
   "name": "python3"
  },
  "language_info": {
   "codemirror_mode": {
    "name": "ipython",
    "version": 3
   },
   "file_extension": ".py",
   "mimetype": "text/x-python",
   "name": "python",
   "nbconvert_exporter": "python",
   "pygments_lexer": "ipython3",
   "version": "3.9.13"
  }
 },
 "nbformat": 4,
 "nbformat_minor": 5
}
