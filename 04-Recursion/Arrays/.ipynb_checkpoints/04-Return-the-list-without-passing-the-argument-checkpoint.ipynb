{
 "cells": [
  {
   "cell_type": "code",
   "execution_count": 8,
   "id": "56c63087",
   "metadata": {},
   "outputs": [
    {
     "data": {
      "text/plain": [
       "[[[[3, [4, [[]]]]]]]"
      ]
     },
     "execution_count": 8,
     "metadata": {},
     "output_type": "execute_result"
    }
   ],
   "source": [
    "# Not the best approach since we create new objets every call\n",
    "\n",
    "def without(arr, target, index):\n",
    "    lista = []\n",
    "    if index == len(arr):\n",
    "        return lista\n",
    "    if target == arr[index]:\n",
    "        lista.append(index)\n",
    "    ansFromBelowCalls = without(arr, target, index + 1)\n",
    "    lista.append(ansFromBelowCalls)\n",
    "    \n",
    "    return lista\n",
    "    \n",
    "without([1,2,3,4,4,8],4,0)"
   ]
  }
 ],
 "metadata": {
  "kernelspec": {
   "display_name": "Python 3 (ipykernel)",
   "language": "python",
   "name": "python3"
  },
  "language_info": {
   "codemirror_mode": {
    "name": "ipython",
    "version": 3
   },
   "file_extension": ".py",
   "mimetype": "text/x-python",
   "name": "python",
   "nbconvert_exporter": "python",
   "pygments_lexer": "ipython3",
   "version": "3.9.13"
  }
 },
 "nbformat": 4,
 "nbformat_minor": 5
}
