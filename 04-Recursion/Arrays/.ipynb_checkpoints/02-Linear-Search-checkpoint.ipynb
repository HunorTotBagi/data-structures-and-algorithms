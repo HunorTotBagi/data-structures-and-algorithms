{
 "cells": [
  {
   "cell_type": "code",
   "execution_count": 10,
   "id": "e60b77aa",
   "metadata": {},
   "outputs": [
    {
     "data": {
      "text/plain": [
       "True"
      ]
     },
     "execution_count": 10,
     "metadata": {},
     "output_type": "execute_result"
    }
   ],
   "source": [
    "# True or false\n",
    "\n",
    "def LinearSearch(arr, target, index):\n",
    "    if index == len(arr):\n",
    "        return False\n",
    "    return arr[index] == target or LinearSearch(arr, target, index + 1)\n",
    "\n",
    "LinearSearch([1,5,3,7,4,323,64,2,666], 7, 0)"
   ]
  },
  {
   "cell_type": "code",
   "execution_count": 12,
   "id": "bb21428a",
   "metadata": {},
   "outputs": [
    {
     "data": {
      "text/plain": [
       "-1"
      ]
     },
     "execution_count": 12,
     "metadata": {},
     "output_type": "execute_result"
    }
   ],
   "source": [
    "# Return index if exists\n",
    "\n",
    "def LinearSearchIndex(arr, target, index):\n",
    "    if index == len(arr):\n",
    "        return -1\n",
    "    if arr[index] == target:\n",
    "        return index\n",
    "    else:   \n",
    "        return LinearSearchIndex(arr, target, index + 1)\n",
    "\n",
    "LinearSearchIndex([1,5,3,7,4,323,64,2,666], 66, 0)  "
   ]
  },
  {
   "cell_type": "code",
   "execution_count": 20,
   "id": "9809aab6",
   "metadata": {},
   "outputs": [
    {
     "data": {
      "text/plain": [
       "2"
      ]
     },
     "execution_count": 20,
     "metadata": {},
     "output_type": "execute_result"
    }
   ],
   "source": [
    "# Search from last index to first\n",
    "\n",
    "def LinearSearchIndexFromBack(arr, target, index):\n",
    "    if index == -1:\n",
    "        return -1\n",
    "    if arr[index] == target:\n",
    "        return index\n",
    "    else:   \n",
    "        return LinearSearchIndexFromBack(arr, target, index - 1)\n",
    "    \n",
    "arr = [1,5,3,7,4,323,64,2,666]\n",
    "\n",
    "LinearSearchIndexFromBack(arr, 3, len(arr)-1)  "
   ]
  },
  {
   "cell_type": "code",
   "execution_count": 44,
   "id": "65e5703c",
   "metadata": {},
   "outputs": [
    {
     "data": {
      "text/plain": [
       "[3, 4]"
      ]
     },
     "execution_count": 44,
     "metadata": {},
     "output_type": "execute_result"
    }
   ],
   "source": [
    "array = []\n",
    "def LinearSearchAll(arr, target, index):\n",
    "    if index == len(arr):\n",
    "        return\n",
    "    if arr[index] == target:\n",
    "        array.append(index)\n",
    "    LinearSearchAll(arr, target, index + 1)\n",
    "    \n",
    "LinearSearchAll([2,3,1,4,4,5], 4, 0)\n",
    "array"
   ]
  }
 ],
 "metadata": {
  "kernelspec": {
   "display_name": "Python 3 (ipykernel)",
   "language": "python",
   "name": "python3"
  },
  "language_info": {
   "codemirror_mode": {
    "name": "ipython",
    "version": 3
   },
   "file_extension": ".py",
   "mimetype": "text/x-python",
   "name": "python",
   "nbconvert_exporter": "python",
   "pygments_lexer": "ipython3",
   "version": "3.9.13"
  }
 },
 "nbformat": 4,
 "nbformat_minor": 5
}
