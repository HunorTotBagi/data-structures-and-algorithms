{
 "cells": [
  {
   "cell_type": "code",
   "execution_count": 6,
   "id": "796e96d9",
   "metadata": {},
   "outputs": [
    {
     "name": "stdout",
     "output_type": "stream",
     "text": [
      "1\n",
      "2\n",
      "3\n",
      "4\n",
      "5\n"
     ]
    }
   ],
   "source": [
    "# Write a function that takes in a number and prints it\n",
    "# Print first 5 numbers: 1 2 3 4 5\n",
    "\n",
    "def printNumbers(n):\n",
    "    \n",
    "    # Base condition\n",
    "    \n",
    "    if n == 5: \n",
    "        print(5)\n",
    "        return\n",
    "    \n",
    "    print(n)\n",
    "    \n",
    "    # Recursive call\n",
    "    # The function is calling itself again and again\n",
    "    # Every function is a seperate call in the stack\n",
    "    \n",
    "    printNumbers(n + 1)\n",
    "    \n",
    "PrintRecursion(1)"
   ]
  },
  {
   "cell_type": "code",
   "execution_count": null,
   "id": "d5b70ab6",
   "metadata": {},
   "outputs": [],
   "source": []
  }
 ],
 "metadata": {
  "kernelspec": {
   "display_name": "Python 3 (ipykernel)",
   "language": "python",
   "name": "python3"
  },
  "language_info": {
   "codemirror_mode": {
    "name": "ipython",
    "version": 3
   },
   "file_extension": ".py",
   "mimetype": "text/x-python",
   "name": "python",
   "nbconvert_exporter": "python",
   "pygments_lexer": "ipython3",
   "version": "3.9.13"
  }
 },
 "nbformat": 4,
 "nbformat_minor": 5
}
