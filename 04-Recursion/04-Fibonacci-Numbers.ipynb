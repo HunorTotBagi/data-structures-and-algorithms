{
 "cells": [
  {
   "cell_type": "code",
   "execution_count": 8,
   "id": "c21c39ef",
   "metadata": {},
   "outputs": [],
   "source": [
    "# Find the n'th Finobacci number."
   ]
  },
  {
   "cell_type": "code",
   "execution_count": 9,
   "id": "d0669eef",
   "metadata": {},
   "outputs": [
    {
     "data": {
      "text/plain": [
       "987"
      ]
     },
     "execution_count": 9,
     "metadata": {},
     "output_type": "execute_result"
    }
   ],
   "source": [
    "def fibonacci(n):\n",
    "    if n==0:\n",
    "        return 0\n",
    "    if n==1:\n",
    "        return 1\n",
    "    \n",
    "    # Recurrence relation\n",
    "    return fibonacci(n-2) + fibonacci(n-1)\n",
    "\n",
    "fibonacci(16) "
   ]
  },
  {
   "cell_type": "code",
   "execution_count": 10,
   "id": "bdfb5b5f",
   "metadata": {},
   "outputs": [
    {
     "data": {
      "text/plain": [
       "987"
      ]
     },
     "execution_count": 10,
     "metadata": {},
     "output_type": "execute_result"
    }
   ],
   "source": [
    "# More elegant code:\n",
    "def fibonacci1(n):\n",
    "    if n < 2:\n",
    "        return n\n",
    "    return fibonacci1(n-2) + fibonacci1(n-1)\n",
    "\n",
    "fibonacci1(16)"
   ]
  },
  {
   "cell_type": "code",
   "execution_count": 11,
   "id": "82ad638e",
   "metadata": {},
   "outputs": [
    {
     "data": {
      "text/plain": [
       "987"
      ]
     },
     "execution_count": 11,
     "metadata": {},
     "output_type": "execute_result"
    }
   ],
   "source": [
    "import math\n",
    "def fibonacci2(n):\n",
    "        first = ((1+math.sqrt(5))/2)**n\n",
    "        second = ((1-math.sqrt(5))/2)**n\n",
    "        return int((first - second) / math.sqrt(5))\n",
    "    \n",
    "fibonacci2(16)"
   ]
  }
 ],
 "metadata": {
  "kernelspec": {
   "display_name": "Python 3 (ipykernel)",
   "language": "python",
   "name": "python3"
  },
  "language_info": {
   "codemirror_mode": {
    "name": "ipython",
    "version": 3
   },
   "file_extension": ".py",
   "mimetype": "text/x-python",
   "name": "python",
   "nbconvert_exporter": "python",
   "pygments_lexer": "ipython3",
   "version": "3.9.13"
  }
 },
 "nbformat": 4,
 "nbformat_minor": 5
}
