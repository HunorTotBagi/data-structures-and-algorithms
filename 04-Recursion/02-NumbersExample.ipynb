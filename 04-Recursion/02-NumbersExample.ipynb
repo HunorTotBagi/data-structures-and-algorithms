{
 "cells": [
  {
   "cell_type": "code",
   "execution_count": 2,
   "id": "9606437b",
   "metadata": {},
   "outputs": [],
   "source": [
    "# Write a function that takes in a number and prints it\n",
    "# Print first 5 numbers: 1 2 3 4 5"
   ]
  },
  {
   "cell_type": "code",
   "execution_count": 20,
   "id": "6cc830c5",
   "metadata": {},
   "outputs": [],
   "source": [
    "def print1(n):\n",
    "    print(n)\n",
    "    print2(2)\n",
    "    \n",
    "def print2(n):\n",
    "    print(n)\n",
    "    print3(3)\n",
    "    \n",
    "def print3(n):\n",
    "    print(n)\n",
    "    print4(4)\n",
    "    \n",
    "def print4(n):\n",
    "    print(n)\n",
    "    print5(5)\n",
    "    \n",
    "def print5(n):\n",
    "    print(n)"
   ]
  },
  {
   "cell_type": "code",
   "execution_count": 21,
   "id": "be31055a",
   "metadata": {},
   "outputs": [
    {
     "name": "stdout",
     "output_type": "stream",
     "text": [
      "1\n",
      "2\n",
      "3\n",
      "4\n",
      "5\n"
     ]
    }
   ],
   "source": [
    "print1(1)"
   ]
  },
  {
   "cell_type": "code",
   "execution_count": null,
   "id": "a168bf3e",
   "metadata": {},
   "outputs": [],
   "source": []
  }
 ],
 "metadata": {
  "kernelspec": {
   "display_name": "Python 3 (ipykernel)",
   "language": "python",
   "name": "python3"
  },
  "language_info": {
   "codemirror_mode": {
    "name": "ipython",
    "version": 3
   },
   "file_extension": ".py",
   "mimetype": "text/x-python",
   "name": "python",
   "nbconvert_exporter": "python",
   "pygments_lexer": "ipython3",
   "version": "3.9.13"
  }
 },
 "nbformat": 4,
 "nbformat_minor": 5
}
