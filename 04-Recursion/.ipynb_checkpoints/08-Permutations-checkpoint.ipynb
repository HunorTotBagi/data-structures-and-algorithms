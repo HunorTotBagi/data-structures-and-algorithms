{
 "cells": [
  {
   "cell_type": "code",
   "execution_count": 9,
   "id": "d89bf91c",
   "metadata": {},
   "outputs": [
    {
     "name": "stdout",
     "output_type": "stream",
     "text": [
      "cba \n",
      "bca \n",
      "bac \n",
      "cab \n",
      "acb \n",
      "abc \n"
     ]
    }
   ],
   "source": [
    "# p stands for processed\n",
    "# up stands for unprocessed\n",
    "\n",
    "def permutations(p, up):\n",
    "    if len(up) == 0:\n",
    "        print(p)\n",
    "        return\n",
    "    \n",
    "    ch = up[0]\n",
    "    \n",
    "    for i in range(len(p)):\n",
    "        f = p[0:i]\n",
    "        s = p[i:len(p)]\n",
    "        permutations(f + ch + s, up[1:])\n",
    "        \n",
    "permutations(\" \",\"abc\")"
   ]
  },
  {
   "cell_type": "code",
   "execution_count": 10,
   "id": "9200c902",
   "metadata": {},
   "outputs": [
    {
     "name": "stdout",
     "output_type": "stream",
     "text": [
      "4321 \n",
      "3421 \n",
      "3241 \n",
      "3214 \n",
      "4231 \n",
      "2431 \n",
      "2341 \n",
      "2314 \n",
      "4213 \n",
      "2413 \n",
      "2143 \n",
      "2134 \n",
      "4312 \n",
      "3412 \n",
      "3142 \n",
      "3124 \n",
      "4132 \n",
      "1432 \n",
      "1342 \n",
      "1324 \n",
      "4123 \n",
      "1423 \n",
      "1243 \n",
      "1234 \n"
     ]
    }
   ],
   "source": [
    "permutations(\" \",\"1234\")"
   ]
  },
  {
   "cell_type": "code",
   "execution_count": 20,
   "id": "d1952431",
   "metadata": {},
   "outputs": [
    {
     "data": {
      "text/plain": [
       "[[[[['dcba '], ['cdba '], ['cbda '], ['cbad ']],\n",
       "   [['dbca '], ['bdca '], ['bcda '], ['bcad ']],\n",
       "   [['dbac '], ['bdac '], ['badc '], ['bacd ']]],\n",
       "  [[['dcab '], ['cdab '], ['cadb '], ['cabd ']],\n",
       "   [['dacb '], ['adcb '], ['acdb '], ['acbd ']],\n",
       "   [['dabc '], ['adbc '], ['abdc '], ['abcd ']]]]]"
      ]
     },
     "execution_count": 20,
     "metadata": {},
     "output_type": "execute_result"
    }
   ],
   "source": [
    "def permutationsArr(p, up):\n",
    "    if len(up) == 0:\n",
    "        lista = []\n",
    "        lista.append(p)\n",
    "        return lista\n",
    "    \n",
    "    ch = up[0]\n",
    "    \n",
    "    ans = []\n",
    "    \n",
    "    for i in range(len(p)):\n",
    "        f = p[0:i]\n",
    "        s = p[i:len(p)]\n",
    "        ans.append(permutationsArr(f + ch + s, up[1:]))\n",
    "    \n",
    "    return ans\n",
    "        \n",
    "permutationsArr(\" \",\"abcd\")"
   ]
  }
 ],
 "metadata": {
  "kernelspec": {
   "display_name": "Python 3 (ipykernel)",
   "language": "python",
   "name": "python3"
  },
  "language_info": {
   "codemirror_mode": {
    "name": "ipython",
    "version": 3
   },
   "file_extension": ".py",
   "mimetype": "text/x-python",
   "name": "python",
   "nbconvert_exporter": "python",
   "pygments_lexer": "ipython3",
   "version": "3.9.13"
  }
 },
 "nbformat": 4,
 "nbformat_minor": 5
}
