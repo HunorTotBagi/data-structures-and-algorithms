{
 "cells": [
  {
   "cell_type": "code",
   "execution_count": 64,
   "id": "d0ef2dd4",
   "metadata": {},
   "outputs": [
    {
     "name": "stdout",
     "output_type": "stream",
     "text": [
      "1\n",
      "3\n",
      "5\n",
      "-1\n"
     ]
    }
   ],
   "source": [
    "def BinarySearch(arr, target, start, end):\n",
    "    \n",
    "    if start > end:\n",
    "        return -1\n",
    "    \n",
    "    mid = int(start + (end - start) / 2)\n",
    "    \n",
    "    if arr[mid] == target:\n",
    "        return mid\n",
    "    if target < arr[mid]:\n",
    "        return BinarySearch(arr, target, start, mid - 1)\n",
    "    return BinarySearch(arr, target, mid + 1, end)\n",
    "\n",
    "arr = [1,2,3,4,55,66,78]\n",
    "        \n",
    "print(BinarySearch(arr, 2, 0, len(arr)-1)) \n",
    "print(BinarySearch(arr, 4, 0, len(arr)-1))  \n",
    "print(BinarySearch(arr, 66, 0, len(arr)-1)) \n",
    "print(BinarySearch(arr, 100, 0, len(arr)-1)) "
   ]
  }
 ],
 "metadata": {
  "kernelspec": {
   "display_name": "Python 3 (ipykernel)",
   "language": "python",
   "name": "python3"
  },
  "language_info": {
   "codemirror_mode": {
    "name": "ipython",
    "version": 3
   },
   "file_extension": ".py",
   "mimetype": "text/x-python",
   "name": "python",
   "nbconvert_exporter": "python",
   "pygments_lexer": "ipython3",
   "version": "3.9.13"
  }
 },
 "nbformat": 4,
 "nbformat_minor": 5
}
