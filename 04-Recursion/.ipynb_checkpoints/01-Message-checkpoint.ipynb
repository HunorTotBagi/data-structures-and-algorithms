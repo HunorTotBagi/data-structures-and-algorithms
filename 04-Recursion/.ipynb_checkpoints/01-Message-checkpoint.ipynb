{
 "cells": [
  {
   "cell_type": "code",
   "execution_count": 8,
   "id": "df875476",
   "metadata": {},
   "outputs": [],
   "source": [
    "def message():\n",
    "    print(\"Hello World!\")\n",
    "    message1()"
   ]
  },
  {
   "cell_type": "code",
   "execution_count": 9,
   "id": "8515f541",
   "metadata": {},
   "outputs": [],
   "source": [
    "def message1():\n",
    "    print(\"Hello World!\")\n",
    "    message2()"
   ]
  },
  {
   "cell_type": "code",
   "execution_count": 10,
   "id": "1f9d97f2",
   "metadata": {},
   "outputs": [],
   "source": [
    "def message2():\n",
    "    print(\"Hello World!\")\n",
    "    message3()"
   ]
  },
  {
   "cell_type": "code",
   "execution_count": 11,
   "id": "dd761b41",
   "metadata": {},
   "outputs": [],
   "source": [
    "def message3():\n",
    "    print(\"Hello World!\")\n",
    "    message4()"
   ]
  },
  {
   "cell_type": "code",
   "execution_count": 12,
   "id": "5b6929ac",
   "metadata": {},
   "outputs": [],
   "source": [
    "def message4():\n",
    "    print(\"Hello World!\")"
   ]
  },
  {
   "cell_type": "code",
   "execution_count": 13,
   "id": "6eb3c3c5",
   "metadata": {},
   "outputs": [
    {
     "name": "stdout",
     "output_type": "stream",
     "text": [
      "Hello World!\n",
      "Hello World!\n",
      "Hello World!\n",
      "Hello World!\n",
      "Hello World!\n"
     ]
    }
   ],
   "source": [
    "message()"
   ]
  }
 ],
 "metadata": {
  "kernelspec": {
   "display_name": "Python 3 (ipykernel)",
   "language": "python",
   "name": "python3"
  },
  "language_info": {
   "codemirror_mode": {
    "name": "ipython",
    "version": 3
   },
   "file_extension": ".py",
   "mimetype": "text/x-python",
   "name": "python",
   "nbconvert_exporter": "python",
   "pygments_lexer": "ipython3",
   "version": "3.9.13"
  }
 },
 "nbformat": 4,
 "nbformat_minor": 5
}
