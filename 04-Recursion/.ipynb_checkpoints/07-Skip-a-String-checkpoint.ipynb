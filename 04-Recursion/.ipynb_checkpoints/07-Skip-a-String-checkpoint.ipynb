{
 "cells": [
  {
   "cell_type": "code",
   "execution_count": 5,
   "id": "c1938135",
   "metadata": {},
   "outputs": [
    {
     "data": {
      "text/plain": [
       "'withmarmelade'"
      ]
     },
     "execution_count": 5,
     "metadata": {},
     "output_type": "execute_result"
    }
   ],
   "source": [
    "def skipString(up):\n",
    "    if len(up) == 0:\n",
    "        return \"\"\n",
    "    \n",
    "    if up[0:5] == 'apple':\n",
    "        return skipString(up[5:])\n",
    "    else:\n",
    "        return up[0] + skipString(up[1:])\n",
    "    \n",
    "skipString(\"applewithmarmelade\")"
   ]
  },
  {
   "cell_type": "code",
   "execution_count": 6,
   "id": "07b221b6",
   "metadata": {},
   "outputs": [
    {
     "data": {
      "text/plain": [
       "'hehehewithmarmelade'"
      ]
     },
     "execution_count": 6,
     "metadata": {},
     "output_type": "execute_result"
    }
   ],
   "source": [
    "skipString(\"heheheapplewithmarmelade\")"
   ]
  },
  {
   "cell_type": "code",
   "execution_count": 7,
   "id": "f836e3ec",
   "metadata": {},
   "outputs": [
    {
     "data": {
      "text/plain": [
       "'hehehewithmarapplmelade'"
      ]
     },
     "execution_count": 7,
     "metadata": {},
     "output_type": "execute_result"
    }
   ],
   "source": [
    "skipString(\"heheheapplewithmarapplmelade\")"
   ]
  },
  {
   "cell_type": "code",
   "execution_count": 8,
   "id": "60818ebb",
   "metadata": {},
   "outputs": [
    {
     "data": {
      "text/plain": [
       "'hehehewithmarmelade'"
      ]
     },
     "execution_count": 8,
     "metadata": {},
     "output_type": "execute_result"
    }
   ],
   "source": [
    "skipString(\"heheheapplewithmaapplermelade\")"
   ]
  }
 ],
 "metadata": {
  "kernelspec": {
   "display_name": "Python 3 (ipykernel)",
   "language": "python",
   "name": "python3"
  },
  "language_info": {
   "codemirror_mode": {
    "name": "ipython",
    "version": 3
   },
   "file_extension": ".py",
   "mimetype": "text/x-python",
   "name": "python",
   "nbconvert_exporter": "python",
   "pygments_lexer": "ipython3",
   "version": "3.9.13"
  }
 },
 "nbformat": 4,
 "nbformat_minor": 5
}
