{
 "cells": [
  {
   "cell_type": "code",
   "execution_count": 13,
   "id": "fde40920",
   "metadata": {},
   "outputs": [
    {
     "data": {
      "text/plain": [
       "'bccdh'"
      ]
     },
     "execution_count": 13,
     "metadata": {},
     "output_type": "execute_result"
    }
   ],
   "source": [
    "# Task: remove all \"a\" character from the given string.\n",
    "# Simple solution with no recursion.\n",
    "\n",
    "string = \"baccdah\"\n",
    "answer = \"\"\n",
    "for i in range(len(string)):\n",
    "    if string[i] != \"a\":\n",
    "        answer += string[i]\n",
    "answer"
   ]
  },
  {
   "cell_type": "code",
   "execution_count": 15,
   "id": "fc9266c0",
   "metadata": {},
   "outputs": [],
   "source": [
    "# Solution with recursion. 2 arguments.\n",
    " \n",
    "def skip(p, up):\n",
    "    if len(up) == 0:\n",
    "        print(p)\n",
    "    ch = up[0]\n",
    "    if ch == \"a\":\n",
    "        skip(p, up[1:])\n",
    "    else:\n",
    "        skip(p + ch, up[1:])"
   ]
  },
  {
   "cell_type": "code",
   "execution_count": 17,
   "id": "84b1a45e",
   "metadata": {},
   "outputs": [
    {
     "data": {
      "text/plain": [
       "'bccdh'"
      ]
     },
     "execution_count": 17,
     "metadata": {},
     "output_type": "execute_result"
    }
   ],
   "source": [
    "# Solution with recursion. 1 arguments.\n",
    "\n",
    "def skip(up):\n",
    "    if len(up) == 0:\n",
    "        return \"\"\n",
    "    ch = up[0]\n",
    "    if ch == \"a\":\n",
    "        return skip(up[1:])\n",
    "    else:\n",
    "        return ch + skip(up[1:])\n",
    "    \n",
    "skip(string)"
   ]
  }
 ],
 "metadata": {
  "kernelspec": {
   "display_name": "Python 3 (ipykernel)",
   "language": "python",
   "name": "python3"
  },
  "language_info": {
   "codemirror_mode": {
    "name": "ipython",
    "version": 3
   },
   "file_extension": ".py",
   "mimetype": "text/x-python",
   "name": "python",
   "nbconvert_exporter": "python",
   "pygments_lexer": "ipython3",
   "version": "3.9.13"
  }
 },
 "nbformat": 4,
 "nbformat_minor": 5
}
