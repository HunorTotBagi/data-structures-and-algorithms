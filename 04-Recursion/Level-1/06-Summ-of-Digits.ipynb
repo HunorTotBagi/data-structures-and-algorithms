{
 "cells": [
  {
   "cell_type": "code",
   "execution_count": 2,
   "id": "9258e998",
   "metadata": {},
   "outputs": [
    {
     "data": {
      "text/plain": [
       "19"
      ]
     },
     "execution_count": 2,
     "metadata": {},
     "output_type": "execute_result"
    }
   ],
   "source": [
    "# Return the summ of digits\n",
    "\n",
    "def DigitSum(n):\n",
    "    if n == 0:\n",
    "        return 0\n",
    "    return n%10 + DigitSum(int(n/10))\n",
    "\n",
    "DigitSum(13429)"
   ]
  },
  {
   "cell_type": "code",
   "execution_count": 4,
   "id": "5fefedad",
   "metadata": {},
   "outputs": [
    {
     "data": {
      "text/plain": [
       "19"
      ]
     },
     "execution_count": 4,
     "metadata": {},
     "output_type": "execute_result"
    }
   ],
   "source": [
    "def NormalSolution(n):\n",
    "    sum1 = 0\n",
    "    size = len(str(n))\n",
    "    for i in range(size):\n",
    "        sum1 += n % 10\n",
    "        n = int(n / 10)\n",
    "    return sum1\n",
    "\n",
    "NormalSolution(13429)"
   ]
  }
 ],
 "metadata": {
  "kernelspec": {
   "display_name": "Python 3 (ipykernel)",
   "language": "python",
   "name": "python3"
  },
  "language_info": {
   "codemirror_mode": {
    "name": "ipython",
    "version": 3
   },
   "file_extension": ".py",
   "mimetype": "text/x-python",
   "name": "python",
   "nbconvert_exporter": "python",
   "pygments_lexer": "ipython3",
   "version": "3.9.13"
  }
 },
 "nbformat": 4,
 "nbformat_minor": 5
}
