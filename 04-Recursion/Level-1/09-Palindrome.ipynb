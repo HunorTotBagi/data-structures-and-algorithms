{
 "cells": [
  {
   "cell_type": "code",
   "execution_count": 5,
   "id": "bee617cc",
   "metadata": {},
   "outputs": [],
   "source": [
    "def reverse(n):\n",
    "    if n%10 == n:\n",
    "        return n\n",
    "    return (n%10)*(10**(len(str(n))-1)) + reverse(int(n/10))"
   ]
  },
  {
   "cell_type": "code",
   "execution_count": 6,
   "id": "aed4ff5c",
   "metadata": {},
   "outputs": [
    {
     "data": {
      "text/plain": [
       "True"
      ]
     },
     "execution_count": 6,
     "metadata": {},
     "output_type": "execute_result"
    }
   ],
   "source": [
    "def palindrome(n):\n",
    "    return n == reverse(n)\n",
    "\n",
    "palindrome(12321)"
   ]
  }
 ],
 "metadata": {
  "kernelspec": {
   "display_name": "Python 3 (ipykernel)",
   "language": "python",
   "name": "python3"
  },
  "language_info": {
   "codemirror_mode": {
    "name": "ipython",
    "version": 3
   },
   "file_extension": ".py",
   "mimetype": "text/x-python",
   "name": "python",
   "nbconvert_exporter": "python",
   "pygments_lexer": "ipython3",
   "version": "3.9.13"
  }
 },
 "nbformat": 4,
 "nbformat_minor": 5
}
