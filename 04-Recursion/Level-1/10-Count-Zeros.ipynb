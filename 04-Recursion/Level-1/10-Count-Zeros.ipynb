{
 "cells": [
  {
   "cell_type": "code",
   "execution_count": 22,
   "id": "6df7aa9a",
   "metadata": {},
   "outputs": [
    {
     "data": {
      "text/plain": [
       "6"
      ]
     },
     "execution_count": 22,
     "metadata": {},
     "output_type": "execute_result"
    }
   ],
   "source": [
    "# Counter inside argument\n",
    "\n",
    "def count(n):\n",
    "    return helper(n, 0)\n",
    "\n",
    "def helper(n,c):\n",
    "    if n == 0:\n",
    "        return c\n",
    "    \n",
    "    rem = n % 10\n",
    "    if rem == 0:\n",
    "        return helper(int(n/10), c+1)\n",
    "    return helper(int(n/10),c)\n",
    "\n",
    "count(320204612064210420)"
   ]
  }
 ],
 "metadata": {
  "kernelspec": {
   "display_name": "Python 3 (ipykernel)",
   "language": "python",
   "name": "python3"
  },
  "language_info": {
   "codemirror_mode": {
    "name": "ipython",
    "version": 3
   },
   "file_extension": ".py",
   "mimetype": "text/x-python",
   "name": "python",
   "nbconvert_exporter": "python",
   "pygments_lexer": "ipython3",
   "version": "3.9.13"
  }
 },
 "nbformat": 4,
 "nbformat_minor": 5
}
