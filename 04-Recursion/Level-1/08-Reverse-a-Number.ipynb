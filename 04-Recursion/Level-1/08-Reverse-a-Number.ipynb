{
 "cells": [
  {
   "cell_type": "code",
   "execution_count": 16,
   "id": "947fa7f4",
   "metadata": {},
   "outputs": [
    {
     "data": {
      "text/plain": [
       "6541999094281"
      ]
     },
     "execution_count": 16,
     "metadata": {},
     "output_type": "execute_result"
    }
   ],
   "source": [
    "def reverse(n):\n",
    "    if n%10 == n:\n",
    "        return n\n",
    "    return (n%10)*(10**(len(str(n))-1)) + reverse(int(n/10))\n",
    "                                                \n",
    "reverse(1824909991456)"
   ]
  },
  {
   "cell_type": "code",
   "execution_count": null,
   "id": "406ee0ad",
   "metadata": {},
   "outputs": [],
   "source": []
  }
 ],
 "metadata": {
  "kernelspec": {
   "display_name": "Python 3 (ipykernel)",
   "language": "python",
   "name": "python3"
  },
  "language_info": {
   "codemirror_mode": {
    "name": "ipython",
    "version": 3
   },
   "file_extension": ".py",
   "mimetype": "text/x-python",
   "name": "python",
   "nbconvert_exporter": "python",
   "pygments_lexer": "ipython3",
   "version": "3.9.13"
  }
 },
 "nbformat": 4,
 "nbformat_minor": 5
}
