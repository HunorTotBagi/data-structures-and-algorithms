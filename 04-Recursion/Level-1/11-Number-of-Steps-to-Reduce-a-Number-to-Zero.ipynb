{
 "cells": [
  {
   "cell_type": "code",
   "execution_count": 5,
   "id": "40a5974f",
   "metadata": {},
   "outputs": [
    {
     "data": {
      "text/plain": [
       "6"
      ]
     },
     "execution_count": 5,
     "metadata": {},
     "output_type": "execute_result"
    }
   ],
   "source": [
    "def numberOfSteps(n):\n",
    "    counter = 0\n",
    "    while n != 0:\n",
    "        if n % 2 == 0:\n",
    "            n = n / 2\n",
    "            counter += 1\n",
    "        else:\n",
    "            n = n - 1\n",
    "            counter +=1\n",
    "\n",
    "    return counter\n",
    "\n",
    "numberOfSteps(14)"
   ]
  },
  {
   "cell_type": "code",
   "execution_count": 6,
   "id": "8d1551cd",
   "metadata": {},
   "outputs": [
    {
     "data": {
      "text/plain": [
       "6"
      ]
     },
     "execution_count": 6,
     "metadata": {},
     "output_type": "execute_result"
    }
   ],
   "source": [
    "def numberOfSteps1(num):\n",
    "    return helper(num, 0)\n",
    "\n",
    "def helper(num, steps):\n",
    "    if num == 0:\n",
    "        return steps\n",
    "    if num %2 == 0:\n",
    "        return helper(num/2, steps + 1)\n",
    "    else:\n",
    "        return helper(num-1, steps + 1)\n",
    "    \n",
    "numberOfSteps1(14)"
   ]
  }
 ],
 "metadata": {
  "kernelspec": {
   "display_name": "Python 3 (ipykernel)",
   "language": "python",
   "name": "python3"
  },
  "language_info": {
   "codemirror_mode": {
    "name": "ipython",
    "version": 3
   },
   "file_extension": ".py",
   "mimetype": "text/x-python",
   "name": "python",
   "nbconvert_exporter": "python",
   "pygments_lexer": "ipython3",
   "version": "3.9.13"
  }
 },
 "nbformat": 4,
 "nbformat_minor": 5
}
