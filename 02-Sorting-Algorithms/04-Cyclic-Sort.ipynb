{
 "cells": [
  {
   "cell_type": "markdown",
   "id": "7150dda3",
   "metadata": {},
   "source": [
    "### Time complexity: $\\mathcal{O}(n)$\n",
    "### Space complexity: $\\mathcal{O}(1)$"
   ]
  },
  {
   "cell_type": "code",
   "execution_count": 1,
   "id": "6aa2f6ab",
   "metadata": {},
   "outputs": [],
   "source": [
    "def swap(array, first, second):\n",
    "    temp = array[first]\n",
    "    array[first] = array[second]\n",
    "    array[second] = temp"
   ]
  },
  {
   "cell_type": "code",
   "execution_count": 2,
   "id": "ff8a7365",
   "metadata": {},
   "outputs": [],
   "source": [
    "def cyclic_sort(array):\n",
    "    i = 0\n",
    "    while i < len(array):\n",
    "        correct = array[i] - 1\n",
    "        if array[i] != array[correct]:\n",
    "            swap(array, i, correct)\n",
    "        else:\n",
    "            i += 1\n",
    "    return array"
   ]
  },
  {
   "cell_type": "markdown",
   "id": "cb22c18d",
   "metadata": {},
   "source": [
    "### Testing"
   ]
  },
  {
   "cell_type": "code",
   "execution_count": 3,
   "id": "e5518562",
   "metadata": {},
   "outputs": [
    {
     "name": "stdout",
     "output_type": "stream",
     "text": [
      "[1, 2, 3, 4, 5, 6]\n"
     ]
    }
   ],
   "source": [
    "print(cyclic_sort([6,5,4,3,2,1]))"
   ]
  },
  {
   "cell_type": "code",
   "execution_count": 4,
   "id": "9b12bfe0",
   "metadata": {},
   "outputs": [
    {
     "name": "stdout",
     "output_type": "stream",
     "text": [
      "Randomly generated array:\n",
      "[8, 4, 18, 13, 11, 12, 7, 3, 15, 17, 19, 9, 10, 14, 1, 16, 2, 6, 5]\n",
      " \n",
      "Cyclic sort applied:\n",
      "[1, 2, 3, 4, 5, 6, 7, 8, 9, 10, 11, 12, 13, 14, 15, 16, 17, 18, 19]\n"
     ]
    }
   ],
   "source": [
    "import random\n",
    "arr = list(range(1,20)) # Generated random number from 1 to 20\n",
    "random.shuffle(arr) # Shuffle them\n",
    "print(\"Randomly generated array:\")\n",
    "print(arr) # What they look like\n",
    "print(\" \")\n",
    "print(\"Cyclic sort applied:\")\n",
    "print(cyclic_sort(arr)) # Use cyclic sort"
   ]
  }
 ],
 "metadata": {
  "kernelspec": {
   "display_name": "Python 3 (ipykernel)",
   "language": "python",
   "name": "python3"
  },
  "language_info": {
   "codemirror_mode": {
    "name": "ipython",
    "version": 3
   },
   "file_extension": ".py",
   "mimetype": "text/x-python",
   "name": "python",
   "nbconvert_exporter": "python",
   "pygments_lexer": "ipython3",
   "version": "3.9.13"
  }
 },
 "nbformat": 4,
 "nbformat_minor": 5
}
