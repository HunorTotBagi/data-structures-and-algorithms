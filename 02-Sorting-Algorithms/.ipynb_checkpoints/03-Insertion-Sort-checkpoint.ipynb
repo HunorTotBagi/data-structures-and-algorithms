{
 "cells": [
  {
   "cell_type": "code",
   "execution_count": 1,
   "id": "b374e24b",
   "metadata": {},
   "outputs": [],
   "source": [
    "def insertionSort(arr):\n",
    "    def swap(first, second):\n",
    "        temp = arr[first]\n",
    "        arr[first] = arr[second]\n",
    "        arr[second] = temp\n",
    "    for i in range(len(arr) - 1):\n",
    "        j = i + 1\n",
    "        while j > 0:\n",
    "            if arr[j] < arr[j - 1]:\n",
    "                swap(j, j - 1)\n",
    "                j -= 1\n",
    "            else:\n",
    "                break\n",
    "    return arr"
   ]
  },
  {
   "cell_type": "markdown",
   "id": "10e6c666",
   "metadata": {},
   "source": [
    "The insertion sort algorithm is often utilized due to its adaptive nature, as the number of steps required for sorting is reduced when the input array is already partially sorted. This results in fewer element swaps compared to bubble sort, making it a more efficient choice for small values of $n$. Additionally, insertion sort is often used as part of hybrid sorting algorithms, adding to its versatility."
   ]
  },
  {
   "cell_type": "code",
   "execution_count": 2,
   "id": "0bbf2e38",
   "metadata": {},
   "outputs": [
    {
     "data": {
      "text/plain": [
       "[2, 3, 4, 8, 46, 52, 61, 66]"
      ]
     },
     "execution_count": 2,
     "metadata": {},
     "output_type": "execute_result"
    }
   ],
   "source": [
    "insertionSort([66,2,8,4,3,61,52,46])"
   ]
  },
  {
   "cell_type": "code",
   "execution_count": 3,
   "id": "f6b35af7",
   "metadata": {},
   "outputs": [
    {
     "data": {
      "text/plain": [
       "[1, 2, 3, 4, 5]"
      ]
     },
     "execution_count": 3,
     "metadata": {},
     "output_type": "execute_result"
    }
   ],
   "source": [
    "insertionSort([5,3,4,1,2])"
   ]
  },
  {
   "cell_type": "code",
   "execution_count": 4,
   "id": "3b9792d1",
   "metadata": {},
   "outputs": [
    {
     "data": {
      "text/plain": [
       "[]"
      ]
     },
     "execution_count": 4,
     "metadata": {},
     "output_type": "execute_result"
    }
   ],
   "source": [
    "insertionSort([])"
   ]
  },
  {
   "cell_type": "code",
   "execution_count": 5,
   "id": "45528f52",
   "metadata": {},
   "outputs": [
    {
     "data": {
      "text/plain": [
       "[-66, -5, 0, 1, 2, 3, 4, 5]"
      ]
     },
     "execution_count": 5,
     "metadata": {},
     "output_type": "execute_result"
    }
   ],
   "source": [
    "insertionSort([-66,-5,0,5,3,4,1,2])"
   ]
  },
  {
   "cell_type": "code",
   "execution_count": 6,
   "id": "cc76b7b1",
   "metadata": {},
   "outputs": [
    {
     "data": {
      "text/plain": [
       "[-88, 10000]"
      ]
     },
     "execution_count": 6,
     "metadata": {},
     "output_type": "execute_result"
    }
   ],
   "source": [
    "insertionSort([10000,-88])"
   ]
  },
  {
   "cell_type": "markdown",
   "id": "ea95b43e",
   "metadata": {},
   "source": [
    "### Time complexity $\\mathcal{O}(n^2)$\n",
    "### Space complexity: $\\mathcal{O}(1)$"
   ]
  }
 ],
 "metadata": {
  "kernelspec": {
   "display_name": "Python 3 (ipykernel)",
   "language": "python",
   "name": "python3"
  },
  "language_info": {
   "codemirror_mode": {
    "name": "ipython",
    "version": 3
   },
   "file_extension": ".py",
   "mimetype": "text/x-python",
   "name": "python",
   "nbconvert_exporter": "python",
   "pygments_lexer": "ipython3",
   "version": "3.9.13"
  }
 },
 "nbformat": 4,
 "nbformat_minor": 5
}
