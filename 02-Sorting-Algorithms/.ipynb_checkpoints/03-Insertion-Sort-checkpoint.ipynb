{
 "cells": [
  {
   "cell_type": "markdown",
   "id": "8c3f9699",
   "metadata": {},
   "source": [
    "### Time complexity $\\mathcal{O}(n^2)$\n",
    "### Space complexity: $\\mathcal{O}(1)$"
   ]
  },
  {
   "cell_type": "code",
   "execution_count": 1,
   "id": "1b7faa89",
   "metadata": {},
   "outputs": [],
   "source": [
    "def swap(array, first, second):\n",
    "    temp = array[first]\n",
    "    array[first] = array[second]\n",
    "    array[second] = temp"
   ]
  },
  {
   "cell_type": "code",
   "execution_count": 2,
   "id": "a631d705",
   "metadata": {},
   "outputs": [],
   "source": [
    "def insertion_sort(array):\n",
    "    for i in range(len(array)-1):\n",
    "        j = i + 1\n",
    "        while j > 0:\n",
    "            if array[j] < array[j-1]:\n",
    "                swap(array, j, j-1)\n",
    "                j -= 1\n",
    "            else:\n",
    "                break\n",
    "    return array"
   ]
  },
  {
   "cell_type": "markdown",
   "id": "c1efd8f1",
   "metadata": {},
   "source": [
    "### Testing"
   ]
  },
  {
   "cell_type": "code",
   "execution_count": 3,
   "id": "0bbf2e38",
   "metadata": {},
   "outputs": [
    {
     "name": "stdout",
     "output_type": "stream",
     "text": [
      "[2, 3, 4, 8, 46, 52, 61, 66]\n",
      "[1, 2, 3, 4, 5]\n",
      "[]\n",
      "[-66, -5, 0, 1, 2, 3, 4, 5]\n",
      "[-88, 10000]\n"
     ]
    }
   ],
   "source": [
    "print(insertion_sort([66,2,8,4,3,61,52,46]))\n",
    "print(insertion_sort([5,3,4,1,2]))\n",
    "print(insertion_sort([]))\n",
    "print(insertion_sort([-66,-5,0,5,3,4,1,2]))\n",
    "print(insertion_sort([10000,-88]))"
   ]
  }
 ],
 "metadata": {
  "kernelspec": {
   "display_name": "Python 3 (ipykernel)",
   "language": "python",
   "name": "python3"
  },
  "language_info": {
   "codemirror_mode": {
    "name": "ipython",
    "version": 3
   },
   "file_extension": ".py",
   "mimetype": "text/x-python",
   "name": "python",
   "nbconvert_exporter": "python",
   "pygments_lexer": "ipython3",
   "version": "3.9.13"
  }
 },
 "nbformat": 4,
 "nbformat_minor": 5
}
