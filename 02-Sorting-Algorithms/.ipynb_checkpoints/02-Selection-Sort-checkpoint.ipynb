{
 "cells": [
  {
   "cell_type": "code",
   "execution_count": 1,
   "id": "8847fdf5",
   "metadata": {},
   "outputs": [],
   "source": [
    "def selectionSort(arr):\n",
    "    def getMaxIndex(start, end):\n",
    "        maxi = start\n",
    "        for i in range(start, end + 1):\n",
    "            if arr[maxi] < arr[i]:\n",
    "                maxi = i\n",
    "        return maxi\n",
    "\n",
    "    def swap(first, second):\n",
    "        temp = arr[first]\n",
    "        arr[first] = arr[second]\n",
    "        arr[second] = temp\n",
    "        \n",
    "    for i in range(len(arr)):\n",
    "        # Find the maximum item in the remaining array and swap with correct index\n",
    "        last = len(arr) - i - 1\n",
    "        maxIndex = getMaxIndex(0, last)\n",
    "        swap(maxIndex, last)\n",
    "    return arr"
   ]
  },
  {
   "cell_type": "code",
   "execution_count": 2,
   "id": "37ebb720",
   "metadata": {},
   "outputs": [
    {
     "data": {
      "text/plain": [
       "[1, 2, 3, 4, 5]"
      ]
     },
     "execution_count": 2,
     "metadata": {},
     "output_type": "execute_result"
    }
   ],
   "source": [
    "selectionSort([4,5,1,2,3])"
   ]
  },
  {
   "cell_type": "code",
   "execution_count": 3,
   "id": "cfae9140",
   "metadata": {},
   "outputs": [
    {
     "data": {
      "text/plain": [
       "[1, 2, 3, 4, 5]"
      ]
     },
     "execution_count": 3,
     "metadata": {},
     "output_type": "execute_result"
    }
   ],
   "source": [
    "selectionSort([5,4,3,2,1])"
   ]
  },
  {
   "cell_type": "code",
   "execution_count": 4,
   "id": "8dd5969f",
   "metadata": {},
   "outputs": [
    {
     "data": {
      "text/plain": [
       "[1, 1, 1, 3, 3, 4, 4, 8, 9, 32, 54, 54, 64, 84, 84]"
      ]
     },
     "execution_count": 4,
     "metadata": {},
     "output_type": "execute_result"
    }
   ],
   "source": [
    "selectionSort([1,54,1,8,4,64,1,3,84,32,54,84,3,4,9])"
   ]
  },
  {
   "cell_type": "code",
   "execution_count": 5,
   "id": "f47762ac",
   "metadata": {},
   "outputs": [
    {
     "data": {
      "text/plain": [
       "[0, 1, 1, 1, 3, 3, 4, 4, 8, 9, 32, 54, 54, 64, 84, 84]"
      ]
     },
     "execution_count": 5,
     "metadata": {},
     "output_type": "execute_result"
    }
   ],
   "source": [
    "selectionSort([1,54,1,8,4,64,1,3,84,32,54,84,3,4,9,0])"
   ]
  },
  {
   "cell_type": "code",
   "execution_count": 6,
   "id": "65b59768",
   "metadata": {},
   "outputs": [
    {
     "data": {
      "text/plain": [
       "[-99, 1, 1, 1, 3, 3, 4, 4, 8, 9, 32, 54, 54, 64, 84, 84]"
      ]
     },
     "execution_count": 6,
     "metadata": {},
     "output_type": "execute_result"
    }
   ],
   "source": [
    "selectionSort([1,54,1,-99,8,4,64,1,3,84,32,54,84,3,4,9])"
   ]
  },
  {
   "cell_type": "markdown",
   "id": "eff8a513",
   "metadata": {},
   "source": [
    "### Time complexity: $\\mathcal{O}(n^2)$\n",
    "### Space complexity: $\\mathcal{O}(1)$"
   ]
  }
 ],
 "metadata": {
  "kernelspec": {
   "display_name": "Python 3 (ipykernel)",
   "language": "python",
   "name": "python3"
  },
  "language_info": {
   "codemirror_mode": {
    "name": "ipython",
    "version": 3
   },
   "file_extension": ".py",
   "mimetype": "text/x-python",
   "name": "python",
   "nbconvert_exporter": "python",
   "pygments_lexer": "ipython3",
   "version": "3.9.13"
  }
 },
 "nbformat": 4,
 "nbformat_minor": 5
}
