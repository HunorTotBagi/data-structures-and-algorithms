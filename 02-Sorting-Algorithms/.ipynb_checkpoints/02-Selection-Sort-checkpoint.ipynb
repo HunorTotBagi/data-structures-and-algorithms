{
 "cells": [
  {
   "cell_type": "markdown",
   "id": "1c6b9595",
   "metadata": {},
   "source": [
    "### Time complexity: $\\mathcal{O}(n^2)$\n",
    "### Space complexity: $\\mathcal{O}(1)$"
   ]
  },
  {
   "cell_type": "code",
   "execution_count": 1,
   "id": "75ae4fae",
   "metadata": {},
   "outputs": [],
   "source": [
    "def swap(array, first, second):\n",
    "    temp = array[first]\n",
    "    array[first] = array[second]\n",
    "    array[second] = temp"
   ]
  },
  {
   "cell_type": "code",
   "execution_count": 2,
   "id": "d4010cb6",
   "metadata": {},
   "outputs": [],
   "source": [
    "def selection_sort(array):\n",
    "    def get_max_index(start, end):\n",
    "        maxi = start\n",
    "        for i in range(start, end + 1):\n",
    "            if array[maxi] < array[i]:\n",
    "                maxi = i\n",
    "        return maxi\n",
    "\n",
    "    for i in range(len(array)):\n",
    "        last = len(array) - i - 1\n",
    "        max_index = get_max_index(0, last)\n",
    "        swap(array, max_index, last)\n",
    "    return array"
   ]
  },
  {
   "cell_type": "markdown",
   "id": "a792f228",
   "metadata": {},
   "source": [
    "### Testing"
   ]
  },
  {
   "cell_type": "code",
   "execution_count": 3,
   "id": "37ebb720",
   "metadata": {},
   "outputs": [
    {
     "name": "stdout",
     "output_type": "stream",
     "text": [
      "[1, 2, 3, 4, 5]\n",
      "[1, 2, 3, 4, 5]\n",
      "[1, 1, 1, 3, 3, 4, 4, 8, 9, 32, 54, 54, 64, 84, 84]\n",
      "[0, 1, 1, 1, 3, 3, 4, 4, 8, 9, 32, 54, 54, 64, 84, 84]\n",
      "[-99, 1, 1, 1, 3, 3, 4, 4, 8, 9, 32, 54, 54, 64, 84, 84]\n"
     ]
    }
   ],
   "source": [
    "print(selection_sort([4,5,1,2,3]))\n",
    "print(selection_sort([5,4,3,2,1]))\n",
    "print(selection_sort([1,54,1,8,4,64,1,3,84,32,54,84,3,4,9]))\n",
    "print(selection_sort([1,54,1,8,4,64,1,3,84,32,54,84,3,4,9,0]))\n",
    "print(selection_sort([1,54,1,-99,8,4,64,1,3,84,32,54,84,3,4,9]))"
   ]
  },
  {
   "cell_type": "markdown",
   "id": "e8e992cb",
   "metadata": {},
   "source": [
    "# Selection Sort with Recursion"
   ]
  },
  {
   "cell_type": "markdown",
   "id": "c07168e3",
   "metadata": {},
   "source": [
    "### Time complexity: $\\mathcal{O}(n^2)$\n",
    "### Space complexity: $\\mathcal{O}(1)$"
   ]
  },
  {
   "cell_type": "code",
   "execution_count": 4,
   "id": "0449253f",
   "metadata": {},
   "outputs": [],
   "source": [
    "def selection_sort_recursion(arr, r, c, maxi):\n",
    "    if r == 0:\n",
    "        return\n",
    "    if c < r:\n",
    "        if arr[c] > arr[maxi]:\n",
    "            selection_sort_recursion(arr, r, c + 1, c)\n",
    "        else:\n",
    "            selection_sort_recursion(arr, r, c + 1, maxi)\n",
    "    else:\n",
    "        swap(arr, maxi, r-1)\n",
    "        selection_sort_recursion(arr, r - 1, 0, 0)"
   ]
  },
  {
   "cell_type": "markdown",
   "id": "4be49236",
   "metadata": {},
   "source": [
    "### Testing"
   ]
  },
  {
   "cell_type": "code",
   "execution_count": 5,
   "id": "2c5842dc",
   "metadata": {},
   "outputs": [
    {
     "name": "stdout",
     "output_type": "stream",
     "text": [
      "[1, 2, 3, 4]\n"
     ]
    }
   ],
   "source": [
    "arr = [4,3,2,1]\n",
    "selection_sort_recursion(arr,4,0,0)\n",
    "print(arr)"
   ]
  }
 ],
 "metadata": {
  "kernelspec": {
   "display_name": "Python 3 (ipykernel)",
   "language": "python",
   "name": "python3"
  },
  "language_info": {
   "codemirror_mode": {
    "name": "ipython",
    "version": 3
   },
   "file_extension": ".py",
   "mimetype": "text/x-python",
   "name": "python",
   "nbconvert_exporter": "python",
   "pygments_lexer": "ipython3",
   "version": "3.9.13"
  }
 },
 "nbformat": 4,
 "nbformat_minor": 5
}
