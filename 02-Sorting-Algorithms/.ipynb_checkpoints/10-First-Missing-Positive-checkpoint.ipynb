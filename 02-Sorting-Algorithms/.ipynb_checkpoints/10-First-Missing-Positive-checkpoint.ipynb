{
 "cells": [
  {
   "cell_type": "markdown",
   "id": "e8870242",
   "metadata": {},
   "source": [
    "### Given an unsorted integer array nums, return the smallest missing positive integer.\n",
    "\n",
    "### You must implement an algorithm that runs in O(n) time and uses constant extra space."
   ]
  },
  {
   "cell_type": "code",
   "execution_count": 10,
   "id": "4b9de463",
   "metadata": {},
   "outputs": [],
   "source": [
    "def swap(arr, first, second):\n",
    "    temp = arr[first]\n",
    "    arr[first] = arr[second]\n",
    "    arr[second] = temp"
   ]
  },
  {
   "cell_type": "code",
   "execution_count": 11,
   "id": "12e861bf",
   "metadata": {},
   "outputs": [],
   "source": [
    "def FirstMissingPositive(arr):\n",
    "    i = 0\n",
    "    while i < len(arr):\n",
    "        correct = arr[i] - 1\n",
    "        if arr[i] > 0 and arr[i] < len(arr) and arr[i] != arr[correct]:\n",
    "            swap(arr,i,correct)\n",
    "        else:\n",
    "            i += 1\n",
    "    \n",
    "    for i in range(len(arr)):\n",
    "        if arr[i] != i + 1:\n",
    "            return i + 1\n",
    "    else:\n",
    "        return len(arr) + 1"
   ]
  },
  {
   "cell_type": "code",
   "execution_count": 12,
   "id": "f6b4513b",
   "metadata": {},
   "outputs": [
    {
     "data": {
      "text/plain": [
       "3"
      ]
     },
     "execution_count": 12,
     "metadata": {},
     "output_type": "execute_result"
    }
   ],
   "source": [
    "FirstMissingPositive([1,2,0])"
   ]
  },
  {
   "cell_type": "code",
   "execution_count": 13,
   "id": "338d5031",
   "metadata": {},
   "outputs": [
    {
     "data": {
      "text/plain": [
       "2"
      ]
     },
     "execution_count": 13,
     "metadata": {},
     "output_type": "execute_result"
    }
   ],
   "source": [
    "FirstMissingPositive([3,4,-1,1])"
   ]
  },
  {
   "cell_type": "code",
   "execution_count": 14,
   "id": "36fb1c82",
   "metadata": {},
   "outputs": [
    {
     "data": {
      "text/plain": [
       "1"
      ]
     },
     "execution_count": 14,
     "metadata": {},
     "output_type": "execute_result"
    }
   ],
   "source": [
    "FirstMissingPositive([7,8,9,11,12])"
   ]
  }
 ],
 "metadata": {
  "kernelspec": {
   "display_name": "Python 3 (ipykernel)",
   "language": "python",
   "name": "python3"
  },
  "language_info": {
   "codemirror_mode": {
    "name": "ipython",
    "version": 3
   },
   "file_extension": ".py",
   "mimetype": "text/x-python",
   "name": "python",
   "nbconvert_exporter": "python",
   "pygments_lexer": "ipython3",
   "version": "3.9.13"
  }
 },
 "nbformat": 4,
 "nbformat_minor": 5
}
