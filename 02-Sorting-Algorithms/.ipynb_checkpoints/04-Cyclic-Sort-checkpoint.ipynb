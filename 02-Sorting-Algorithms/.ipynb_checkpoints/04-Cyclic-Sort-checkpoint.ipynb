{
 "cells": [
  {
   "cell_type": "code",
   "execution_count": 1,
   "id": "a6f9d5ac",
   "metadata": {},
   "outputs": [],
   "source": [
    "def CyclicSort(arr):\n",
    "    def swap(first, second):\n",
    "        temp = arr[first]\n",
    "        arr[first] = arr[second]\n",
    "        arr[second] = temp\n",
    "    i = 0\n",
    "    while i < len(arr):\n",
    "        correct = arr[i] - 1\n",
    "        if arr[i] != arr[correct]:\n",
    "            swap(i, correct)\n",
    "        else:\n",
    "            i += 1\n",
    "    return arr"
   ]
  },
  {
   "cell_type": "markdown",
   "id": "393a1389",
   "metadata": {},
   "source": [
    "Aplicable when given numbers from $1$ to $n$"
   ]
  },
  {
   "cell_type": "markdown",
   "id": "808020c2",
   "metadata": {},
   "source": [
    "### Time complexity: $\\mathcal{O}(n)$\n",
    "### Space complexity: $\\mathcal{O}(1)$"
   ]
  },
  {
   "cell_type": "code",
   "execution_count": 2,
   "id": "e5518562",
   "metadata": {},
   "outputs": [
    {
     "data": {
      "text/plain": [
       "[1, 2, 3, 4, 5, 6]"
      ]
     },
     "execution_count": 2,
     "metadata": {},
     "output_type": "execute_result"
    }
   ],
   "source": [
    "CyclicSort([6,5,4,3,2,1])"
   ]
  },
  {
   "cell_type": "code",
   "execution_count": 3,
   "id": "9b12bfe0",
   "metadata": {},
   "outputs": [
    {
     "name": "stdout",
     "output_type": "stream",
     "text": [
      "[12, 7, 19, 16, 14, 2, 1, 11, 13, 9, 6, 4, 15, 3, 5, 8, 10, 17, 18]\n"
     ]
    },
    {
     "data": {
      "text/plain": [
       "[1, 2, 3, 4, 5, 6, 7, 8, 9, 10, 11, 12, 13, 14, 15, 16, 17, 18, 19]"
      ]
     },
     "execution_count": 3,
     "metadata": {},
     "output_type": "execute_result"
    }
   ],
   "source": [
    "import random\n",
    "arr = list(range(1,20)) # Generated random number from 1 to 20\n",
    "random.shuffle(arr) # Shuffle them\n",
    "print(arr) # What they look like\n",
    "CyclicSort(arr) # Use cyclic sort"
   ]
  }
 ],
 "metadata": {
  "kernelspec": {
   "display_name": "Python 3 (ipykernel)",
   "language": "python",
   "name": "python3"
  },
  "language_info": {
   "codemirror_mode": {
    "name": "ipython",
    "version": 3
   },
   "file_extension": ".py",
   "mimetype": "text/x-python",
   "name": "python",
   "nbconvert_exporter": "python",
   "pygments_lexer": "ipython3",
   "version": "3.9.13"
  }
 },
 "nbformat": 4,
 "nbformat_minor": 5
}
