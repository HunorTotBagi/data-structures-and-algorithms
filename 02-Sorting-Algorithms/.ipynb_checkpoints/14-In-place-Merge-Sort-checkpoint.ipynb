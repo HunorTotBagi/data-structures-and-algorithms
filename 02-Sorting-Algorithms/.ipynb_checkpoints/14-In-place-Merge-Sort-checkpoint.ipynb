{
 "cells": [
  {
   "cell_type": "code",
   "execution_count": 6,
   "id": "b481f62f",
   "metadata": {},
   "outputs": [],
   "source": [
    "def MergeInPlace(arr, s, m, e):\n",
    "    i=s\n",
    "    j=m\n",
    "    merged = []\n",
    "    while i < m and j < e:\n",
    "        if arr[i] < arr[j]:\n",
    "            merged.append(arr[i])\n",
    "            i += 1\n",
    "        else:\n",
    "            merged.append(arr[j])\n",
    "            j += 1\n",
    "    while i < m:\n",
    "        merged.append(arr[i])\n",
    "        i += 1\n",
    "    while j < e:\n",
    "        merged.append(arr[j])\n",
    "        j += 1\n",
    "\n",
    "def mergeSortInPlace(arr, s, e):\n",
    "    if e - s == 1:\n",
    "        return\n",
    "    mid = int(s+e/2)\n",
    "    mergeSortInPlace(arr, s, mid)\n",
    "    mergeSortInPlace(arr, mid, e)\n",
    "    MergeInPlace(arr, s, mid, e)"
   ]
  },
  {
   "cell_type": "code",
   "execution_count": 2,
   "id": "d14a1b62",
   "metadata": {},
   "outputs": [],
   "source": [
    "# Need fixing"
   ]
  }
 ],
 "metadata": {
  "kernelspec": {
   "display_name": "Python 3 (ipykernel)",
   "language": "python",
   "name": "python3"
  },
  "language_info": {
   "codemirror_mode": {
    "name": "ipython",
    "version": 3
   },
   "file_extension": ".py",
   "mimetype": "text/x-python",
   "name": "python",
   "nbconvert_exporter": "python",
   "pygments_lexer": "ipython3",
   "version": "3.9.13"
  }
 },
 "nbformat": 4,
 "nbformat_minor": 5
}
