{
 "cells": [
  {
   "cell_type": "markdown",
   "id": "1d25d1ff",
   "metadata": {},
   "source": [
    "### Time comlpexity: $\\mathcal{O}(n^2)$\n",
    "### Space complexity: $\\mathcal{O}(1)$"
   ]
  },
  {
   "cell_type": "code",
   "execution_count": 1,
   "id": "217e40f2",
   "metadata": {},
   "outputs": [],
   "source": [
    "def bubble_sort(array):\n",
    "    # set swapped to False initially\n",
    "    swapped = False\n",
    "    \n",
    "    # loop through the array from the beginning to the end\n",
    "    for i in range(len(array)):\n",
    "        \n",
    "        # loop through the array from the second element to the end minus the number of iterations so far\n",
    "        for j in range(1, len(array) - i):\n",
    "            \n",
    "            # check if the current element is less than the previous element\n",
    "            if array[j] < array[j - 1]:\n",
    "                # if it is, swap the two elements\n",
    "                temp = array[j]\n",
    "                array[j] = array[j - 1]\n",
    "                array[j - 1] = temp\n",
    "                \n",
    "                # set swapped to True to indicate that a swap has occurred\n",
    "                swapped = True\n",
    "                \n",
    "        # if no swaps occurred during the inner loop, the array is already sorted and we can break out of the outer loop\n",
    "        if swapped == False:\n",
    "            break\n",
    "\n",
    "    return array"
   ]
  },
  {
   "cell_type": "markdown",
   "id": "d503c97a",
   "metadata": {},
   "source": [
    "### Testing"
   ]
  },
  {
   "cell_type": "code",
   "execution_count": 2,
   "id": "d5638a35",
   "metadata": {},
   "outputs": [
    {
     "name": "stdout",
     "output_type": "stream",
     "text": [
      "[1, 2, 3, 4, 5]\n",
      "[1, 2, 3, 4, 5]\n",
      "[]\n",
      "[-32, -1, 7, 89]\n",
      "[-32, -1, 0, 7, 89]\n"
     ]
    }
   ],
   "source": [
    "print(bubble_sort([3,1,5,4,2]))\n",
    "print(bubble_sort([1,2,3,4,5]))\n",
    "print(bubble_sort([]))\n",
    "print(bubble_sort([-1,7,-32,89]))\n",
    "print(bubble_sort([-1,7,-32,0,89]))"
   ]
  },
  {
   "cell_type": "markdown",
   "id": "343a2c6c",
   "metadata": {},
   "source": [
    "# Bubble Sort with Recursion"
   ]
  },
  {
   "cell_type": "markdown",
   "id": "33515b3c",
   "metadata": {},
   "source": [
    "### Time comlpexity: $\\mathcal{O}(n^2)$\n",
    "### Space complexity: $\\mathcal{O}(n)$"
   ]
  },
  {
   "cell_type": "code",
   "execution_count": 3,
   "id": "33ed6dbf",
   "metadata": {},
   "outputs": [],
   "source": [
    "def bubble_sort_recursion(array, row, column):\n",
    "    if row == 0:\n",
    "        return\n",
    "    if column < row:\n",
    "        if array[column] > array[column + 1]:\n",
    "            temp = array[column]\n",
    "            array[column] = array[column + 1]\n",
    "            array[column + 1] = temp \n",
    "        bubble_sort_recursion(array, row, column + 1)\n",
    "    else:\n",
    "        bubble_sort_recursion(array, row - 1, 0)"
   ]
  },
  {
   "cell_type": "markdown",
   "id": "045b1c53",
   "metadata": {},
   "source": [
    "### Testing"
   ]
  },
  {
   "cell_type": "code",
   "execution_count": 4,
   "id": "e22aec30",
   "metadata": {},
   "outputs": [
    {
     "name": "stdout",
     "output_type": "stream",
     "text": [
      "[1, 2, 3, 4, 5, 6]\n"
     ]
    }
   ],
   "source": [
    "arr = [6,5,4,3,2,1]\n",
    "bubble_sort_recursion(arr, len(arr) - 1, 0)\n",
    "print(arr)"
   ]
  },
  {
   "cell_type": "code",
   "execution_count": 5,
   "id": "edef13b7",
   "metadata": {},
   "outputs": [
    {
     "name": "stdout",
     "output_type": "stream",
     "text": [
      "[-9, -8, 0, 1, 2, 3, 4, 5, 6, 44, 48, 99, 118]\n"
     ]
    }
   ],
   "source": [
    "arr1 = [1,48,-8,6,5,99,4,3,2,118,0,-9,44]\n",
    "bubble_sort_recursion(arr1, len(arr1) - 1, 0)\n",
    "print(arr1)"
   ]
  }
 ],
 "metadata": {
  "kernelspec": {
   "display_name": "Python 3 (ipykernel)",
   "language": "python",
   "name": "python3"
  },
  "language_info": {
   "codemirror_mode": {
    "name": "ipython",
    "version": 3
   },
   "file_extension": ".py",
   "mimetype": "text/x-python",
   "name": "python",
   "nbconvert_exporter": "python",
   "pygments_lexer": "ipython3",
   "version": "3.9.13"
  }
 },
 "nbformat": 4,
 "nbformat_minor": 5
}
