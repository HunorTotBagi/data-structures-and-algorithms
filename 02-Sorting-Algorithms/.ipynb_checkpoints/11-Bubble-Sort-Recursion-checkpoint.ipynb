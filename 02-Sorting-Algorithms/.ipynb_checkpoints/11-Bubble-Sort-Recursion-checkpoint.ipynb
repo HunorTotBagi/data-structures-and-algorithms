{
 "cells": [
  {
   "cell_type": "markdown",
   "id": "e0b5bc45",
   "metadata": {
    "scrolled": true
   },
   "source": [
    "### Time comlpexity: $\\mathcal{O}(n^2)$\n",
    "### Space complexity: $\\mathcal{O}(n)$"
   ]
  },
  {
   "cell_type": "code",
   "execution_count": 3,
   "id": "16938939",
   "metadata": {},
   "outputs": [],
   "source": [
    "def bubble_sort_recursion(array, row, column):\n",
    "    if row == 0:\n",
    "        return\n",
    "    if column < row:\n",
    "        if array[column] > array[column + 1]:\n",
    "            temp = array[column]\n",
    "            array[column] = array[column + 1]\n",
    "            array[column + 1] = temp \n",
    "        bubble_sort_recursion(array, row, column + 1)\n",
    "    else:\n",
    "        bubble_sort_recursion(array, row - 1, 0)"
   ]
  },
  {
   "cell_type": "markdown",
   "id": "b2131b28",
   "metadata": {},
   "source": [
    "### Testing"
   ]
  },
  {
   "cell_type": "code",
   "execution_count": 4,
   "id": "4d42a228",
   "metadata": {},
   "outputs": [
    {
     "name": "stdout",
     "output_type": "stream",
     "text": [
      "[1, 2, 3, 4, 5, 6]\n"
     ]
    }
   ],
   "source": [
    "arr = [6,5,4,3,2,1]\n",
    "bubble_sort_recursion(arr, len(arr) - 1, 0)\n",
    "print(arr)"
   ]
  },
  {
   "cell_type": "code",
   "execution_count": 5,
   "id": "74cf6448",
   "metadata": {},
   "outputs": [
    {
     "name": "stdout",
     "output_type": "stream",
     "text": [
      "[-9, -8, 0, 1, 2, 3, 4, 5, 6, 44, 48, 99, 118]\n"
     ]
    }
   ],
   "source": [
    "arr1 = [1,48,-8,6,5,99,4,3,2,118,0,-9,44]\n",
    "bubble_sort_recursion(arr1, len(arr1) - 1, 0)\n",
    "print(arr1)"
   ]
  }
 ],
 "metadata": {
  "kernelspec": {
   "display_name": "Python 3 (ipykernel)",
   "language": "python",
   "name": "python3"
  },
  "language_info": {
   "codemirror_mode": {
    "name": "ipython",
    "version": 3
   },
   "file_extension": ".py",
   "mimetype": "text/x-python",
   "name": "python",
   "nbconvert_exporter": "python",
   "pygments_lexer": "ipython3",
   "version": "3.9.13"
  }
 },
 "nbformat": 4,
 "nbformat_minor": 5
}
