{
 "cells": [
  {
   "cell_type": "code",
   "execution_count": 27,
   "id": "102fbaff",
   "metadata": {
    "scrolled": true
   },
   "outputs": [
    {
     "name": "stdout",
     "output_type": "stream",
     "text": [
      "[1, 2, 3, 4, 5, 6]\n"
     ]
    }
   ],
   "source": [
    "def BubbleSortRec(arr, r, c):\n",
    "    if r == 0:\n",
    "        return\n",
    "    if c < r:\n",
    "        if arr[c] > arr[c + 1]:\n",
    "            temp = arr[c]\n",
    "            arr[c] = arr[c + 1]\n",
    "            arr[c + 1] = temp \n",
    "        BubbleSortRec(arr, r, c + 1)\n",
    "    else:\n",
    "        BubbleSortRec(arr, r - 1, 0)\n",
    "\n",
    "arr = [6,5,4,3,2,1]\n",
    "BubbleSortRec(arr, len(arr) - 1, 0)\n",
    "print(arr)"
   ]
  }
 ],
 "metadata": {
  "kernelspec": {
   "display_name": "Python 3 (ipykernel)",
   "language": "python",
   "name": "python3"
  },
  "language_info": {
   "codemirror_mode": {
    "name": "ipython",
    "version": 3
   },
   "file_extension": ".py",
   "mimetype": "text/x-python",
   "name": "python",
   "nbconvert_exporter": "python",
   "pygments_lexer": "ipython3",
   "version": "3.9.13"
  }
 },
 "nbformat": 4,
 "nbformat_minor": 5
}
