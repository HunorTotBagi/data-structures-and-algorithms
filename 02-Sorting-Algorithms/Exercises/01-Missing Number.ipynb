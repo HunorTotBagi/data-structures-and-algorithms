{
 "cells": [
  {
   "cell_type": "markdown",
   "id": "c2bffac7",
   "metadata": {},
   "source": [
    "### Given an array nums containing n distinct numbers in the range [0, n], return the only number in the range that is missing from the array."
   ]
  },
  {
   "cell_type": "markdown",
   "id": "174edea4",
   "metadata": {},
   "source": [
    "### Solution 1 - My approach without Cyclic sort"
   ]
  },
  {
   "cell_type": "code",
   "execution_count": 15,
   "id": "fef25ee3",
   "metadata": {},
   "outputs": [],
   "source": [
    "def MissingInSum(nums):\n",
    "    N = len(nums)\n",
    "    return int(N * (N+1)/2) - sum(nums)"
   ]
  },
  {
   "cell_type": "markdown",
   "id": "be06d715",
   "metadata": {},
   "source": [
    "### Solution 2 - Cyclic sort"
   ]
  },
  {
   "cell_type": "code",
   "execution_count": 1,
   "id": "ecb3ff81",
   "metadata": {},
   "outputs": [],
   "source": [
    "def swap(arr, first, second):\n",
    "    temp = arr[first]\n",
    "    arr[first] = arr[second]\n",
    "    arr[second] = temp"
   ]
  },
  {
   "cell_type": "code",
   "execution_count": 16,
   "id": "69aeea74",
   "metadata": {},
   "outputs": [],
   "source": [
    "def missingNumber(arr):\n",
    "    i = 0\n",
    "    while i < len(arr):\n",
    "        correct = arr[i]\n",
    "        if arr[i] < len(arr) and arr[i] != arr[correct]:\n",
    "            swap(arr,i,correct)\n",
    "        else:\n",
    "            i += 1\n",
    "    \n",
    "    for i in range(len(arr)):\n",
    "        if arr[i] != i:\n",
    "            return i\n",
    "    else:\n",
    "        return len(arr)"
   ]
  },
  {
   "cell_type": "code",
   "execution_count": 23,
   "id": "ca81fdda",
   "metadata": {},
   "outputs": [
    {
     "data": {
      "text/plain": [
       "(3, 3)"
      ]
     },
     "execution_count": 23,
     "metadata": {},
     "output_type": "execute_result"
    }
   ],
   "source": [
    "missingNumber([0,4,2,1]), MissingInSum([0,4,2,1])"
   ]
  }
 ],
 "metadata": {
  "kernelspec": {
   "display_name": "Python 3 (ipykernel)",
   "language": "python",
   "name": "python3"
  },
  "language_info": {
   "codemirror_mode": {
    "name": "ipython",
    "version": 3
   },
   "file_extension": ".py",
   "mimetype": "text/x-python",
   "name": "python",
   "nbconvert_exporter": "python",
   "pygments_lexer": "ipython3",
   "version": "3.9.13"
  }
 },
 "nbformat": 4,
 "nbformat_minor": 5
}
