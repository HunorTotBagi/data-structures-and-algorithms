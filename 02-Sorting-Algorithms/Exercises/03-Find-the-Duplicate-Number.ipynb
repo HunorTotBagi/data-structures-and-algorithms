{
 "cells": [
  {
   "cell_type": "markdown",
   "id": "0824badf",
   "metadata": {},
   "source": [
    "### Given an array of integers nums containing n + 1 integers where each integer is in the range [1, n] inclusive.\n",
    "\n",
    "### There is only one repeated number in nums, return this repeated number.\n",
    "\n",
    "### You must solve the problem without modifying the array nums and uses only constant extra space."
   ]
  },
  {
   "cell_type": "code",
   "execution_count": 12,
   "id": "3a8f0e43",
   "metadata": {},
   "outputs": [],
   "source": [
    "def swap(arr, first, second):\n",
    "    temp = arr[first]\n",
    "    arr[first] = arr[second]\n",
    "    arr[second] = temp"
   ]
  },
  {
   "cell_type": "code",
   "execution_count": 13,
   "id": "79b1ffa9",
   "metadata": {},
   "outputs": [],
   "source": [
    "def CyclicSortDuplicate(arr): \n",
    "    i = 0\n",
    "    while i < len(arr):\n",
    "        correct = arr[i] - 1\n",
    "        if arr[i] != arr[correct]:\n",
    "            swap(arr,i,correct)\n",
    "        else:\n",
    "            i += 1\n",
    "    \n",
    "    for i in range(len(arr)):\n",
    "        if arr[i]-1 != i:\n",
    "            return arr[i]"
   ]
  },
  {
   "cell_type": "markdown",
   "id": "47ba722e",
   "metadata": {},
   "source": [
    "### Test cases"
   ]
  },
  {
   "cell_type": "code",
   "execution_count": 14,
   "id": "34864137",
   "metadata": {},
   "outputs": [
    {
     "data": {
      "text/plain": [
       "2"
      ]
     },
     "execution_count": 14,
     "metadata": {},
     "output_type": "execute_result"
    }
   ],
   "source": [
    "CyclicSortDuplicate([1,3,4,2,2])"
   ]
  },
  {
   "cell_type": "code",
   "execution_count": 15,
   "id": "c75162d9",
   "metadata": {},
   "outputs": [
    {
     "data": {
      "text/plain": [
       "3"
      ]
     },
     "execution_count": 15,
     "metadata": {},
     "output_type": "execute_result"
    }
   ],
   "source": [
    "CyclicSortDuplicate([3,1,3,4,2])"
   ]
  },
  {
   "cell_type": "code",
   "execution_count": 16,
   "id": "2d0a0487",
   "metadata": {},
   "outputs": [
    {
     "data": {
      "text/plain": [
       "1"
      ]
     },
     "execution_count": 16,
     "metadata": {},
     "output_type": "execute_result"
    }
   ],
   "source": [
    "CyclicSortDuplicate([1,1])"
   ]
  },
  {
   "cell_type": "code",
   "execution_count": 17,
   "id": "2f51f512",
   "metadata": {},
   "outputs": [
    {
     "data": {
      "text/plain": [
       "1"
      ]
     },
     "execution_count": 17,
     "metadata": {},
     "output_type": "execute_result"
    }
   ],
   "source": [
    "CyclicSortDuplicate([1,1,2])"
   ]
  }
 ],
 "metadata": {
  "kernelspec": {
   "display_name": "Python 3 (ipykernel)",
   "language": "python",
   "name": "python3"
  },
  "language_info": {
   "codemirror_mode": {
    "name": "ipython",
    "version": 3
   },
   "file_extension": ".py",
   "mimetype": "text/x-python",
   "name": "python",
   "nbconvert_exporter": "python",
   "pygments_lexer": "ipython3",
   "version": "3.9.13"
  }
 },
 "nbformat": 4,
 "nbformat_minor": 5
}
