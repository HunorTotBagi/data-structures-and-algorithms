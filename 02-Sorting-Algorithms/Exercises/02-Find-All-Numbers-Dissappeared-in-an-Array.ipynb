{
 "cells": [
  {
   "cell_type": "markdown",
   "id": "e45d5d8f",
   "metadata": {},
   "source": [
    "### Given an array nums of n integers where nums[i] is in the range [1, n], return an array of all the integers in the range [1, n] that do not appear in nums."
   ]
  },
  {
   "cell_type": "code",
   "execution_count": 13,
   "id": "e3d5816b",
   "metadata": {},
   "outputs": [],
   "source": [
    "def swap(arr, first, second):\n",
    "    temp = arr[first]\n",
    "    arr[first] = arr[second]\n",
    "    arr[second] = temp"
   ]
  },
  {
   "cell_type": "code",
   "execution_count": 14,
   "id": "2b7ca7a2",
   "metadata": {},
   "outputs": [],
   "source": [
    "def CyclicSortMissing(arr):\n",
    "    i = 0\n",
    "    while i < len(arr):\n",
    "        correct = arr[i] - 1\n",
    "        if arr[i] != arr[correct]:\n",
    "            swap(arr,i,correct)\n",
    "        else:\n",
    "            i += 1\n",
    "            \n",
    "    lista = []\n",
    "    for i in range(len(arr)):\n",
    "        if arr[i] != i+1:\n",
    "            lista.append(i+1)\n",
    "    return lista\n",
    "            "
   ]
  },
  {
   "cell_type": "code",
   "execution_count": 15,
   "id": "2012a4fd",
   "metadata": {},
   "outputs": [
    {
     "data": {
      "text/plain": [
       "[5, 6]"
      ]
     },
     "execution_count": 15,
     "metadata": {},
     "output_type": "execute_result"
    }
   ],
   "source": [
    "CyclicSortMissing([4,3,2,7,8,2,3,1])"
   ]
  },
  {
   "cell_type": "code",
   "execution_count": 16,
   "id": "a38f0802",
   "metadata": {},
   "outputs": [
    {
     "data": {
      "text/plain": [
       "[2]"
      ]
     },
     "execution_count": 16,
     "metadata": {},
     "output_type": "execute_result"
    }
   ],
   "source": [
    "CyclicSortMissing([1,1])"
   ]
  }
 ],
 "metadata": {
  "kernelspec": {
   "display_name": "Python 3 (ipykernel)",
   "language": "python",
   "name": "python3"
  },
  "language_info": {
   "codemirror_mode": {
    "name": "ipython",
    "version": 3
   },
   "file_extension": ".py",
   "mimetype": "text/x-python",
   "name": "python",
   "nbconvert_exporter": "python",
   "pygments_lexer": "ipython3",
   "version": "3.9.13"
  }
 },
 "nbformat": 4,
 "nbformat_minor": 5
}
