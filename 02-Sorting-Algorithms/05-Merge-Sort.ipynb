{
 "cells": [
  {
   "cell_type": "code",
   "execution_count": 9,
   "id": "4358fc8c",
   "metadata": {},
   "outputs": [],
   "source": [
    "def merge(a,b):\n",
    "    i=0\n",
    "    j=0\n",
    "    merged = []\n",
    "    while i < len(a) and j < len(b):\n",
    "        if a[i] < b[j]:\n",
    "            merged.append(a[i])\n",
    "            i += 1\n",
    "        else:\n",
    "            merged.append(b[j])\n",
    "            j += 1\n",
    "    while i < len(a):\n",
    "        merged.append(a[i])\n",
    "        i += 1\n",
    "    while j < len(b):\n",
    "        merged.append(b[j])\n",
    "        j += 1\n",
    "    return merged"
   ]
  },
  {
   "cell_type": "code",
   "execution_count": 14,
   "id": "e48565d2",
   "metadata": {},
   "outputs": [
    {
     "data": {
      "text/plain": [
       "[3, 4, 5, 6, 8, 12]"
      ]
     },
     "execution_count": 14,
     "metadata": {},
     "output_type": "execute_result"
    }
   ],
   "source": [
    "def mergeSort(arr):\n",
    "    if len(arr) == 1:\n",
    "        return arr\n",
    "    mid = int(len(arr)/2)\n",
    "    left = mergeSort(arr[0:mid])\n",
    "    right = mergeSort(arr[mid:len(arr)])\n",
    "    return merge(left,right)\n",
    "\n",
    "mergeSort([8,3,4,12,5,6])"
   ]
  },
  {
   "cell_type": "markdown",
   "id": "15bfc99e",
   "metadata": {},
   "source": [
    "### Time complexity: $\\mathcal{O}(n\\log n)$\n",
    "### Space complexity: $\\mathcal{O}(n)$"
   ]
  }
 ],
 "metadata": {
  "kernelspec": {
   "display_name": "Python 3 (ipykernel)",
   "language": "python",
   "name": "python3"
  },
  "language_info": {
   "codemirror_mode": {
    "name": "ipython",
    "version": 3
   },
   "file_extension": ".py",
   "mimetype": "text/x-python",
   "name": "python",
   "nbconvert_exporter": "python",
   "pygments_lexer": "ipython3",
   "version": "3.9.13"
  }
 },
 "nbformat": 4,
 "nbformat_minor": 5
}
