{
 "cells": [
  {
   "cell_type": "markdown",
   "id": "cb020adc",
   "metadata": {},
   "source": [
    "### You have a set of integers s, which originally contains all the numbers from 1 to n. Unfortunately, due to some error, one of the numbers in s got duplicated to another number in the set, which results in repetition of one number and loss of another number.\n",
    "\n",
    "### You are given an integer array nums representing the data status of this set after the error.\n",
    "\n",
    "### Find the number that occurs twice and the number that is missing and return them in the form of an array."
   ]
  },
  {
   "cell_type": "code",
   "execution_count": 59,
   "id": "a3fd18c6",
   "metadata": {},
   "outputs": [],
   "source": [
    "def swap(arr, first, second):\n",
    "    temp = arr[first]\n",
    "    arr[first] = arr[second]\n",
    "    arr[second] = temp"
   ]
  },
  {
   "cell_type": "code",
   "execution_count": 70,
   "id": "0cead56c",
   "metadata": {},
   "outputs": [],
   "source": [
    "def CyclicSortDuplicate(arr): \n",
    "    i = 0\n",
    "    while i < len(arr):\n",
    "        correct = arr[i] - 1\n",
    "        if arr[i] != arr[correct]:\n",
    "            swap(arr,i,correct)\n",
    "        else:\n",
    "            i += 1\n",
    "    \n",
    "    for i in range(len(arr)):\n",
    "        if arr[i]-1 != i:\n",
    "            return [arr[i],i+1]"
   ]
  },
  {
   "cell_type": "code",
   "execution_count": 71,
   "id": "c9ebcf66",
   "metadata": {},
   "outputs": [
    {
     "data": {
      "text/plain": [
       "[2, 3]"
      ]
     },
     "execution_count": 71,
     "metadata": {},
     "output_type": "execute_result"
    }
   ],
   "source": [
    "CyclicSortDuplicate([1,2,2,4])"
   ]
  },
  {
   "cell_type": "code",
   "execution_count": 72,
   "id": "da0f0b9f",
   "metadata": {},
   "outputs": [
    {
     "data": {
      "text/plain": [
       "[2, 3]"
      ]
     },
     "execution_count": 72,
     "metadata": {},
     "output_type": "execute_result"
    }
   ],
   "source": [
    "CyclicSortDuplicate([2,1,4,2,6,5])"
   ]
  },
  {
   "cell_type": "code",
   "execution_count": 73,
   "id": "021496fa",
   "metadata": {},
   "outputs": [
    {
     "data": {
      "text/plain": [
       "[1, 2]"
      ]
     },
     "execution_count": 73,
     "metadata": {},
     "output_type": "execute_result"
    }
   ],
   "source": [
    "CyclicSortDuplicate([1,1])"
   ]
  }
 ],
 "metadata": {
  "kernelspec": {
   "display_name": "Python 3 (ipykernel)",
   "language": "python",
   "name": "python3"
  },
  "language_info": {
   "codemirror_mode": {
    "name": "ipython",
    "version": 3
   },
   "file_extension": ".py",
   "mimetype": "text/x-python",
   "name": "python",
   "nbconvert_exporter": "python",
   "pygments_lexer": "ipython3",
   "version": "3.9.13"
  }
 },
 "nbformat": 4,
 "nbformat_minor": 5
}
