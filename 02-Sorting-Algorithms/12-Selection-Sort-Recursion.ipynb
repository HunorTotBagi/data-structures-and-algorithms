{
 "cells": [
  {
   "cell_type": "code",
   "execution_count": 4,
   "id": "898f312c",
   "metadata": {},
   "outputs": [
    {
     "name": "stdout",
     "output_type": "stream",
     "text": [
      "[1, 2, 3, 4]\n"
     ]
    }
   ],
   "source": [
    "def selectionSortRec(arr, r, c, maxi):\n",
    "    if r == 0:\n",
    "        return\n",
    "    if c < r:\n",
    "        if arr[c] > arr[maxi]:\n",
    "            selectionSortRec(arr, r, c + 1, c)\n",
    "        else:\n",
    "            selectionSortRec(arr, r, c + 1, maxi)\n",
    "    else:\n",
    "        temp = arr[maxi]\n",
    "        arr[maxi] = arr[r - 1]\n",
    "        arr[r - 1] = temp\n",
    "        selectionSortRec(arr, r - 1, 0, 0)\n",
    "        \n",
    "arr = [4,3,2,1]\n",
    "selectionSortRec(arr,4,0,0)\n",
    "print(arr)"
   ]
  }
 ],
 "metadata": {
  "kernelspec": {
   "display_name": "Python 3 (ipykernel)",
   "language": "python",
   "name": "python3"
  },
  "language_info": {
   "codemirror_mode": {
    "name": "ipython",
    "version": 3
   },
   "file_extension": ".py",
   "mimetype": "text/x-python",
   "name": "python",
   "nbconvert_exporter": "python",
   "pygments_lexer": "ipython3",
   "version": "3.9.13"
  }
 },
 "nbformat": 4,
 "nbformat_minor": 5
}
