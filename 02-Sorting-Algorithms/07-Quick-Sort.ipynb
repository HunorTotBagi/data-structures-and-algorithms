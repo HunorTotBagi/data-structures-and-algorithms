{
 "cells": [
  {
   "cell_type": "code",
   "execution_count": 1,
   "id": "3482391a",
   "metadata": {},
   "outputs": [],
   "source": [
    "def quickSort(nums, low, hi):\n",
    "    if low >= hi:\n",
    "        return\n",
    "    s = low\n",
    "    e = hi\n",
    "    m = int(s + (e - s)/2)\n",
    "    pivot = nums[m]\n",
    "    while s <= e:\n",
    "        while nums[s] < pivot:\n",
    "            s += 1\n",
    "        while nums[e] > pivot:\n",
    "            e -= 1\n",
    "        if s <= e:\n",
    "            temp = nums[s]\n",
    "            nums[s] = nums[e]\n",
    "            nums[e] = temp\n",
    "            s += 1\n",
    "            e -= 1\n",
    "    quickSort(nums, low, e)\n",
    "    quickSort(nums, s, hi)"
   ]
  },
  {
   "cell_type": "code",
   "execution_count": 2,
   "id": "afe33d6a",
   "metadata": {},
   "outputs": [
    {
     "data": {
      "text/plain": [
       "[1, 2, 3, 4, 5]"
      ]
     },
     "execution_count": 2,
     "metadata": {},
     "output_type": "execute_result"
    }
   ],
   "source": [
    "arr = [5,4,3,2,1]\n",
    "quickSort(arr, 0, len(arr) - 1)\n",
    "arr"
   ]
  },
  {
   "cell_type": "markdown",
   "id": "c5ff8461",
   "metadata": {},
   "source": [
    "### Time complexity: $\\mathcal{O}(n\\log n)$\n",
    "### Space complexity: $\\mathcal{O}(\\log n)$"
   ]
  }
 ],
 "metadata": {
  "kernelspec": {
   "display_name": "Python 3 (ipykernel)",
   "language": "python",
   "name": "python3"
  },
  "language_info": {
   "codemirror_mode": {
    "name": "ipython",
    "version": 3
   },
   "file_extension": ".py",
   "mimetype": "text/x-python",
   "name": "python",
   "nbconvert_exporter": "python",
   "pygments_lexer": "ipython3",
   "version": "3.9.13"
  }
 },
 "nbformat": 4,
 "nbformat_minor": 5
}
