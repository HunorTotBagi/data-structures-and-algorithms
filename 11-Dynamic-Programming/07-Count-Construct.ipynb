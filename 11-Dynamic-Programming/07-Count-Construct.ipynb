{
 "cells": [
  {
   "cell_type": "markdown",
   "id": "c30736d0",
   "metadata": {},
   "source": [
    "### Task"
   ]
  },
  {
   "cell_type": "markdown",
   "id": "db9e114c",
   "metadata": {},
   "source": [
    "Write a function `count_construct(target, word_bank)` that accepts a target string and an array of strings.\n",
    "\n",
    "The functions should return the number of ways that the `target` can be constructed by concatenating elements of the `word_bank` array.\n",
    "\n",
    "You may reuse elements of `word_bank` as many times as needed."
   ]
  },
  {
   "cell_type": "markdown",
   "id": "3f5ef79f",
   "metadata": {},
   "source": [
    "### Time complexity: $\\mathcal{O}(n*m^2)$\n",
    "### Space complexity: $\\mathcal{O}(m^2)$\n",
    "\n",
    "m = len(target)\n",
    "\n",
    "n = len(word_bank)"
   ]
  },
  {
   "cell_type": "code",
   "execution_count": 15,
   "id": "bf2b3f9d",
   "metadata": {},
   "outputs": [],
   "source": [
    "def count_construct(target, word_bank, memo=None):\n",
    "    # Check if memo dictionary is None, initialize it if needed\n",
    "    if memo is None:\n",
    "        memo = {}\n",
    "        \n",
    "    # Check if the target is already computed and stored in the memo dictionary\n",
    "    if target in memo:\n",
    "        return memo[target]\n",
    "    \n",
    "    # Base case: if the target is an empty string, there is one valid construction\n",
    "    if target == '':\n",
    "        return 1\n",
    "    \n",
    "    total_count = 0\n",
    "    \n",
    "    # Try constructing the target using words from the word bank\n",
    "    for word in word_bank:\n",
    "        # Check if the target starts with the current word\n",
    "        if target.startswith(word):\n",
    "            # Get the number of ways to construct the rest of the target string\n",
    "            num_ways_for_rest = count_construct(target[len(word):], word_bank, memo)\n",
    "            # Add the number of ways to construct the current target to the total count\n",
    "            total_count += num_ways_for_rest\n",
    "           \n",
    "    # Store the computed total count in the memo dictionary for future use\n",
    "    memo[target] = total_count\n",
    "    \n",
    "    return memo[target]"
   ]
  },
  {
   "cell_type": "markdown",
   "id": "70a31e4d",
   "metadata": {},
   "source": [
    "### Test"
   ]
  },
  {
   "cell_type": "code",
   "execution_count": 16,
   "id": "24172d4f",
   "metadata": {},
   "outputs": [
    {
     "name": "stdout",
     "output_type": "stream",
     "text": [
      "2\n",
      "1\n",
      "0\n",
      "4\n",
      "0\n"
     ]
    }
   ],
   "source": [
    "print(count_construct('purple', ['purp', 'p', 'ur', 'le', 'purpl']))\n",
    "print(count_construct('abcdef', ['ab', 'abc', 'cd', 'def', 'abcd']))\n",
    "print(count_construct('skateboard', ['bo', 'rd', 'ate', 't', 'ska', 'sk', 'boar']))\n",
    "print(count_construct('enterapotentpot', ['a', 'p', 'ent', 'enter','ot', 'o', 't']))\n",
    "print(count_construct('eeeeeeeeeeeeeeeeeeeeeeeeeef', ['e', 'ee', 'eee', 'eeee','eeeee', 'eeeeee']))"
   ]
  }
 ],
 "metadata": {
  "kernelspec": {
   "display_name": "Python 3 (ipykernel)",
   "language": "python",
   "name": "python3"
  },
  "language_info": {
   "codemirror_mode": {
    "name": "ipython",
    "version": 3
   },
   "file_extension": ".py",
   "mimetype": "text/x-python",
   "name": "python",
   "nbconvert_exporter": "python",
   "pygments_lexer": "ipython3",
   "version": "3.9.13"
  }
 },
 "nbformat": 4,
 "nbformat_minor": 5
}
