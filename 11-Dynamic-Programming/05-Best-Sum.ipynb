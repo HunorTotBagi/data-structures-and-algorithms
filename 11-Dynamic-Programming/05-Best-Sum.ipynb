{
 "cells": [
  {
   "cell_type": "markdown",
   "id": "f270742f",
   "metadata": {},
   "source": [
    "### Task"
   ]
  },
  {
   "cell_type": "markdown",
   "id": "ef021bb9",
   "metadata": {},
   "source": [
    "Write a function `best_sum(target_sum, numbers)` that takes in a `target_sum` and an array `numbers` as arguments.\n",
    "\n",
    "The function should return an array containing the shortest combination of numbers that add up to exactly the `target_sum`.\n",
    "\n",
    "If there is a tie for the shortest combination, you may return any one of the shortest."
   ]
  },
  {
   "cell_type": "markdown",
   "id": "651a8612",
   "metadata": {},
   "source": [
    "### Time complexity: $\\mathcal{O}(m*n)$\n",
    "### Space complexity: $\\mathcal{O}(m^2)$\n",
    "m = target sum ; n = array length"
   ]
  },
  {
   "cell_type": "code",
   "execution_count": 8,
   "id": "59cee9e2",
   "metadata": {},
   "outputs": [],
   "source": [
    "def best_sum(target_sum, numbers, memo=None):\n",
    "    # If memo is not provided, initialize an empty dictionary\n",
    "    if memo is None:\n",
    "        memo = {}\n",
    "        \n",
    "    # If the target_sum has already been calculated and stored in the memo, return it\n",
    "    if target_sum in memo:\n",
    "        return memo[target_sum]\n",
    "    \n",
    "    # Base cases:\n",
    "    # If target_sum is 0, return an empty list to indicate a valid combination\n",
    "    if target_sum == 0:\n",
    "        return []\n",
    "    \n",
    "    # If target_sum is negative, return None to indicate an invalid combination\n",
    "    if target_sum < 0:\n",
    "        return None\n",
    "    \n",
    "    # Initialize the shortest_combination as None\n",
    "    shortest_combination = None\n",
    "    \n",
    "    # Iterate through each number in the numbers list\n",
    "    for num in numbers:\n",
    "        # Calculate the remainder after subtracting num from the target_sum\n",
    "        remainder = target_sum - num\n",
    "        \n",
    "        # Recursively call the function to find the combination for the remainder\n",
    "        remainder_combination = best_sum(remainder, numbers, memo)\n",
    "        \n",
    "        # If a valid combination for the remainder is found\n",
    "        if remainder_combination is not None:\n",
    "            # Create a new combination by adding the current number to the remainder's combination\n",
    "            combination = remainder_combination + [num]\n",
    "            \n",
    "            # Update the shortest_combination if:\n",
    "            # - shortest_combination is None (no previous combination found)\n",
    "            # - The length of the new combination is shorter than the length of the current shortest_combination\n",
    "            if shortest_combination is None or len(combination) < len(shortest_combination):\n",
    "                shortest_combination = combination\n",
    "           \n",
    "    # Store the shortest_combination in the memo dictionary for future use\n",
    "    memo[target_sum] = shortest_combination\n",
    "    \n",
    "    # Return the shortest_combination\n",
    "    return shortest_combination"
   ]
  },
  {
   "cell_type": "markdown",
   "id": "deea7288",
   "metadata": {},
   "source": [
    "### Testing"
   ]
  },
  {
   "cell_type": "code",
   "execution_count": 9,
   "id": "c45256df",
   "metadata": {},
   "outputs": [
    {
     "name": "stdout",
     "output_type": "stream",
     "text": [
      "[7]\n",
      "[5, 3]\n",
      "[4, 4]\n",
      "[25, 25, 25, 25]\n"
     ]
    }
   ],
   "source": [
    "print(best_sum(7, [5, 3, 4, 7]))\n",
    "print(best_sum(8, [2, 3, 5]))\n",
    "print(best_sum(8, [1, 4, 5]))\n",
    "print(best_sum(100, [1, 2, 5, 25]))"
   ]
  }
 ],
 "metadata": {
  "kernelspec": {
   "display_name": "Python 3 (ipykernel)",
   "language": "python",
   "name": "python3"
  },
  "language_info": {
   "codemirror_mode": {
    "name": "ipython",
    "version": 3
   },
   "file_extension": ".py",
   "mimetype": "text/x-python",
   "name": "python",
   "nbconvert_exporter": "python",
   "pygments_lexer": "ipython3",
   "version": "3.9.13"
  }
 },
 "nbformat": 4,
 "nbformat_minor": 5
}
