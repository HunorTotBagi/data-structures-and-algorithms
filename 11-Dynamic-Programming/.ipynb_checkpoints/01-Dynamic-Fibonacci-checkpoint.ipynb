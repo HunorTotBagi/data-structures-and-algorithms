{
 "cells": [
  {
   "cell_type": "markdown",
   "id": "9c7f7385",
   "metadata": {},
   "source": [
    "### Task"
   ]
  },
  {
   "cell_type": "markdown",
   "id": "e9f7f16f",
   "metadata": {},
   "source": [
    "Write a function `fib(n)` that takes in a number as an argument. The function should return the n-th number of the Fibonacci sequence."
   ]
  },
  {
   "cell_type": "markdown",
   "id": "011b396c",
   "metadata": {},
   "source": [
    "### Time complexity: $\\mathcal{O}(n)$\n",
    "### Space complexity: $\\mathcal{O}(n)$"
   ]
  },
  {
   "cell_type": "code",
   "execution_count": 1,
   "id": "0d718754",
   "metadata": {},
   "outputs": [],
   "source": [
    "def fib(n, memo={}):\n",
    "    \n",
    "    # Check if n already exists in memoization dictionary\n",
    "    if n in memo:\n",
    "        return memo[n]\n",
    "    \n",
    "    # Base case\n",
    "    if n <= 2:\n",
    "        return 1\n",
    "    \n",
    "    # Recursive case: calculate Fibonacci number and store it in memoization dictionary\n",
    "    memo[n] = fib(n-1, memo) + fib(n-2, memo)\n",
    "    \n",
    "    return memo[n]"
   ]
  },
  {
   "cell_type": "markdown",
   "id": "f4c76a17",
   "metadata": {},
   "source": [
    "### Test"
   ]
  },
  {
   "cell_type": "code",
   "execution_count": 2,
   "id": "b6c388be",
   "metadata": {},
   "outputs": [
    {
     "name": "stdout",
     "output_type": "stream",
     "text": [
      "12586269025\n",
      "354224848179261915075\n",
      "9969216677189303386214405760200\n"
     ]
    }
   ],
   "source": [
    "print(fib(50))\n",
    "print(fib(100))\n",
    "print(fib(150))"
   ]
  }
 ],
 "metadata": {
  "kernelspec": {
   "display_name": "Python 3 (ipykernel)",
   "language": "python",
   "name": "python3"
  },
  "language_info": {
   "codemirror_mode": {
    "name": "ipython",
    "version": 3
   },
   "file_extension": ".py",
   "mimetype": "text/x-python",
   "name": "python",
   "nbconvert_exporter": "python",
   "pygments_lexer": "ipython3",
   "version": "3.9.13"
  }
 },
 "nbformat": 4,
 "nbformat_minor": 5
}
