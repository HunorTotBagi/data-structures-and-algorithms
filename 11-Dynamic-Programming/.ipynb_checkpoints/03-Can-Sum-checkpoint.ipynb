{
 "cells": [
  {
   "cell_type": "markdown",
   "id": "0d5ac28a",
   "metadata": {},
   "source": [
    "### Time complexity: $\\mathcal{O}(m*n)$\n",
    "### Space complexity: $\\mathcal{O}(m)$\n",
    "m = target sum ; n = array length"
   ]
  },
  {
   "cell_type": "code",
   "execution_count": 19,
   "id": "d3e039d2",
   "metadata": {},
   "outputs": [],
   "source": [
    "def can_sum(target_sum, numbers, memo=None):\n",
    "    # If no memoization dictionary is provided, create an empty one\n",
    "    if memo is None:\n",
    "        memo = {}\n",
    "        \n",
    "    # Check if the target_sum has already been computed and return the result\n",
    "    if target_sum in memo:\n",
    "        return memo[target_sum]\n",
    "    \n",
    "    # Base cases\n",
    "    if target_sum == 0:\n",
    "        return True\n",
    "    if target_sum < 0:\n",
    "        return False\n",
    "    \n",
    "    # Try subtracting each number from the target_sum and recursively check if the remainder can be summed\n",
    "    for num in numbers:\n",
    "        remainder = target_sum - num\n",
    "        if can_sum(remainder, numbers, memo):\n",
    "            # If the remainder can be summed, update the memoization dictionary and return True\n",
    "            memo[target_sum] = True\n",
    "            return True\n",
    "        \n",
    "    # If none of the subtractions result in a sum, update the memoization dictionary and return False\n",
    "    memo[target_sum] = False\n",
    "    return False"
   ]
  },
  {
   "cell_type": "markdown",
   "id": "1fb52b87",
   "metadata": {},
   "source": [
    "### Testing"
   ]
  },
  {
   "cell_type": "code",
   "execution_count": 20,
   "id": "7f969ea6",
   "metadata": {},
   "outputs": [
    {
     "name": "stdout",
     "output_type": "stream",
     "text": [
      "True\n",
      "True\n",
      "False\n",
      "True\n",
      "False\n"
     ]
    }
   ],
   "source": [
    "print(can_sum(7, [2, 3]))\n",
    "print(can_sum(7, [5, 3, 4, 7]))\n",
    "print(can_sum(7, [2, 4]))\n",
    "print(can_sum(8, [2, 3, 5]))\n",
    "print(can_sum(300, [7, 14]))"
   ]
  }
 ],
 "metadata": {
  "kernelspec": {
   "display_name": "Python 3 (ipykernel)",
   "language": "python",
   "name": "python3"
  },
  "language_info": {
   "codemirror_mode": {
    "name": "ipython",
    "version": 3
   },
   "file_extension": ".py",
   "mimetype": "text/x-python",
   "name": "python",
   "nbconvert_exporter": "python",
   "pygments_lexer": "ipython3",
   "version": "3.9.13"
  }
 },
 "nbformat": 4,
 "nbformat_minor": 5
}
