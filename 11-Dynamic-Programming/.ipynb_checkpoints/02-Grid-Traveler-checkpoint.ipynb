{
 "cells": [
  {
   "cell_type": "markdown",
   "id": "bf0ec87f",
   "metadata": {},
   "source": [
    "### Task"
   ]
  },
  {
   "cell_type": "markdown",
   "id": "57ff5c80",
   "metadata": {},
   "source": [
    "You are a traveler on a 2D grid. You begin in the top-left corner and your goal is to travel to the bottom-right corner. You may only move down or right.\n",
    "\n",
    "In how many ways can you travel to the goal on a grid with dimensions `m * n`?\n",
    "\n",
    "Write a function `grid_traveler(m, n)` that calculates this."
   ]
  },
  {
   "cell_type": "markdown",
   "id": "477421c9",
   "metadata": {},
   "source": [
    "### Time complexity: $\\mathcal{O}(n * m)$\n",
    "### Space complexity: $\\mathcal{O}(n + m)$"
   ]
  },
  {
   "cell_type": "code",
   "execution_count": 2,
   "id": "0a9712fa",
   "metadata": {},
   "outputs": [],
   "source": [
    "def dynamic_grid_traveler(m, n, memo={}):\n",
    "    # Create a unique key based on the values of `m` and `n` in form of a string\n",
    "    key = str(m) + ',' + str(n)\n",
    "    \n",
    "    # If the result for the given `key` already exists in the `memo` dictionary, return the value stored at that key\n",
    "    if key in memo:\n",
    "        return memo[key]\n",
    "    \n",
    "    # If both `m` and `n` are equal to `1`, there is only one possible path\n",
    "    if m == 1 and n == 1:\n",
    "        return 1\n",
    "    \n",
    "    # If either `m` or `n` is equal to `0`, there are no possible paths\n",
    "    if m == 0 or n == 0:\n",
    "        return 0\n",
    "    \n",
    "    # Recursively call `dynamic_grid_traveler()` twice with smaller values of `m` and `n`,\n",
    "    # representing moving down or right in the grid, respectively. The result of each recursive\n",
    "    # call is added together and stored in the `memo` dictionary for future use.\n",
    "    memo[key] = dynamic_grid_traveler(m - 1, n, memo) + dynamic_grid_traveler(m, n - 1, memo)\n",
    "    \n",
    "    # Return the final result stored in the `memo` dictionary for the given `key`\n",
    "    return memo[key]"
   ]
  },
  {
   "cell_type": "markdown",
   "id": "9e5152ec",
   "metadata": {},
   "source": [
    "### Test"
   ]
  },
  {
   "cell_type": "code",
   "execution_count": 3,
   "id": "73547f44",
   "metadata": {},
   "outputs": [
    {
     "name": "stdout",
     "output_type": "stream",
     "text": [
      "2333606220\n",
      "6669866166572163685031616\n",
      "514148011833223763993676501537343774954003873958055684480\n",
      "25802631612885822800244581533935335026869906110545776499962170319780283802669663809106916170169547105655150024437788000\n"
     ]
    }
   ],
   "source": [
    "print(dynamic_grid_traveler(18,18))\n",
    "print(dynamic_grid_traveler(32,64))\n",
    "print(dynamic_grid_traveler(88,108))\n",
    "print(dynamic_grid_traveler(200,200))"
   ]
  }
 ],
 "metadata": {
  "kernelspec": {
   "display_name": "Python 3 (ipykernel)",
   "language": "python",
   "name": "python3"
  },
  "language_info": {
   "codemirror_mode": {
    "name": "ipython",
    "version": 3
   },
   "file_extension": ".py",
   "mimetype": "text/x-python",
   "name": "python",
   "nbconvert_exporter": "python",
   "pygments_lexer": "ipython3",
   "version": "3.9.13"
  }
 },
 "nbformat": 4,
 "nbformat_minor": 5
}
