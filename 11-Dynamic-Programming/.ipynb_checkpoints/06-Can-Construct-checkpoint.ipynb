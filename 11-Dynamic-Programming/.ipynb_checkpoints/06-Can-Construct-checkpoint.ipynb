{
 "cells": [
  {
   "cell_type": "markdown",
   "id": "cd68b370",
   "metadata": {},
   "source": [
    "### Task"
   ]
  },
  {
   "cell_type": "markdown",
   "id": "48864ced",
   "metadata": {},
   "source": [
    "Write a function `can_construct(target, word_bank)` that accepts a target string and an array of strings.\n",
    "\n",
    "The function should return a boolean indicating whether or not the `target` can be constructed by concatenating elements of the `word_bank` array.\n",
    "\n",
    "You may reuse elements of `word_bank` as many times as needed."
   ]
  },
  {
   "cell_type": "markdown",
   "id": "3ab3119e",
   "metadata": {},
   "source": [
    "### Time complexity: $\\mathcal{O}(n*m^2)$\n",
    "### Space complexity: $\\mathcal{O}(m^2)$\n",
    "\n",
    "m = len(target)\n",
    "\n",
    "n = len(word_bank)"
   ]
  },
  {
   "cell_type": "code",
   "execution_count": 30,
   "id": "8fd00252",
   "metadata": {},
   "outputs": [],
   "source": [
    "def can_construct(target, word_bank, memo=None):\n",
    "    # Check if a memoization dictionary is provided, if not, create an empty one\n",
    "    if memo is None:\n",
    "        memo = {}\n",
    "\n",
    "    # If the target string is already in the memo, return the stored result\n",
    "    if target in memo:\n",
    "        return memo[target]\n",
    "\n",
    "    # If the target string is empty, it can be constructed, so return True\n",
    "    if target == '':\n",
    "        return True\n",
    "\n",
    "    # Iterate through each word in the word bank\n",
    "    for word in word_bank:\n",
    "        # Check if the target string starts with the current word\n",
    "        if target.startswith(word):\n",
    "            # Get the suffix by removing the current word from the target string\n",
    "            suffix = target[len(word):]\n",
    "            # Recursively call the function with the suffix as the new target\n",
    "            # and the same word bank and memoization dictionary\n",
    "            if can_construct(suffix, word_bank, memo):\n",
    "                # If the suffix can be constructed, store the result in the memo\n",
    "                memo[target] = True\n",
    "                return True\n",
    "\n",
    "    # If no combination can construct the target string, store the result in the memo\n",
    "    memo[target] = False\n",
    "    return False"
   ]
  },
  {
   "cell_type": "markdown",
   "id": "d2498c20",
   "metadata": {},
   "source": [
    "### Testing"
   ]
  },
  {
   "cell_type": "code",
   "execution_count": 31,
   "id": "4267ca3a",
   "metadata": {},
   "outputs": [
    {
     "name": "stdout",
     "output_type": "stream",
     "text": [
      "True\n",
      "False\n",
      "True\n",
      "False\n"
     ]
    }
   ],
   "source": [
    "print(can_construct('abcdef', ['ab', 'abc', 'cd', 'def', 'abcd']))\n",
    "print(can_construct('skateboard', ['bo', 'rd', 'ate', 't', 'ska', 'boar']))\n",
    "print(can_construct('enterapotentpot', ['a', 'p', 'ent', 'enter', 'ot', 'o', 't']))\n",
    "print(can_construct('eeeeeeeeeeeeeeeeeeeeeeeef', ['e','ee','eee','eeee','eeeee', 'eeeeee']))"
   ]
  }
 ],
 "metadata": {
  "kernelspec": {
   "display_name": "Python 3 (ipykernel)",
   "language": "python",
   "name": "python3"
  },
  "language_info": {
   "codemirror_mode": {
    "name": "ipython",
    "version": 3
   },
   "file_extension": ".py",
   "mimetype": "text/x-python",
   "name": "python",
   "nbconvert_exporter": "python",
   "pygments_lexer": "ipython3",
   "version": "3.9.13"
  }
 },
 "nbformat": 4,
 "nbformat_minor": 5
}
