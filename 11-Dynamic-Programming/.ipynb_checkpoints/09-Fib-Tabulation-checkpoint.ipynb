{
 "cells": [
  {
   "cell_type": "markdown",
   "id": "02076dc6",
   "metadata": {},
   "source": [
    "### Task"
   ]
  },
  {
   "cell_type": "markdown",
   "id": "60beeaeb",
   "metadata": {},
   "source": [
    "Write a function `fib(n)` that takes in a number as an argument. The function should return the n-th number of the Fibonacci sequence."
   ]
  },
  {
   "cell_type": "markdown",
   "id": "7921e392",
   "metadata": {},
   "source": [
    "### Time complexity: $\\mathcal{O}(n)$\n",
    "### Space complexity: $\\mathcal{O}(n)$"
   ]
  },
  {
   "cell_type": "code",
   "execution_count": 57,
   "id": "bc578a24",
   "metadata": {},
   "outputs": [],
   "source": [
    "def fib(n):\n",
    "    # Create a table to store Fibonacci numbers\n",
    "    table = [0]*(n+2)\n",
    "    \n",
    "    # Initialize the first element\n",
    "    table[1] = 1\n",
    "    \n",
    "    for i in range(n):\n",
    "        # Add the current item to the next two items\n",
    "        table[i + 1] += table[i]\n",
    "        table[i + 2] += table[i]\n",
    "        \n",
    "    return table[n]"
   ]
  },
  {
   "cell_type": "markdown",
   "id": "98692230",
   "metadata": {},
   "source": [
    "### Test"
   ]
  },
  {
   "cell_type": "code",
   "execution_count": 58,
   "id": "5f5d7a06",
   "metadata": {},
   "outputs": [
    {
     "name": "stdout",
     "output_type": "stream",
     "text": [
      "8\n",
      "13\n",
      "21\n",
      "12586269025\n"
     ]
    }
   ],
   "source": [
    "print(fib(6))\n",
    "print(fib(7))\n",
    "print(fib(8))\n",
    "print(fib(50))"
   ]
  }
 ],
 "metadata": {
  "kernelspec": {
   "display_name": "Python 3 (ipykernel)",
   "language": "python",
   "name": "python3"
  },
  "language_info": {
   "codemirror_mode": {
    "name": "ipython",
    "version": 3
   },
   "file_extension": ".py",
   "mimetype": "text/x-python",
   "name": "python",
   "nbconvert_exporter": "python",
   "pygments_lexer": "ipython3",
   "version": "3.9.13"
  }
 },
 "nbformat": 4,
 "nbformat_minor": 5
}
