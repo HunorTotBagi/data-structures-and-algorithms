{
 "cells": [
  {
   "cell_type": "markdown",
   "id": "6e56e410",
   "metadata": {},
   "source": [
    "Write a function `how_sum(target_sum, numbers)` that takes in a `target_sum` and an array of `numbers` as arguments.\n",
    "\n",
    "The function should return an array containing any combination of elements that add up to exaclty the `target_sum`. If there is no combination that adds up to the `target_sum`, then return `None`.\n",
    "\n",
    "If there are multiple combinations possible, you may return any single one."
   ]
  },
  {
   "cell_type": "markdown",
   "id": "5a801d31",
   "metadata": {},
   "source": [
    "### Time complexity: $\\mathcal{O}(m*n)$\n",
    "### Space complexity: $\\mathcal{O}(m^2)$\n",
    "m = target sum ; n = array length"
   ]
  },
  {
   "cell_type": "code",
   "execution_count": 32,
   "id": "45c9f1d8",
   "metadata": {},
   "outputs": [],
   "source": [
    "def how_sum(target_sum, numbers, memo=None):\n",
    "    if memo is None:\n",
    "        memo = {}\n",
    "\n",
    "    if target_sum in memo:\n",
    "        return memo[target_sum]\n",
    "\n",
    "    if target_sum == 0:\n",
    "        return []\n",
    "    if target_sum < 0:\n",
    "        return None\n",
    "\n",
    "    for num in numbers:\n",
    "        remainder = target_sum - num\n",
    "        remainder_result = how_sum(remainder, numbers, memo)\n",
    "        if remainder_result is not None:\n",
    "            memo[target_sum] = remainder_result + [num]\n",
    "            return memo[target_sum]\n",
    "\n",
    "    memo[target_sum] = None\n",
    "    return None"
   ]
  },
  {
   "cell_type": "markdown",
   "id": "c6d303f0",
   "metadata": {},
   "source": [
    "### Testing"
   ]
  },
  {
   "cell_type": "code",
   "execution_count": 34,
   "id": "c795a33e",
   "metadata": {},
   "outputs": [
    {
     "name": "stdout",
     "output_type": "stream",
     "text": [
      "[3, 2, 2]\n",
      "[4, 3]\n",
      "None\n",
      "[2, 2, 2, 2]\n",
      "None\n"
     ]
    }
   ],
   "source": [
    "print(how_sum(7, [2, 3]))\n",
    "print(how_sum(7, [5, 3, 4, 7]))\n",
    "print(how_sum(7, [2, 4]))\n",
    "print(how_sum(8, [2, 3, 5]))\n",
    "print(how_sum(300, [7, 14]))"
   ]
  }
 ],
 "metadata": {
  "kernelspec": {
   "display_name": "Python 3 (ipykernel)",
   "language": "python",
   "name": "python3"
  },
  "language_info": {
   "codemirror_mode": {
    "name": "ipython",
    "version": 3
   },
   "file_extension": ".py",
   "mimetype": "text/x-python",
   "name": "python",
   "nbconvert_exporter": "python",
   "pygments_lexer": "ipython3",
   "version": "3.9.13"
  }
 },
 "nbformat": 4,
 "nbformat_minor": 5
}
