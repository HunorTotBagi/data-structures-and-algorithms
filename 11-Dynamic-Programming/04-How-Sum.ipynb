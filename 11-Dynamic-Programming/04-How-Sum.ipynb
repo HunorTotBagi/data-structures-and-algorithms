{
 "cells": [
  {
   "cell_type": "markdown",
   "id": "6e56e410",
   "metadata": {},
   "source": [
    "Write a function `how_sum(target_sum, numbers)` that takes in a `target_sum` and an array of `numbers` as arguments.\n",
    "\n",
    "The function should return an array containing any combination of elements that add up to exaclty the `target_sum`. If there is no combination that adds up to the `target_sum`, then return `None`.\n",
    "\n",
    "If there are multiple combinations possible, you may return any single one."
   ]
  },
  {
   "cell_type": "markdown",
   "id": "5a801d31",
   "metadata": {},
   "source": [
    "### Time complexity: $\\mathcal{O}(m*n)$\n",
    "### Space complexity: $\\mathcal{O}(m^2)$\n",
    "m = target sum ; n = array length"
   ]
  },
  {
   "cell_type": "code",
   "execution_count": 36,
   "id": "45c9f1d8",
   "metadata": {},
   "outputs": [],
   "source": [
    "def how_sum(target_sum, numbers, memo=None):\n",
    "    # Check if memoization dictionary exists, otherwise create a new one\n",
    "    if memo is None:\n",
    "        memo = {}\n",
    "\n",
    "    # Check if the target_sum has already been calculated\n",
    "    if target_sum in memo:\n",
    "        return memo[target_sum]\n",
    "\n",
    "    # Base cases:\n",
    "    # If target_sum is 0, return an empty list (no numbers needed)\n",
    "    if target_sum == 0:\n",
    "        return []\n",
    "    # If target_sum is negative, it is not possible to reach the target_sum\n",
    "    if target_sum < 0:\n",
    "        return None\n",
    "\n",
    "    # Try subtracting each number from the target_sum and recursively call the function\n",
    "    for num in numbers:\n",
    "        remainder = target_sum - num\n",
    "        remainder_result = how_sum(remainder, numbers, memo)\n",
    "        if remainder_result is not None:\n",
    "            # If a solution is found, store it in the memoization dictionary\n",
    "            memo[target_sum] = remainder_result + [num]\n",
    "            return memo[target_sum]\n",
    "\n",
    "    # Store None in the memoization dictionary to indicate that target_sum is not possible\n",
    "    memo[target_sum] = None\n",
    "    return None"
   ]
  },
  {
   "cell_type": "markdown",
   "id": "c6d303f0",
   "metadata": {},
   "source": [
    "### Testing"
   ]
  },
  {
   "cell_type": "code",
   "execution_count": 37,
   "id": "c795a33e",
   "metadata": {},
   "outputs": [
    {
     "name": "stdout",
     "output_type": "stream",
     "text": [
      "[3, 2, 2]\n",
      "[4, 3]\n",
      "None\n",
      "[2, 2, 2, 2]\n",
      "None\n"
     ]
    }
   ],
   "source": [
    "print(how_sum(7, [2, 3]))\n",
    "print(how_sum(7, [5, 3, 4, 7]))\n",
    "print(how_sum(7, [2, 4]))\n",
    "print(how_sum(8, [2, 3, 5]))\n",
    "print(how_sum(300, [7, 14]))"
   ]
  }
 ],
 "metadata": {
  "kernelspec": {
   "display_name": "Python 3 (ipykernel)",
   "language": "python",
   "name": "python3"
  },
  "language_info": {
   "codemirror_mode": {
    "name": "ipython",
    "version": 3
   },
   "file_extension": ".py",
   "mimetype": "text/x-python",
   "name": "python",
   "nbconvert_exporter": "python",
   "pygments_lexer": "ipython3",
   "version": "3.9.13"
  }
 },
 "nbformat": 4,
 "nbformat_minor": 5
}
