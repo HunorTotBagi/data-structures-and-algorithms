{
 "cells": [
  {
   "cell_type": "markdown",
   "id": "9c7f7385",
   "metadata": {},
   "source": [
    "### Time complexity: $\\mathcal{O}(n)$\n",
    "### Space complexity: $\\mathcal{O}(n)$"
   ]
  },
  {
   "cell_type": "code",
   "execution_count": 1,
   "id": "0d718754",
   "metadata": {},
   "outputs": [],
   "source": [
    "def dynamic_fibonacci(n, memo={}):\n",
    "    \n",
    "    # Check if n already exists in memoization dictionary\n",
    "    if n in memo:\n",
    "        return memo[n]\n",
    "    \n",
    "    # Base case\n",
    "    if n <= 2:\n",
    "        return 1\n",
    "    \n",
    "    # Recursive case: calculate Fibonacci number and store it in memoization dictionary\n",
    "    memo[n] = dynamic_fibonacci(n-1, memo) + dynamic_fibonacci(n-2, memo)\n",
    "    \n",
    "    # Return the Fibonacci number\n",
    "    return memo[n]"
   ]
  },
  {
   "cell_type": "markdown",
   "id": "f4c76a17",
   "metadata": {},
   "source": [
    "### Testing"
   ]
  },
  {
   "cell_type": "code",
   "execution_count": 2,
   "id": "b6c388be",
   "metadata": {},
   "outputs": [
    {
     "data": {
      "text/plain": [
       "12586269025"
      ]
     },
     "execution_count": 2,
     "metadata": {},
     "output_type": "execute_result"
    }
   ],
   "source": [
    "dynamic_fibonacci(50)"
   ]
  },
  {
   "cell_type": "code",
   "execution_count": 3,
   "id": "4350bd18",
   "metadata": {},
   "outputs": [
    {
     "data": {
      "text/plain": [
       "354224848179261915075"
      ]
     },
     "execution_count": 3,
     "metadata": {},
     "output_type": "execute_result"
    }
   ],
   "source": [
    "dynamic_fibonacci(100)"
   ]
  },
  {
   "cell_type": "code",
   "execution_count": 4,
   "id": "c3f28c61",
   "metadata": {},
   "outputs": [
    {
     "data": {
      "text/plain": [
       "9969216677189303386214405760200"
      ]
     },
     "execution_count": 4,
     "metadata": {},
     "output_type": "execute_result"
    }
   ],
   "source": [
    "dynamic_fibonacci(150)"
   ]
  }
 ],
 "metadata": {
  "kernelspec": {
   "display_name": "Python 3 (ipykernel)",
   "language": "python",
   "name": "python3"
  },
  "language_info": {
   "codemirror_mode": {
    "name": "ipython",
    "version": 3
   },
   "file_extension": ".py",
   "mimetype": "text/x-python",
   "name": "python",
   "nbconvert_exporter": "python",
   "pygments_lexer": "ipython3",
   "version": "3.9.13"
  }
 },
 "nbformat": 4,
 "nbformat_minor": 5
}
