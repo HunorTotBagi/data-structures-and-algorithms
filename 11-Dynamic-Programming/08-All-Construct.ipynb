{
 "cells": [
  {
   "cell_type": "markdown",
   "id": "3b2a959a",
   "metadata": {},
   "source": [
    "### Task"
   ]
  },
  {
   "cell_type": "markdown",
   "id": "56f74f28",
   "metadata": {},
   "source": [
    "Write a funcition `all_construct(target, word_bank)` that accepts a target string and an array of strings.\n",
    "\n",
    "The function should return a 2D array containing all of the ways that the `target` can be constructed by concatenating elements of the `word_bank` array. Each element of the 2D array should represent one combination that constructs the `target`.\n",
    "\n",
    "You may reuse elements of `word_bank` as many times as needed."
   ]
  },
  {
   "cell_type": "markdown",
   "id": "f4116dfa",
   "metadata": {},
   "source": [
    "### Time complexity: $\\mathcal{O}(n^m)$\n",
    "### Space complexity: $\\mathcal{O}(m)$\n",
    "\n",
    "m = len(target)\n",
    "\n",
    "n = len(word_bank)"
   ]
  },
  {
   "cell_type": "code",
   "execution_count": 25,
   "id": "01661b13",
   "metadata": {},
   "outputs": [],
   "source": [
    "def all_construct(target, word_bank, memo=None):\n",
    "    # Check if memoization dictionary is provided\n",
    "    if memo is None:\n",
    "        memo = {}\n",
    "        \n",
    "    # If target is already computed, return memoized value\n",
    "    if target in memo:\n",
    "        return memo[target]\n",
    "    \n",
    "    # Base case: If target is an empty string, return an empty list (represents no combinations)\n",
    "    if target == '':\n",
    "        return [[]]\n",
    "\n",
    "    result = []\n",
    "\n",
    "    # Try constructing target using each word from word_bank\n",
    "    for word in word_bank:\n",
    "        if target.startswith(word):\n",
    "            # Generate the remaining suffix after removing the current word from target\n",
    "            suffix = target[len(word):]\n",
    "            \n",
    "            # Recursively find all ways to construct the suffix\n",
    "            suffix_ways = all_construct(suffix, word_bank, memo)\n",
    "\n",
    "            # For each way to construct the suffix, prepend the current word to get a way to construct the target\n",
    "            target_ways = [[word] + x for x in suffix_ways]\n",
    "\n",
    "            # Add the constructed target ways to the result list\n",
    "            result.extend(target_ways)\n",
    "\n",
    "    # Memoize the result for the current target\n",
    "    memo[target] = result\n",
    "    \n",
    "    return result"
   ]
  },
  {
   "cell_type": "markdown",
   "id": "06693589",
   "metadata": {},
   "source": [
    "### Test"
   ]
  },
  {
   "cell_type": "code",
   "execution_count": 26,
   "id": "f501c849",
   "metadata": {},
   "outputs": [
    {
     "name": "stdout",
     "output_type": "stream",
     "text": [
      "[['purp', 'le'], ['p', 'ur', 'p', 'le']]\n",
      "[['ab', 'cd', 'ef'], ['ab', 'c', 'def'], ['abc', 'def'], ['abcd', 'ef']]\n",
      "[]\n",
      "[]\n"
     ]
    }
   ],
   "source": [
    "print(all_construct('purple', ['purp', 'p', 'ur', 'le', 'purpl']))\n",
    "print(all_construct('abcdef', ['ab', 'abc', 'cd', 'def', 'abcd', 'ef', 'c']))\n",
    "print(all_construct('skateboard', ['bo', 'rd', 'ate', 't', 'ska', 'sk', 'boar']))\n",
    "print(all_construct('aaaaaaaaaaaaaaaaaaaaaaaaaaaaz', ['a', 'aa', 'aaa', 'aaaa', 'aaaaa']))"
   ]
  }
 ],
 "metadata": {
  "kernelspec": {
   "display_name": "Python 3 (ipykernel)",
   "language": "python",
   "name": "python3"
  },
  "language_info": {
   "codemirror_mode": {
    "name": "ipython",
    "version": 3
   },
   "file_extension": ".py",
   "mimetype": "text/x-python",
   "name": "python",
   "nbconvert_exporter": "python",
   "pygments_lexer": "ipython3",
   "version": "3.9.13"
  }
 },
 "nbformat": 4,
 "nbformat_minor": 5
}
