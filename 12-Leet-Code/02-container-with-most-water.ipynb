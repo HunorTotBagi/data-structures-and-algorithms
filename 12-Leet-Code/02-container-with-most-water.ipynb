{
 "cells": [
  {
   "cell_type": "markdown",
   "id": "677bfd19",
   "metadata": {},
   "source": [
    "## 1. Problem description"
   ]
  },
  {
   "cell_type": "markdown",
   "id": "65d46596",
   "metadata": {},
   "source": [
    "You are given an integer array height of length `n`. There are `n` vertical lines drawn such that the two endpoints of the $i^{th}$ line are `(i, 0)` and `(i, height[i])`.\n",
    "\n",
    "Find two lines that together with the x-axis form a container, such that the container contains the most water.\n",
    "\n",
    "Return the maximum amount of water a container can store.\n",
    "\n",
    "**Notice** that you may not slant the container."
   ]
  },
  {
   "cell_type": "markdown",
   "id": "2e4a2f12",
   "metadata": {},
   "source": [
    "## 2. Implementation"
   ]
  },
  {
   "cell_type": "code",
   "execution_count": 20,
   "id": "0a199b8c",
   "metadata": {},
   "outputs": [],
   "source": [
    "def water_area(array):\n",
    "    max_water = 0\n",
    "    left_pointer = 0\n",
    "    right_pointer = len(array) - 1\n",
    "\n",
    "    while left_pointer < right_pointer:\n",
    "        min_heigh = min(array[left_pointer], array[right_pointer])\n",
    "        current_water = min_heigh * (right_pointer - left_pointer)\n",
    "        max_water = max(max_water, current_water)\n",
    "        \n",
    "        if array[left_pointer] < array[right_pointer]:\n",
    "            left_pointer += 1\n",
    "        else:\n",
    "            right_pointer -= 1\n",
    "\n",
    "    return max_water"
   ]
  },
  {
   "cell_type": "markdown",
   "id": "f12a0909",
   "metadata": {},
   "source": [
    "## 3. Testing"
   ]
  },
  {
   "cell_type": "code",
   "execution_count": 27,
   "id": "632b495a",
   "metadata": {},
   "outputs": [
    {
     "name": "stdout",
     "output_type": "stream",
     "text": [
      "Maximum water area for [1, 8, 6, 2, 5, 4, 8, 3, 7] is 49\n",
      "Maximum water area for [1, 1] is 1\n",
      "Maximum water area for [3, 1, 2, 5, 2, 4] is 15\n",
      "Maximum water area for [0, 0, 0, 0, 0] is 0\n",
      "Maximum water area for [5, 5, 5, 5, 5] is 20\n"
     ]
    }
   ],
   "source": [
    "arrays = [\n",
    "    [1, 8, 6, 2, 5, 4, 8, 3, 7],\n",
    "    [1, 1],\n",
    "    [3, 1, 2, 5, 2, 4],\n",
    "    [0, 0, 0, 0, 0],\n",
    "    [5, 5, 5, 5, 5]\n",
    "]\n",
    "\n",
    "for array in arrays:\n",
    "    print(f\"Maximum water area for {array} is {water_area(array)}\")"
   ]
  },
  {
   "cell_type": "markdown",
   "id": "00b72801",
   "metadata": {},
   "source": [
    "### Time complexity: $\\mathcal{O}(N)$\n",
    "### Space complexity: $\\mathcal{O}(1)$"
   ]
  }
 ],
 "metadata": {
  "kernelspec": {
   "display_name": "Python 3 (ipykernel)",
   "language": "python",
   "name": "python3"
  },
  "language_info": {
   "codemirror_mode": {
    "name": "ipython",
    "version": 3
   },
   "file_extension": ".py",
   "mimetype": "text/x-python",
   "name": "python",
   "nbconvert_exporter": "python",
   "pygments_lexer": "ipython3",
   "version": "3.11.4"
  }
 },
 "nbformat": 4,
 "nbformat_minor": 5
}
