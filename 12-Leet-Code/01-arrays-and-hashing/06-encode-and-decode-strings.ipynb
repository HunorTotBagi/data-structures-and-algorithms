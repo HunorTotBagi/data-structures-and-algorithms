{
 "cells": [
  {
   "cell_type": "markdown",
   "id": "8c61edd3",
   "metadata": {},
   "source": [
    "## 1. Problem description"
   ]
  },
  {
   "cell_type": "markdown",
   "id": "9120cc64",
   "metadata": {},
   "source": [
    "Design an algorithm to encode a list of strings to a single string. The encoded string is then decoded back to the original list of strings.\n",
    "\n",
    "Please implement `encode` and `decode`"
   ]
  },
  {
   "cell_type": "markdown",
   "id": "ebcabd0c",
   "metadata": {},
   "source": [
    "## 2. Implementation"
   ]
  },
  {
   "cell_type": "code",
   "execution_count": 32,
   "id": "e7630fe7",
   "metadata": {},
   "outputs": [],
   "source": [
    "def encode(words):\n",
    "    encoded_string = \"\"\n",
    "    \n",
    "    for word in words:\n",
    "        encoded_string += str(len(word)) + \"#\" + word\n",
    "    return encoded_string\n",
    "\n",
    "def decode(encoded_string):\n",
    "    decoded_words = []\n",
    "    index = 0\n",
    "    \n",
    "    while index < len(encoded_string):\n",
    "        delimiter_position = index\n",
    "        \n",
    "        while encoded_string[delimiter_position] != \"#\":\n",
    "            delimiter_position += 1\n",
    "            \n",
    "        length = int(encoded_string[index : delimiter_position])\n",
    "        \n",
    "        decoded_words.append(encoded_string[delimiter_position + 1 : delimiter_position + 1 + length])\n",
    "        index = delimiter_position + 1 + length\n",
    "    return decoded_words"
   ]
  },
  {
   "cell_type": "markdown",
   "id": "03ee5c27",
   "metadata": {},
   "source": [
    "## 3. Testing"
   ]
  },
  {
   "cell_type": "code",
   "execution_count": 33,
   "id": "125ad04e",
   "metadata": {},
   "outputs": [
    {
     "name": "stdout",
     "output_type": "stream",
     "text": [
      "4#neet4#code4#love3#you\n",
      "['neet', 'code', 'love', 'you']\n",
      " \n",
      "2#we3#say1#:3#yes\n",
      "['we', 'say', ':', 'yes']\n",
      " \n"
     ]
    }
   ],
   "source": [
    "words = [\n",
    "    [\"neet\",\"code\",\"love\",\"you\"],\n",
    "    [\"we\",\"say\",\":\",\"yes\"]\n",
    "]\n",
    "\n",
    "for word in words:\n",
    "    print(encode(word))\n",
    "    print(decode(encode(word)))\n",
    "    print(\" \")"
   ]
  },
  {
   "cell_type": "markdown",
   "id": "cbb9d3b8",
   "metadata": {},
   "source": [
    "### Time complexity: $\\mathcal{O}(n)$\n",
    "### Space complexity: $\\mathcal{O}(n)$"
   ]
  }
 ],
 "metadata": {
  "kernelspec": {
   "display_name": "Python 3 (ipykernel)",
   "language": "python",
   "name": "python3"
  },
  "language_info": {
   "codemirror_mode": {
    "name": "ipython",
    "version": 3
   },
   "file_extension": ".py",
   "mimetype": "text/x-python",
   "name": "python",
   "nbconvert_exporter": "python",
   "pygments_lexer": "ipython3",
   "version": "3.11.4"
  }
 },
 "nbformat": 4,
 "nbformat_minor": 5
}
