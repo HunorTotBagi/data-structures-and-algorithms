{
 "cells": [
  {
   "cell_type": "markdown",
   "id": "b79951d9",
   "metadata": {},
   "source": [
    "## 1. Problem description"
   ]
  },
  {
   "cell_type": "markdown",
   "id": "34299511",
   "metadata": {},
   "source": [
    "Given an integer array `nums`, return `true` if any value appears **at least** **twice** in the array, and return `false` if every element is distinct."
   ]
  },
  {
   "cell_type": "markdown",
   "id": "76a618d9",
   "metadata": {},
   "source": [
    "## 2. Implementation"
   ]
  },
  {
   "cell_type": "code",
   "execution_count": 16,
   "id": "da4b6814",
   "metadata": {},
   "outputs": [],
   "source": [
    "def contains_duplicate(array):\n",
    "    hashset = set()\n",
    "    for element in array:\n",
    "        if element in hashset:\n",
    "            return True\n",
    "        hashset.add(element)  \n",
    "    return False"
   ]
  },
  {
   "cell_type": "markdown",
   "id": "17db2bd3",
   "metadata": {},
   "source": [
    "## 3. Testing"
   ]
  },
  {
   "cell_type": "code",
   "execution_count": 17,
   "id": "f53df923",
   "metadata": {},
   "outputs": [
    {
     "name": "stdout",
     "output_type": "stream",
     "text": [
      "List of numbers [1, 2, 3, 1] contains duplicate? True\n",
      "List of numbers [1, 2, 3, 4] contains duplicate? False\n",
      "List of numbers [1, 1, 1, 3, 3, 4, 3, 2, 4, 2] contains duplicate? True\n"
     ]
    }
   ],
   "source": [
    "arrays = [\n",
    "    [1, 2, 3, 1],\n",
    "    [1, 2, 3, 4],\n",
    "    [1, 1, 1, 3, 3, 4, 3, 2, 4, 2]\n",
    "]\n",
    "\n",
    "for array in arrays:\n",
    "    print(f\"List of numbers {array} contains duplicate? {contains_duplicate(array)}\")"
   ]
  },
  {
   "cell_type": "markdown",
   "id": "6c5e405c",
   "metadata": {},
   "source": [
    "### Time complexity: $\\mathcal{O}(N)$\n",
    "### Space complexity: $\\mathcal{O}(N)$"
   ]
  }
 ],
 "metadata": {
  "kernelspec": {
   "display_name": "Python 3 (ipykernel)",
   "language": "python",
   "name": "python3"
  },
  "language_info": {
   "codemirror_mode": {
    "name": "ipython",
    "version": 3
   },
   "file_extension": ".py",
   "mimetype": "text/x-python",
   "name": "python",
   "nbconvert_exporter": "python",
   "pygments_lexer": "ipython3",
   "version": "3.11.4"
  }
 },
 "nbformat": 4,
 "nbformat_minor": 5
}
