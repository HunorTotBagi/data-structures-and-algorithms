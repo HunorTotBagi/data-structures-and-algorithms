{
 "cells": [
  {
   "cell_type": "markdown",
   "id": "ae96fb2e",
   "metadata": {},
   "source": [
    "## 1. Problem description"
   ]
  },
  {
   "cell_type": "markdown",
   "id": "00cab0dd",
   "metadata": {},
   "source": [
    "Given two strings `s` and `t`, return `true` if `t` is an anagram of `s`, and `false` otherwise.\n",
    "\n",
    "An **Anagram** is a word or phrase formed by rearranging the letters of a different word or phrase, typically using all the original letters exactly once."
   ]
  },
  {
   "cell_type": "markdown",
   "id": "4ca32d94",
   "metadata": {},
   "source": [
    "## 2. Implementation"
   ]
  },
  {
   "cell_type": "code",
   "execution_count": 22,
   "id": "b193ef7a",
   "metadata": {},
   "outputs": [],
   "source": [
    "def is_anagram(s, t):\n",
    "    if len(s) != len(t):\n",
    "        return False\n",
    "    \n",
    "    return sorted(s) == sorted(t)"
   ]
  },
  {
   "cell_type": "markdown",
   "id": "c47146b6",
   "metadata": {},
   "source": [
    "## 3. Testing"
   ]
  },
  {
   "cell_type": "code",
   "execution_count": 23,
   "id": "674d92c1",
   "metadata": {},
   "outputs": [
    {
     "name": "stdout",
     "output_type": "stream",
     "text": [
      "Strings \"anagram\" and \"nagaram\" are anagram? True\n",
      "Strings \"rat\" and \"car\" are anagram? False\n",
      "Strings \"bad credit\" and \"debit card\" are anagram? True\n",
      "Strings \"eleven plus two\" and \"twelve plus one\" are anagram? True\n",
      "Strings \"asd\" and \"asdt\" are anagram? False\n"
     ]
    }
   ],
   "source": [
    "strings = [\n",
    "    [\"anagram\", \"nagaram\"],\n",
    "    [\"rat\", \"car\"],\n",
    "    [\"bad credit\", \"debit card\"],\n",
    "    [\"eleven plus two\", \"twelve plus one\"],\n",
    "    [\"asd\",\"asdt\"]\n",
    "]\n",
    "\n",
    "for string in strings:\n",
    "    print(f\"Strings \\\"{string[0]}\\\" and \\\"{string[1]}\\\" are anagram? {is_anagram(string[0], string[1])}\")"
   ]
  },
  {
   "cell_type": "markdown",
   "id": "135566f3",
   "metadata": {},
   "source": [
    "### Time complexity: $\\mathcal{O}(N\\log N)$\n",
    "### Space complexity: $\\mathcal{O}(N)$"
   ]
  }
 ],
 "metadata": {
  "kernelspec": {
   "display_name": "Python 3 (ipykernel)",
   "language": "python",
   "name": "python3"
  },
  "language_info": {
   "codemirror_mode": {
    "name": "ipython",
    "version": 3
   },
   "file_extension": ".py",
   "mimetype": "text/x-python",
   "name": "python",
   "nbconvert_exporter": "python",
   "pygments_lexer": "ipython3",
   "version": "3.11.4"
  }
 },
 "nbformat": 4,
 "nbformat_minor": 5
}
