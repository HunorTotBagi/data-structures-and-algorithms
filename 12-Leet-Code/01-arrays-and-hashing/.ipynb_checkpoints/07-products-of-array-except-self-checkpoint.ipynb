{
 "cells": [
  {
   "cell_type": "markdown",
   "id": "baf943ee",
   "metadata": {},
   "source": [
    "## 1. Problem description"
   ]
  },
  {
   "cell_type": "markdown",
   "id": "fe6de3cc",
   "metadata": {},
   "source": [
    "Given an integer array `nums`, return an array `answer` such that `answer[i]` is equal to the product of all the elements of `nums` except `nums[i]`.\n",
    "\n",
    "The product of any prefix or suffix of `nums` is **guaranteed** to fit in a 32-bit integer.\n",
    "\n",
    "You must write an algorithm that runs in `O(n)` time and without using the division operation."
   ]
  },
  {
   "cell_type": "markdown",
   "id": "90dbb998",
   "metadata": {},
   "source": [
    "## 2.1 Implementation"
   ]
  },
  {
   "cell_type": "code",
   "execution_count": 7,
   "id": "2c53596a",
   "metadata": {},
   "outputs": [],
   "source": [
    "def productExceptSelf1(nums):\n",
    "    answer = []\n",
    "    for i in range(len(nums)):\n",
    "        element = 1\n",
    "        for j in range(len(nums)):\n",
    "            if i != j:\n",
    "                element *= nums[j]\n",
    "        answer.append(element)\n",
    "    return answer   "
   ]
  },
  {
   "cell_type": "markdown",
   "id": "a13bf52d",
   "metadata": {},
   "source": [
    "## 2.2 Implementation"
   ]
  },
  {
   "cell_type": "code",
   "execution_count": 35,
   "id": "8512d9ce",
   "metadata": {},
   "outputs": [],
   "source": [
    "def productExceptSelf2(nums):\n",
    "    res = [1] * len(nums)\n",
    "        \n",
    "    prefix = 1\n",
    "    for i in range(len(nums)):\n",
    "        res[i] = prefix\n",
    "        prefix *= nums[i]\n",
    "    \n",
    "    postfix = 1\n",
    "    for i in range(len(nums) -1, -1, -1):\n",
    "        res[i] *= postfix\n",
    "        postfix *= nums[i]\n",
    "    return res"
   ]
  },
  {
   "cell_type": "markdown",
   "id": "39a82da9",
   "metadata": {},
   "source": [
    "## 3. Testing"
   ]
  },
  {
   "cell_type": "code",
   "execution_count": 41,
   "id": "7e5139a5",
   "metadata": {},
   "outputs": [
    {
     "name": "stdout",
     "output_type": "stream",
     "text": [
      "First algorithm:\n",
      "\n",
      "[24, 12, 8, 6]\n",
      "[0, 0, 9, 0, 0]\n",
      "\n",
      "Second algorithm:\n",
      "\n",
      "[24, 12, 8, 6]\n",
      "[0, 0, 9, 0, 0]\n"
     ]
    }
   ],
   "source": [
    "nums = [\n",
    "    [1, 2, 3, 4],\n",
    "    [-1, -1, 0, -3, -3]\n",
    "]\n",
    "\n",
    "print(\"First algorithm:\")\n",
    "print(\"\")\n",
    "for num in nums:\n",
    "    print(productExceptSelf1(num))\n",
    "\n",
    "print(\"\")\n",
    "print(\"Second algorithm:\")\n",
    "print(\"\")\n",
    "\n",
    "for num in nums:\n",
    "    print(productExceptSelf2(num))"
   ]
  },
  {
   "cell_type": "markdown",
   "id": "8ea538c1",
   "metadata": {},
   "source": [
    "### Time complexity: $\\mathcal{O}(n)$\n",
    "### Space complexity: $\\mathcal{O}(n)$"
   ]
  }
 ],
 "metadata": {
  "kernelspec": {
   "display_name": "Python 3 (ipykernel)",
   "language": "python",
   "name": "python3"
  },
  "language_info": {
   "codemirror_mode": {
    "name": "ipython",
    "version": 3
   },
   "file_extension": ".py",
   "mimetype": "text/x-python",
   "name": "python",
   "nbconvert_exporter": "python",
   "pygments_lexer": "ipython3",
   "version": "3.11.4"
  }
 },
 "nbformat": 4,
 "nbformat_minor": 5
}
