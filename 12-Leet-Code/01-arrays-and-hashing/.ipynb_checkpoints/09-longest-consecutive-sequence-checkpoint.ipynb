{
 "cells": [
  {
   "cell_type": "markdown",
   "id": "27d2e55e",
   "metadata": {},
   "source": [
    "## 1. Problem description"
   ]
  },
  {
   "cell_type": "markdown",
   "id": "e809f407",
   "metadata": {},
   "source": [
    "Given an unsorted array of integers `nums`, return the length of the longest consecutive elements sequence.\n",
    "\n",
    "You must write an algorithm that runs in `O(n)` time."
   ]
  },
  {
   "cell_type": "markdown",
   "id": "90633a2c",
   "metadata": {},
   "source": [
    "## 2. Implementation"
   ]
  },
  {
   "cell_type": "code",
   "execution_count": 26,
   "id": "26e8c70d",
   "metadata": {},
   "outputs": [],
   "source": [
    "def longestConsecutive(nums):\n",
    "    hashSet = set(nums)\n",
    "    result = 0\n",
    "\n",
    "    for num in nums:\n",
    "        if num-1 not in hashSet:\n",
    "            counter = 0\n",
    "            i = 0\n",
    "            while num + i in hashSet:\n",
    "                counter += 1\n",
    "                i += 1\n",
    "            result = max(result, counter)\n",
    "        \n",
    "    return result"
   ]
  },
  {
   "cell_type": "markdown",
   "id": "32cb23bf",
   "metadata": {},
   "source": [
    "## 3. Testing"
   ]
  },
  {
   "cell_type": "code",
   "execution_count": 27,
   "id": "522654f7",
   "metadata": {},
   "outputs": [
    {
     "name": "stdout",
     "output_type": "stream",
     "text": [
      "4\n",
      "9\n"
     ]
    }
   ],
   "source": [
    "nums = [\n",
    "    [100,4,200,1,3,2],\n",
    "    [0,3,7,2,5,8,4,6,0,1]\n",
    "]\n",
    "\n",
    "for num in nums:\n",
    "    print(longestConsecutive(num))"
   ]
  },
  {
   "cell_type": "markdown",
   "id": "5714a73a",
   "metadata": {},
   "source": [
    "### Time complexity: $\\mathcal{O}(N)$\n",
    "### Space complexity: $\\mathcal{O}(N)$"
   ]
  }
 ],
 "metadata": {
  "kernelspec": {
   "display_name": "Python 3 (ipykernel)",
   "language": "python",
   "name": "python3"
  },
  "language_info": {
   "codemirror_mode": {
    "name": "ipython",
    "version": 3
   },
   "file_extension": ".py",
   "mimetype": "text/x-python",
   "name": "python",
   "nbconvert_exporter": "python",
   "pygments_lexer": "ipython3",
   "version": "3.11.4"
  }
 },
 "nbformat": 4,
 "nbformat_minor": 5
}
