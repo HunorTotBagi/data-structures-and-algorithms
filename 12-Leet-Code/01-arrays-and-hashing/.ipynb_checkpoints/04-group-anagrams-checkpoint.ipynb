{
 "cells": [
  {
   "cell_type": "markdown",
   "id": "be23e8d2",
   "metadata": {},
   "source": [
    "## 1. Problem description"
   ]
  },
  {
   "cell_type": "markdown",
   "id": "6795f407",
   "metadata": {},
   "source": [
    "Given an array of strings `strs`, group **the anagrams** together. You can return the answer in **any order**.\n",
    "\n",
    "An **Anagram** is a word or phrase formed by rearranging the letters of a different word or phrase, typically using all the original letters exactly once."
   ]
  },
  {
   "cell_type": "markdown",
   "id": "c67b962e",
   "metadata": {},
   "source": [
    "## 2. Implementation"
   ]
  },
  {
   "cell_type": "code",
   "execution_count": 14,
   "id": "93871190",
   "metadata": {},
   "outputs": [],
   "source": [
    "from collections import defaultdict\n",
    "\n",
    "def groupAnagrams(strs):\n",
    "    res = defaultdict(list)\n",
    "    \n",
    "    for str in strs:\n",
    "        count = [0] * 26\n",
    "        \n",
    "        for char in str:\n",
    "            count[ord(char) - ord(\"a\")] += 1\n",
    "            \n",
    "        res[tuple(count)].append(str)\n",
    "        \n",
    "    return res.values()"
   ]
  },
  {
   "cell_type": "markdown",
   "id": "dcfc68f5",
   "metadata": {},
   "source": [
    "## 3. Testing"
   ]
  },
  {
   "cell_type": "code",
   "execution_count": 16,
   "id": "6c61b9ab",
   "metadata": {},
   "outputs": [
    {
     "name": "stdout",
     "output_type": "stream",
     "text": [
      "dict_values([['eat', 'tea', 'ate'], ['tan', 'nat'], ['bat']])\n",
      "dict_values([['']])\n",
      "dict_values([['a']])\n"
     ]
    }
   ],
   "source": [
    "strs = [\n",
    "    [\"eat\",\"tea\",\"tan\",\"ate\",\"nat\",\"bat\"],\n",
    "    [\"\"],\n",
    "    [\"a\"]\n",
    "]\n",
    "\n",
    "for str in strs:\n",
    "    print(f\"{groupAnagrams(str)}\")"
   ]
  },
  {
   "cell_type": "markdown",
   "id": "d04e52f5",
   "metadata": {},
   "source": [
    "### Time complexity: $\\mathcal{O}(m * n)$\n",
    "### Space complexity: $\\mathcal{O}(m * n)$\n",
    "##### m = numbers of strings we are given\n",
    "##### n = average length of string\n"
   ]
  }
 ],
 "metadata": {
  "kernelspec": {
   "display_name": "Python 3 (ipykernel)",
   "language": "python",
   "name": "python3"
  },
  "language_info": {
   "codemirror_mode": {
    "name": "ipython",
    "version": 3
   },
   "file_extension": ".py",
   "mimetype": "text/x-python",
   "name": "python",
   "nbconvert_exporter": "python",
   "pygments_lexer": "ipython3",
   "version": "3.11.4"
  }
 },
 "nbformat": 4,
 "nbformat_minor": 5
}
