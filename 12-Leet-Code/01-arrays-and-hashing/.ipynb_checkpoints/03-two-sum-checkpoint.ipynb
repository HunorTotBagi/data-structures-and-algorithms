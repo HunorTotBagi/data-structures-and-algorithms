{
 "cells": [
  {
   "cell_type": "markdown",
   "id": "0e9d0c35",
   "metadata": {},
   "source": [
    "## 1. Problem description"
   ]
  },
  {
   "cell_type": "markdown",
   "id": "328917dc",
   "metadata": {},
   "source": [
    "Given an array of integers `nums` and an integer `target`, return indices of the two numbers such that they add up to `target`.\n",
    "\n",
    "You may assume that each input would have **exactly one solution**, and you may not use the same element twice.\n",
    "\n",
    "You can return the answer in any order."
   ]
  },
  {
   "cell_type": "markdown",
   "id": "5f868c3c",
   "metadata": {},
   "source": [
    "## 2. Implementation"
   ]
  },
  {
   "cell_type": "code",
   "execution_count": 38,
   "id": "e880ed75",
   "metadata": {},
   "outputs": [],
   "source": [
    "def two_sum(nums, target):\n",
    "    hash_map = {}\n",
    "    for index, value in enumerate(nums):\n",
    "        difference = target - value\n",
    "        if difference in hash_map:\n",
    "            return [hash_map[difference], index]\n",
    "        hash_map[value] = index"
   ]
  },
  {
   "cell_type": "markdown",
   "id": "5c0c481d",
   "metadata": {},
   "source": [
    "## 3. Testing"
   ]
  },
  {
   "cell_type": "code",
   "execution_count": 39,
   "id": "6e78a329",
   "metadata": {},
   "outputs": [
    {
     "name": "stdout",
     "output_type": "stream",
     "text": [
      "Indexes [0, 1] adds up to 9 from array [2, 7, 11, 15]\n",
      "Indexes [1, 2] adds up to 6 from array [3, 2, 4]\n",
      "Indexes [0, 1] adds up to 6 from array [3, 3]\n"
     ]
    }
   ],
   "source": [
    "data = [\n",
    "    [[2, 7, 11, 15], 9],\n",
    "    [[3, 2, 4], 6],\n",
    "    [[3, 3], 6]\n",
    "]\n",
    "\n",
    "for nums, target in data:\n",
    "    print(f\"Indexes {two_sum(nums, target)} adds up to {target} from array {nums}\")"
   ]
  },
  {
   "cell_type": "markdown",
   "id": "891d5014",
   "metadata": {},
   "source": [
    "### Time complexity: $\\mathcal{O}(N)$\n",
    "### Space complexity: $\\mathcal{O}(N)$"
   ]
  }
 ],
 "metadata": {
  "kernelspec": {
   "display_name": "Python 3 (ipykernel)",
   "language": "python",
   "name": "python3"
  },
  "language_info": {
   "codemirror_mode": {
    "name": "ipython",
    "version": 3
   },
   "file_extension": ".py",
   "mimetype": "text/x-python",
   "name": "python",
   "nbconvert_exporter": "python",
   "pygments_lexer": "ipython3",
   "version": "3.11.4"
  }
 },
 "nbformat": 4,
 "nbformat_minor": 5
}
