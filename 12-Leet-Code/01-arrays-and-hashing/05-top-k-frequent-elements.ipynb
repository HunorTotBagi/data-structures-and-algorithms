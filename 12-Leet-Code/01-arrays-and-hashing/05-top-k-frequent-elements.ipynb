{
 "cells": [
  {
   "cell_type": "markdown",
   "id": "d59b4ef4",
   "metadata": {},
   "source": [
    "## 1. Problem description"
   ]
  },
  {
   "cell_type": "markdown",
   "id": "0d81a3a5",
   "metadata": {},
   "source": [
    "Given an integer array `nums` and an integer `k`, return the `k` most frequent elements. You may return the answer in **any order**."
   ]
  },
  {
   "cell_type": "markdown",
   "id": "62057426",
   "metadata": {},
   "source": [
    "## 2. Implementation"
   ]
  },
  {
   "cell_type": "code",
   "execution_count": 29,
   "id": "b26c3d63",
   "metadata": {},
   "outputs": [],
   "source": [
    "def topKFrequent(nums, k):\n",
    "    my_dict = {}\n",
    "    for num in nums:\n",
    "        if num not in my_dict:\n",
    "            my_dict[num] = 1\n",
    "        else:\n",
    "            my_dict[num] += 1\n",
    "            \n",
    "    return [key for key, value in sorted(my_dict.items(), key=lambda item: item[1], reverse=True)[:k]]"
   ]
  },
  {
   "cell_type": "markdown",
   "id": "b70ad3da",
   "metadata": {},
   "source": [
    "## 3. Testing"
   ]
  },
  {
   "cell_type": "code",
   "execution_count": 30,
   "id": "dab44809",
   "metadata": {},
   "outputs": [
    {
     "name": "stdout",
     "output_type": "stream",
     "text": [
      "[1, 2]\n",
      "[1]\n"
     ]
    }
   ],
   "source": [
    "input_data = [\n",
    "    [[1,1,1,2,2,3], 2],\n",
    "    [[1], 1]\n",
    "]\n",
    "\n",
    "for nums, k in input_data:\n",
    "    print(topKFrequent(nums, k))"
   ]
  },
  {
   "cell_type": "markdown",
   "id": "74fa4cd2",
   "metadata": {},
   "source": [
    "### Time complexity: $\\mathcal{O}(N)$\n",
    "### Space complexity: $\\mathcal{O}(N)$"
   ]
  }
 ],
 "metadata": {
  "kernelspec": {
   "display_name": "Python 3 (ipykernel)",
   "language": "python",
   "name": "python3"
  },
  "language_info": {
   "codemirror_mode": {
    "name": "ipython",
    "version": 3
   },
   "file_extension": ".py",
   "mimetype": "text/x-python",
   "name": "python",
   "nbconvert_exporter": "python",
   "pygments_lexer": "ipython3",
   "version": "3.11.4"
  }
 },
 "nbformat": 4,
 "nbformat_minor": 5
}
