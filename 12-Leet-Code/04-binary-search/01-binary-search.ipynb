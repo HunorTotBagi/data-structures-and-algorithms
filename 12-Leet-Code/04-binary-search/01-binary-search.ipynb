{
 "cells": [
  {
   "cell_type": "markdown",
   "id": "d826ce15",
   "metadata": {},
   "source": [
    "## 1. Problem description"
   ]
  },
  {
   "cell_type": "markdown",
   "id": "cc8f447f",
   "metadata": {},
   "source": [
    "Given an array of integers `nums` which is sorted in ascending order, and an integer `target`, write a function to search `target` in `nums`. If `target` exists, then return its index. Otherwise, return `-1`.\n",
    "\n",
    "You must write an algorithm with $\\mathcal{O}(\\log n)$ runtime complexity."
   ]
  },
  {
   "cell_type": "markdown",
   "id": "7b11386d",
   "metadata": {},
   "source": [
    "## 2. Implementation"
   ]
  },
  {
   "cell_type": "code",
   "execution_count": 42,
   "id": "27d18694",
   "metadata": {},
   "outputs": [],
   "source": [
    "def search(nums, target):\n",
    "    left = 0\n",
    "    right = len(nums) - 1\n",
    "\n",
    "    while left <= right:\n",
    "        middle = int((right + left) / 2)\n",
    "        \n",
    "        if target < nums[middle]:\n",
    "            right = middle - 1\n",
    "        elif target > nums[middle]:\n",
    "            left = middle + 1\n",
    "        else:\n",
    "            return middle\n",
    "\n",
    "    return -1    "
   ]
  },
  {
   "cell_type": "code",
   "execution_count": 43,
   "id": "9289c536",
   "metadata": {},
   "outputs": [
    {
     "data": {
      "text/plain": [
       "-1"
      ]
     },
     "execution_count": 43,
     "metadata": {},
     "output_type": "execute_result"
    }
   ],
   "source": [
    "search([-1, 0, 3, 5, 9, 12], 2)"
   ]
  },
  {
   "cell_type": "markdown",
   "id": "f556b997",
   "metadata": {},
   "source": [
    "## 3. Testing"
   ]
  },
  {
   "cell_type": "code",
   "execution_count": 47,
   "id": "eb0922c7",
   "metadata": {},
   "outputs": [
    {
     "name": "stdout",
     "output_type": "stream",
     "text": [
      "Element 9 is in array [-1, 0, 3, 5, 9, 12] on position: 4\n",
      "Element 2 is in array [-1, 0, 3, 5, 9, 12] on position: -1\n",
      "Element 36 is in array [2, 4, 6, 9, 11, 12, 14, 20, 36, 48] on position: 8\n"
     ]
    }
   ],
   "source": [
    "nums = [\n",
    "    [[-1, 0, 3, 5, 9, 12], 9],\n",
    "    [[-1, 0, 3, 5, 9, 12], 2],\n",
    "    [[2, 4, 6, 9, 11, 12, 14, 20, 36, 48], 36]\n",
    "]\n",
    "\n",
    "for num, target in nums:\n",
    "    print(f\"Element {target} is in array {num} on position: {search(num, target)}\")"
   ]
  },
  {
   "cell_type": "markdown",
   "id": "fa42c4c2",
   "metadata": {},
   "source": [
    "### Time complexity: $\\mathcal{O}(\\log n)$\n",
    "### Space complexity: $\\mathcal{O}(N)$"
   ]
  }
 ],
 "metadata": {
  "kernelspec": {
   "display_name": "Python 3 (ipykernel)",
   "language": "python",
   "name": "python3"
  },
  "language_info": {
   "codemirror_mode": {
    "name": "ipython",
    "version": 3
   },
   "file_extension": ".py",
   "mimetype": "text/x-python",
   "name": "python",
   "nbconvert_exporter": "python",
   "pygments_lexer": "ipython3",
   "version": "3.11.4"
  }
 },
 "nbformat": 4,
 "nbformat_minor": 5
}
