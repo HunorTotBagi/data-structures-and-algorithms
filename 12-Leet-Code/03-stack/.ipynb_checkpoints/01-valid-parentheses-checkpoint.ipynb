{
 "cells": [
  {
   "cell_type": "markdown",
   "id": "22b0168b",
   "metadata": {},
   "source": [
    "## 1. Problem description"
   ]
  },
  {
   "cell_type": "markdown",
   "id": "0a68df81",
   "metadata": {},
   "source": [
    "Given a string `s` containing just the characters `'('`, `')'`, `'{'`, `'}'`, `'['` and `']'`, determine if the input string is valid.\n",
    "\n",
    "An input string is valid if:\n",
    "\n",
    "- Open brackets must be closed by the same type of brackets.\n",
    "- Open brackets must be closed in the correct order.\n",
    "- Every close bracket has a corresponding open bracket of the same type."
   ]
  },
  {
   "cell_type": "markdown",
   "id": "bf0a9de2",
   "metadata": {},
   "source": [
    "## 2. Implementation"
   ]
  },
  {
   "cell_type": "code",
   "execution_count": 37,
   "id": "cf143f96",
   "metadata": {},
   "outputs": [],
   "source": [
    "def is_valid(string):\n",
    "    stack = []\n",
    "    mappings = {\")\": \"(\", \"]\": \"[\", \"}\": \"{\"}\n",
    "    \n",
    "    for char in string:\n",
    "        if char in mappings:\n",
    "            if stack and stack[-1] == mappings[char]:\n",
    "                stack.pop()\n",
    "            else:\n",
    "                return False\n",
    "        else:\n",
    "            stack.append(char)\n",
    "            \n",
    "    return not stack"
   ]
  },
  {
   "cell_type": "markdown",
   "id": "9c15da19",
   "metadata": {},
   "source": [
    "## 3. Testing"
   ]
  },
  {
   "cell_type": "code",
   "execution_count": 38,
   "id": "1bbf27e7",
   "metadata": {},
   "outputs": [
    {
     "name": "stdout",
     "output_type": "stream",
     "text": [
      "String \"()\" is valid? True\n",
      "String \"()[]{}\" is valid? True\n",
      "String \"(]\" is valid? False\n"
     ]
    }
   ],
   "source": [
    "strings = [\n",
    "    \"()\",\n",
    "    \"()[]{}\",\n",
    "    \"(]\"\n",
    "]\n",
    "\n",
    "for string in strings:\n",
    "    print(f\"String \\\"{string}\\\" is valid? {is_valid(string)}\")"
   ]
  },
  {
   "cell_type": "markdown",
   "id": "c9b115ae",
   "metadata": {},
   "source": [
    "### Time complexity: $\\mathcal{O}(N)$\n",
    "### Space complexity: $\\mathcal{O}(N)$"
   ]
  }
 ],
 "metadata": {
  "kernelspec": {
   "display_name": "Python 3 (ipykernel)",
   "language": "python",
   "name": "python3"
  },
  "language_info": {
   "codemirror_mode": {
    "name": "ipython",
    "version": 3
   },
   "file_extension": ".py",
   "mimetype": "text/x-python",
   "name": "python",
   "nbconvert_exporter": "python",
   "pygments_lexer": "ipython3",
   "version": "3.11.4"
  }
 },
 "nbformat": 4,
 "nbformat_minor": 5
}
