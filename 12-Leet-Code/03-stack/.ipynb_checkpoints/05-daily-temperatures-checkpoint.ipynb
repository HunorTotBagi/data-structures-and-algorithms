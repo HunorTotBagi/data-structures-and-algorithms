{
 "cells": [
  {
   "cell_type": "markdown",
   "id": "f35c4755",
   "metadata": {},
   "source": [
    "## 1. Problem description"
   ]
  },
  {
   "cell_type": "markdown",
   "id": "d4daaa6f",
   "metadata": {},
   "source": [
    "Given an array of integers `temperatures` represents the daily temperatures, return an array `answer` such that `answer[i]` is the number of days you have to wait after the `ith` day to get a warmer temperature. If there is no future day for which this is possible, keep `answer[i] == 0` instead."
   ]
  },
  {
   "cell_type": "markdown",
   "id": "418e72fc",
   "metadata": {},
   "source": [
    "## 2.1 Implementation - Brute force"
   ]
  },
  {
   "cell_type": "code",
   "execution_count": 38,
   "id": "030beb68",
   "metadata": {},
   "outputs": [],
   "source": [
    "def dailyTemperaturesBF(temp):\n",
    "    result = []\n",
    "    for i in range(len(temp)):\n",
    "        counter = 0\n",
    "        for j in range(i + 1, len(temp)):\n",
    "            if temp[j] > temp[i]:\n",
    "                counter = j - i\n",
    "                break\n",
    "        result.append(counter)\n",
    "    return result"
   ]
  },
  {
   "cell_type": "markdown",
   "id": "5c474fcd",
   "metadata": {},
   "source": [
    "## 2.1 Implementation - Stack"
   ]
  },
  {
   "cell_type": "code",
   "execution_count": 39,
   "id": "5e565ec1",
   "metadata": {},
   "outputs": [],
   "source": [
    "def dailyTemperatures(temp):\n",
    "    res = [0] * len(temperatures)\n",
    "    stack = []\n",
    "    \n",
    "    for i, t in enumerate(temperatures):\n",
    "        while stack and t > stack[-1][0]:\n",
    "            stackT, stackInd = stack.pop()\n",
    "            res[stackInd] = (i - stackInd)\n",
    "        stack.append([t, i])\n",
    "    return res"
   ]
  },
  {
   "cell_type": "markdown",
   "id": "81b1f3d0",
   "metadata": {},
   "source": [
    "## 3. Testing"
   ]
  },
  {
   "cell_type": "code",
   "execution_count": 40,
   "id": "a6e51273",
   "metadata": {},
   "outputs": [
    {
     "name": "stdout",
     "output_type": "stream",
     "text": [
      "[1, 1, 4, 2, 1, 1, 0, 0]\n",
      "[0, 0]\n",
      "[1, 1, 1, 0]\n",
      "[0, 0]\n"
     ]
    }
   ],
   "source": [
    "temperatures = [\n",
    "    [73,74,75,71,69,72,76,73],\n",
    "    [30,40,50,60]\n",
    "    ]\n",
    "\n",
    "for temp in temperatures:\n",
    "    print(dailyTemperaturesBF(temp))\n",
    "    print(dailyTemperatures(temp))"
   ]
  },
  {
   "cell_type": "markdown",
   "id": "320ace84",
   "metadata": {},
   "source": [
    "### Time complexity: $\\mathcal{O}(N)$\n",
    "### Space complexity: $\\mathcal{O}(N)$"
   ]
  }
 ],
 "metadata": {
  "kernelspec": {
   "display_name": "Python 3 (ipykernel)",
   "language": "python",
   "name": "python3"
  },
  "language_info": {
   "codemirror_mode": {
    "name": "ipython",
    "version": 3
   },
   "file_extension": ".py",
   "mimetype": "text/x-python",
   "name": "python",
   "nbconvert_exporter": "python",
   "pygments_lexer": "ipython3",
   "version": "3.11.4"
  }
 },
 "nbformat": 4,
 "nbformat_minor": 5
}
