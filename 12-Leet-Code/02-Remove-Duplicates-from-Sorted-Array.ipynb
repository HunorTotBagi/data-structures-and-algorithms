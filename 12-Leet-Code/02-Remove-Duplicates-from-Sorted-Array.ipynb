{
 "cells": [
  {
   "cell_type": "markdown",
   "id": "b80b2b51",
   "metadata": {},
   "source": [
    "## 1. Problem description"
   ]
  },
  {
   "cell_type": "markdown",
   "id": "b1d26d6b",
   "metadata": {},
   "source": [
    "Given an integer array `nums` sorted in **non-decreasing order**, remove the duplicates in-place such that each unique element appears only **once**. The **relative order** of the elements should be kept the **same**. Then return the number of unique elements in `nums`.\n",
    "\n",
    "Consider the number of unique elements of `nums` to be `k`, to get accepted, you need to do the following things:\n",
    "\n",
    "- Change the array `nums` such that the first `k` elements of `nums` contain the unique elements in the order they were present in `nums` initially. The remaining elements of `nums` are not important as well as the size of `nums`.\n",
    "- Return `k`."
   ]
  },
  {
   "cell_type": "markdown",
   "id": "411e159e",
   "metadata": {},
   "source": [
    "## 2. Implementation"
   ]
  },
  {
   "cell_type": "code",
   "execution_count": 59,
   "id": "30a6d6a5",
   "metadata": {},
   "outputs": [],
   "source": [
    "def remove_duplicates(array):\n",
    "    array_length = len(array)\n",
    "    \n",
    "    if array_length == 0:\n",
    "        return 0\n",
    "    \n",
    "    pointer = 1\n",
    "    for i in range(1, array_length):\n",
    "        if(array[i - 1] != array[i]):\n",
    "            array[pointer] = array[i]\n",
    "            pointer += 1\n",
    "    return pointer"
   ]
  },
  {
   "cell_type": "markdown",
   "id": "a56af440",
   "metadata": {},
   "source": [
    "## 3. Testing"
   ]
  },
  {
   "cell_type": "code",
   "execution_count": 60,
   "id": "b3054cdc",
   "metadata": {},
   "outputs": [
    {
     "name": "stdout",
     "output_type": "stream",
     "text": [
      "Number of unique elements of [1, 1, 2] is 2\n",
      "Number of unique elements of [0, 0, 1, 1, 1, 2, 2, 3, 3, 4] is 5\n",
      "Number of unique elements of [0, 0, 2, 2, 3, 3, 4] is 4\n"
     ]
    }
   ],
   "source": [
    "nums_1 = [1,1,2]\n",
    "nums_2 = [0,0,1,1,1,2,2,3,3,4]\n",
    "nums_3 = [0, 0, 2, 2, 3, 3, 4]\n",
    "\n",
    "print(f\"Number of unique elements of {nums_1} is {remove_duplicates(nums_1)}\")\n",
    "print(f\"Number of unique elements of {nums_2} is {remove_duplicates(nums_2)}\")\n",
    "print(f\"Number of unique elements of {nums_3} is {remove_duplicates(nums_3)}\")"
   ]
  },
  {
   "cell_type": "markdown",
   "id": "e8b028fc",
   "metadata": {},
   "source": [
    "### Time complexity: $\\mathcal{O}(N)$\n",
    "### Space complexity: $\\mathcal{O}(1)$"
   ]
  }
 ],
 "metadata": {
  "kernelspec": {
   "display_name": "Python 3 (ipykernel)",
   "language": "python",
   "name": "python3"
  },
  "language_info": {
   "codemirror_mode": {
    "name": "ipython",
    "version": 3
   },
   "file_extension": ".py",
   "mimetype": "text/x-python",
   "name": "python",
   "nbconvert_exporter": "python",
   "pygments_lexer": "ipython3",
   "version": "3.11.4"
  }
 },
 "nbformat": 4,
 "nbformat_minor": 5
}
