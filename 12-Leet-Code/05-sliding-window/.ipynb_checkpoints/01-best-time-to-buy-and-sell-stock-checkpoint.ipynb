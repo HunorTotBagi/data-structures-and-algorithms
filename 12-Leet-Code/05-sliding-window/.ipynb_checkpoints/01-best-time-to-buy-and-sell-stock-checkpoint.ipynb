{
 "cells": [
  {
   "cell_type": "markdown",
   "id": "b0f1e521",
   "metadata": {},
   "source": [
    "## 1. Problem description"
   ]
  },
  {
   "cell_type": "markdown",
   "id": "ac5693e1",
   "metadata": {},
   "source": [
    "You are given an array `prices` where `prices[i]` is the price of a given stock on the `ith` day.\n",
    "\n",
    "You want to maximize your profit by choosing a **single day** to buy one stock and choosing a **different day in the future** to sell that stock.\n",
    "\n",
    "Return the maximum profit you can achieve from this transaction. If you cannot achieve any profit, return `0`."
   ]
  },
  {
   "cell_type": "markdown",
   "id": "524dbbc4",
   "metadata": {},
   "source": [
    "## 2. Implementation"
   ]
  },
  {
   "cell_type": "code",
   "execution_count": 21,
   "id": "3d7b4f7c",
   "metadata": {},
   "outputs": [],
   "source": [
    "def max_profit(prices):\n",
    "    left = 0\n",
    "    right = 1\n",
    "    max_profit = 0\n",
    "    \n",
    "    while right < len(prices):\n",
    "        if prices[left] < prices[right]:\n",
    "            max_profit = max(max_profit, prices[right] - prices[left])\n",
    "        else:\n",
    "            left = right\n",
    "        right += 1\n",
    "        \n",
    "    return max_profit"
   ]
  },
  {
   "cell_type": "markdown",
   "id": "4144c32d",
   "metadata": {},
   "source": [
    "## 3. Testing"
   ]
  },
  {
   "cell_type": "code",
   "execution_count": 22,
   "id": "62d1e1cd",
   "metadata": {},
   "outputs": [
    {
     "name": "stdout",
     "output_type": "stream",
     "text": [
      "[7, 1, 5, 3, 6, 4] 5\n",
      "[7, 6, 4, 3, 1] 0\n",
      "[10, 1, 5, 6, 7, 1] 6\n"
     ]
    }
   ],
   "source": [
    "prices = [\n",
    "    [7, 1, 5, 3, 6, 4],\n",
    "    [7, 6, 4, 3, 1],\n",
    "    [10, 1, 5, 6, 7, 1],\n",
    "]\n",
    "\n",
    "for price in prices:\n",
    "    print(f\"{price} {max_profit(price)}\")"
   ]
  },
  {
   "cell_type": "markdown",
   "id": "2c0c7400",
   "metadata": {},
   "source": [
    "### Time complexity: $\\mathcal{O}(N)$\n",
    "### Space complexity: $\\mathcal{O}(1)$"
   ]
  }
 ],
 "metadata": {
  "kernelspec": {
   "display_name": "Python 3 (ipykernel)",
   "language": "python",
   "name": "python3"
  },
  "language_info": {
   "codemirror_mode": {
    "name": "ipython",
    "version": 3
   },
   "file_extension": ".py",
   "mimetype": "text/x-python",
   "name": "python",
   "nbconvert_exporter": "python",
   "pygments_lexer": "ipython3",
   "version": "3.11.4"
  }
 },
 "nbformat": 4,
 "nbformat_minor": 5
}
