{
 "cells": [
  {
   "cell_type": "markdown",
   "id": "df121387",
   "metadata": {},
   "source": [
    "## 1. Problem description"
   ]
  },
  {
   "cell_type": "markdown",
   "id": "a8d37f9e",
   "metadata": {},
   "source": [
    "You are climbing a staircase. It takes `n` steps to reach the top. Each time you can climb 1 or 2 steps. In how many distinct ways can you climb to the top?"
   ]
  },
  {
   "cell_type": "markdown",
   "id": "de38225d",
   "metadata": {},
   "source": [
    "## 2. Implementation"
   ]
  },
  {
   "cell_type": "code",
   "execution_count": 60,
   "id": "91a3bff7",
   "metadata": {},
   "outputs": [],
   "source": [
    "def climb(n):\n",
    "    if (n < 0):\n",
    "        s = \"no possible\"\n",
    "        return s\n",
    "    if (n == 0):\n",
    "        return 0\n",
    "    if (n == 1):\n",
    "        return 1\n",
    "    array = []\n",
    "    array.append(1)\n",
    "    array.append(2)\n",
    "    for i in range(2,n):\n",
    "        array.append(array[i-1] + array[i-2])\n",
    "    return array[-1]"
   ]
  },
  {
   "cell_type": "markdown",
   "id": "3ee29545",
   "metadata": {},
   "source": [
    "## 3. Testing"
   ]
  },
  {
   "cell_type": "code",
   "execution_count": 61,
   "id": "f08d5e60",
   "metadata": {},
   "outputs": [
    {
     "name": "stdout",
     "output_type": "stream",
     "text": [
      "You can climb -2 stairs in no possible ways.\n",
      "You can climb -1 stairs in no possible ways.\n",
      "You can climb 0 stairs in 0 ways.\n",
      "You can climb 1 stairs in 1 ways.\n",
      "You can climb 2 stairs in 2 ways.\n",
      "You can climb 3 stairs in 3 ways.\n",
      "You can climb 4 stairs in 5 ways.\n",
      "You can climb 5 stairs in 8 ways.\n",
      "You can climb 6 stairs in 13 ways.\n",
      "You can climb 7 stairs in 21 ways.\n",
      "You can climb 8 stairs in 34 ways.\n",
      "You can climb 9 stairs in 55 ways.\n",
      "You can climb 10 stairs in 89 ways.\n",
      "You can climb 11 stairs in 144 ways.\n",
      "You can climb 12 stairs in 233 ways.\n",
      "You can climb 13 stairs in 377 ways.\n",
      "You can climb 14 stairs in 610 ways.\n",
      "You can climb 15 stairs in 987 ways.\n",
      "You can climb 16 stairs in 1597 ways.\n",
      "You can climb 17 stairs in 2584 ways.\n",
      "You can climb 18 stairs in 4181 ways.\n",
      "You can climb 19 stairs in 6765 ways.\n",
      "You can climb 20 stairs in 10946 ways.\n"
     ]
    }
   ],
   "source": [
    "for i in range(-2, 21):\n",
    "    print(f\"You can climb {i} stairs in {climb(i)} ways.\")"
   ]
  },
  {
   "cell_type": "markdown",
   "id": "505a4680",
   "metadata": {},
   "source": [
    "### Time complexity: $\\mathcal{O}(N)$\n",
    "### Space complexity: $\\mathcal{O}(N)$"
   ]
  }
 ],
 "metadata": {
  "kernelspec": {
   "display_name": "Python 3 (ipykernel)",
   "language": "python",
   "name": "python3"
  },
  "language_info": {
   "codemirror_mode": {
    "name": "ipython",
    "version": 3
   },
   "file_extension": ".py",
   "mimetype": "text/x-python",
   "name": "python",
   "nbconvert_exporter": "python",
   "pygments_lexer": "ipython3",
   "version": "3.11.4"
  }
 },
 "nbformat": 4,
 "nbformat_minor": 5
}
