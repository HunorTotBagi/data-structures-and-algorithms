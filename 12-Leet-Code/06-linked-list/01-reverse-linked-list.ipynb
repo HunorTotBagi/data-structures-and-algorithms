{
 "cells": [
  {
   "cell_type": "markdown",
   "id": "001b6203",
   "metadata": {},
   "source": [
    "## 1. Problem description"
   ]
  },
  {
   "cell_type": "markdown",
   "id": "f7129e2c",
   "metadata": {},
   "source": [
    "Given the `head` of a singly linked list, reverse the list, and return the reversed list."
   ]
  },
  {
   "cell_type": "markdown",
   "id": "9e5f09ac",
   "metadata": {},
   "source": [
    "## 2. Implementation"
   ]
  },
  {
   "cell_type": "code",
   "execution_count": 1,
   "id": "e6fb5e50",
   "metadata": {},
   "outputs": [],
   "source": [
    "class Node:\n",
    "    def __init__(self, data = None, next = None):\n",
    "        self.data = data\n",
    "        self.next = next"
   ]
  },
  {
   "cell_type": "code",
   "execution_count": 11,
   "id": "7386fbde",
   "metadata": {},
   "outputs": [],
   "source": [
    "a = Node(2)\n",
    "b = Node(1, a)\n",
    "c = Node(4, b)"
   ]
  },
  {
   "cell_type": "code",
   "execution_count": null,
   "id": "44dbcc9c",
   "metadata": {},
   "outputs": [],
   "source": [
    "print(a.data)"
   ]
  },
  {
   "cell_type": "markdown",
   "id": "1ceac88b",
   "metadata": {},
   "source": [
    "### 2.1 Iteractive"
   ]
  },
  {
   "cell_type": "code",
   "execution_count": null,
   "id": "2028e6a1",
   "metadata": {},
   "outputs": [],
   "source": []
  },
  {
   "cell_type": "markdown",
   "id": "9575151b",
   "metadata": {},
   "source": [
    "### Time complexity: $\\mathcal{O}(N)$\n",
    "### Space complexity: $\\mathcal{O}(1)$"
   ]
  },
  {
   "cell_type": "markdown",
   "id": "5b444a18",
   "metadata": {},
   "source": [
    "### 2.2 Recursively"
   ]
  },
  {
   "cell_type": "code",
   "execution_count": null,
   "id": "90815eea",
   "metadata": {},
   "outputs": [],
   "source": []
  },
  {
   "cell_type": "markdown",
   "id": "34feec51",
   "metadata": {},
   "source": [
    "### Time complexity: $\\mathcal{O}(N)$\n",
    "### Space complexity: $\\mathcal{O}(1)$"
   ]
  },
  {
   "cell_type": "markdown",
   "id": "92f61a58",
   "metadata": {},
   "source": [
    "## 3. Testing"
   ]
  },
  {
   "cell_type": "code",
   "execution_count": null,
   "id": "78416ceb",
   "metadata": {},
   "outputs": [],
   "source": []
  }
 ],
 "metadata": {
  "kernelspec": {
   "display_name": "Python 3 (ipykernel)",
   "language": "python",
   "name": "python3"
  },
  "language_info": {
   "codemirror_mode": {
    "name": "ipython",
    "version": 3
   },
   "file_extension": ".py",
   "mimetype": "text/x-python",
   "name": "python",
   "nbconvert_exporter": "python",
   "pygments_lexer": "ipython3",
   "version": "3.11.4"
  }
 },
 "nbformat": 4,
 "nbformat_minor": 5
}
