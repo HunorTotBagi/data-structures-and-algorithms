{
 "cells": [
  {
   "cell_type": "markdown",
   "id": "a6aace8b",
   "metadata": {},
   "source": [
    "## 1. Problem description"
   ]
  },
  {
   "cell_type": "markdown",
   "id": "838ea7fe",
   "metadata": {},
   "source": [
    "A phrase is a **palindrome** if, after converting all uppercase letters into lowercase letters and removing all non-alphanumeric characters, it reads the same forward and backward. Alphanumeric characters include letters and numbers.\n",
    "\n",
    "Given a string `s`, return `true` if it is a **palindrome**, or `false` otherwise."
   ]
  },
  {
   "cell_type": "markdown",
   "id": "ff01c0e2",
   "metadata": {},
   "source": [
    "## 2. Implementation"
   ]
  },
  {
   "cell_type": "code",
   "execution_count": 2,
   "id": "96c0d186",
   "metadata": {},
   "outputs": [],
   "source": [
    "import re\n",
    "\n",
    "def is_palindrome(input_string):\n",
    "    input_string = remove_non_alphanumeric(input_string)\n",
    "    input_string = input_string.lower()\n",
    "    \n",
    "    left_pointer = 0\n",
    "    right_pointer = len(input_string) - 1\n",
    "    \n",
    "    while left_pointer < right_pointer:\n",
    "        if input_string[left_pointer] != input_string[right_pointer]:\n",
    "            return False\n",
    "        left_pointer += 1\n",
    "        right_pointer -= 1\n",
    "    return True\n",
    "\n",
    "def remove_non_alphanumeric(input_string):\n",
    "    return re.sub(r'[^a-zA-Z0-9]', '', input_string)"
   ]
  },
  {
   "cell_type": "markdown",
   "id": "c5b9fb49",
   "metadata": {},
   "source": [
    "## 3. Testing"
   ]
  },
  {
   "cell_type": "code",
   "execution_count": 3,
   "id": "cd152618",
   "metadata": {},
   "outputs": [
    {
     "name": "stdout",
     "output_type": "stream",
     "text": [
      "The input string 'joaoj' is a palindrome: True\n",
      "The input string 'asdwer' is a palindrome: False\n",
      "The input string 'redder' is a palindrome: True\n",
      "The input string 'A man, a plan, a canal: Panama' is a palindrome: True\n",
      "The input string 'race a car' is a palindrome: False\n",
      "The input string ' ' is a palindrome: True\n"
     ]
    }
   ],
   "source": [
    "strings = [\n",
    "    \"joaoj\",\n",
    "    \"asdwer\",\n",
    "    \"redder\",\n",
    "    \"A man, a plan, a canal: Panama\",\n",
    "    \"race a car\",\n",
    "    \" \"\n",
    "]\n",
    "\n",
    "for string in strings:\n",
    "    print(f\"The input string '{string}' is a palindrome: {is_palindrome(string)}\")"
   ]
  },
  {
   "cell_type": "markdown",
   "id": "3bba90e4",
   "metadata": {},
   "source": [
    "### Time complexity: $\\mathcal{O}(N)$\n",
    "### Space complexity: $\\mathcal{O}(1)$"
   ]
  }
 ],
 "metadata": {
  "kernelspec": {
   "display_name": "Python 3 (ipykernel)",
   "language": "python",
   "name": "python3"
  },
  "language_info": {
   "codemirror_mode": {
    "name": "ipython",
    "version": 3
   },
   "file_extension": ".py",
   "mimetype": "text/x-python",
   "name": "python",
   "nbconvert_exporter": "python",
   "pygments_lexer": "ipython3",
   "version": "3.11.4"
  }
 },
 "nbformat": 4,
 "nbformat_minor": 5
}
