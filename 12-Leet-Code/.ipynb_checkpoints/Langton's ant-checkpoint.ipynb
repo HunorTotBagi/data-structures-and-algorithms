{
 "cells": [
  {
   "cell_type": "code",
   "execution_count": 11,
   "id": "70fdcd8d",
   "metadata": {},
   "outputs": [],
   "source": []
  },
  {
   "cell_type": "code",
   "execution_count": 50,
   "id": "c3bed191",
   "metadata": {},
   "outputs": [
    {
     "name": "stdout",
     "output_type": "stream",
     "text": [
      "Ant returned\n",
      "8\n"
     ]
    }
   ],
   "source": [
    "#     N\n",
    "# W---|---E\n",
    "#     S\n",
    "\n",
    "def ant_on_black(x, y, current_orientation):\n",
    "    if current_orientation == \"N\":\n",
    "        return \"W\", x - 1, y\n",
    "    if current_orientation == \"W\":\n",
    "        return \"S\", x, y - 1\n",
    "    if current_orientation == \"S\":\n",
    "        return \"E\", x + 1, y\n",
    "    if current_orientation == \"E\":\n",
    "        return \"N\", x, y + 1\n",
    "\n",
    "def ant_on_white(x, y, current_orientation):\n",
    "    if current_orientation == \"N\":\n",
    "        return \"E\", x + 1, y\n",
    "    if current_orientation == \"W\":\n",
    "        return \"N\", x, y + 1\n",
    "    if current_orientation == \"S\":\n",
    "        return \"W\", x - 1, y\n",
    "    if current_orientation == \"E\":\n",
    "        return \"S\", x, y - 1\n",
    "\n",
    "def add_position_to_dict(x, y):\n",
    "    if (x, y) not in world:\n",
    "        world[(x, y)] = 0\n",
    "\n",
    "x = 0\n",
    "y = 0\n",
    "orientation = \"N\"\n",
    "world = {}\n",
    "add_position_to_dict(x, y)\n",
    "\n",
    "counter = 0\n",
    "while counter < 140:\n",
    "    if x == 0 and y == 0 and orientation == \"S\" and world[(x, y)] == 0:\n",
    "        print(\"Ant returned\")\n",
    "        print(counter)\n",
    "        break\n",
    "        \n",
    "    if world[(x, y)] == 0:\n",
    "        world[(x, y)] = 1\n",
    "        orientation, x, y = ant_on_black(x, y, orientation)\n",
    "        add_position_to_dict(x, y)\n",
    "        counter += 1\n",
    "\n",
    "    elif world[(x, y)] == 1:\n",
    "        world[(x, y)] = 0\n",
    "        orientation, x, y = ant_on_white(x, y, orientation)\n",
    "        add_position_to_dict(x, y)\n",
    "        counter += 1"
   ]
  },
  {
   "cell_type": "code",
   "execution_count": 43,
   "id": "714b50db",
   "metadata": {},
   "outputs": [
    {
     "data": {
      "text/plain": [
       "('E', 2, 1)"
      ]
     },
     "execution_count": 43,
     "metadata": {},
     "output_type": "execute_result"
    }
   ],
   "source": [
    "ant_on_black(1,1,\"S\")"
   ]
  },
  {
   "cell_type": "code",
   "execution_count": 31,
   "id": "8a0b5202",
   "metadata": {},
   "outputs": [],
   "source": []
  },
  {
   "cell_type": "code",
   "execution_count": 34,
   "id": "03210aed",
   "metadata": {},
   "outputs": [],
   "source": [
    "add_position_to_dict(1,6)"
   ]
  },
  {
   "cell_type": "code",
   "execution_count": 35,
   "id": "3356cbb7",
   "metadata": {},
   "outputs": [
    {
     "data": {
      "text/plain": [
       "{(0, 0): 1, (-1, 0): 1, (-1, -1): 1, (0, -1): 0, (1, 4): 0, (1, 6): 0}"
      ]
     },
     "execution_count": 35,
     "metadata": {},
     "output_type": "execute_result"
    }
   ],
   "source": [
    "world"
   ]
  },
  {
   "cell_type": "code",
   "execution_count": null,
   "id": "eb6b1ff9",
   "metadata": {},
   "outputs": [],
   "source": []
  }
 ],
 "metadata": {
  "kernelspec": {
   "display_name": "Python 3 (ipykernel)",
   "language": "python",
   "name": "python3"
  },
  "language_info": {
   "codemirror_mode": {
    "name": "ipython",
    "version": 3
   },
   "file_extension": ".py",
   "mimetype": "text/x-python",
   "name": "python",
   "nbconvert_exporter": "python",
   "pygments_lexer": "ipython3",
   "version": "3.11.4"
  }
 },
 "nbformat": 4,
 "nbformat_minor": 5
}
