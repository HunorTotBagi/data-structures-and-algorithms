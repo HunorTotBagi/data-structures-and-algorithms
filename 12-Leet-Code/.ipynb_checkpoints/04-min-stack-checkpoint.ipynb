{
 "cells": [
  {
   "cell_type": "code",
   "execution_count": 1,
   "id": "98cbdd72",
   "metadata": {},
   "outputs": [],
   "source": [
    "class MinStack:\n",
    "    class Node:\n",
    "        def __init__(self, val, min_val, next_node=None):\n",
    "            self.val = val\n",
    "            self.min = min_val\n",
    "            self.next = next_node\n",
    "\n",
    "    def __init__(self):\n",
    "        self.head = None\n",
    "\n",
    "    def push(self, val):\n",
    "        if self.head is None:\n",
    "            self.head = self.Node(val, val)\n",
    "        else:\n",
    "            self.head = self.Node(val, min(val, self.head.min), self.head)\n",
    "\n",
    "    def pop(self):\n",
    "        if self.head is not None:\n",
    "            self.head = self.head.next\n",
    "\n",
    "    def top(self):\n",
    "        if self.head is not None:\n",
    "            return self.head.val\n",
    "        return None\n",
    "\n",
    "    def getMin(self):\n",
    "        if self.head is not None:\n",
    "            return self.head.min\n",
    "        return None"
   ]
  }
 ],
 "metadata": {
  "kernelspec": {
   "display_name": "Python 3 (ipykernel)",
   "language": "python",
   "name": "python3"
  },
  "language_info": {
   "codemirror_mode": {
    "name": "ipython",
    "version": 3
   },
   "file_extension": ".py",
   "mimetype": "text/x-python",
   "name": "python",
   "nbconvert_exporter": "python",
   "pygments_lexer": "ipython3",
   "version": "3.11.4"
  }
 },
 "nbformat": 4,
 "nbformat_minor": 5
}
