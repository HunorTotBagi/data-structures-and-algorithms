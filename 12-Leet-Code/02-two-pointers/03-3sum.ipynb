{
 "cells": [
  {
   "cell_type": "markdown",
   "id": "c67d5c9f",
   "metadata": {},
   "source": [
    "## 1. Problem description"
   ]
  },
  {
   "cell_type": "markdown",
   "id": "9298228e",
   "metadata": {},
   "source": [
    "Given an integer array nums, return all the triplets [nums[i], nums[j], nums[k]] such that i != j, i != k, and j != k, and nums[i] + nums[j] + nums[k] == 0.\n",
    "\n",
    "Notice that the solution set must not contain duplicate triplets."
   ]
  },
  {
   "cell_type": "markdown",
   "id": "3abb210b",
   "metadata": {},
   "source": [
    "## 2. Implementation"
   ]
  },
  {
   "cell_type": "code",
   "execution_count": 24,
   "id": "33954c29",
   "metadata": {},
   "outputs": [],
   "source": [
    "#bruce force\n",
    "def threeSum(array):\n",
    "    empty = []\n",
    "    size = len(array)\n",
    "    for i in range(size):\n",
    "        for j in range(i + 1, size):\n",
    "            for k in range(j + 1, size):\n",
    "                if array[i] + array[j] + array[k] == 0:\n",
    "                    new_list = sorted([array[i], array[j], array[k]])\n",
    "                    if new_list not in empty:\n",
    "                        empty.append(new_list)\n",
    "    return empty"
   ]
  },
  {
   "cell_type": "markdown",
   "id": "83bf2d54",
   "metadata": {},
   "source": [
    "## 3. Testing"
   ]
  },
  {
   "cell_type": "code",
   "execution_count": 25,
   "id": "8db864d6",
   "metadata": {},
   "outputs": [
    {
     "data": {
      "text/plain": [
       "[[-1, 0, 1], [-1, -1, 2]]"
      ]
     },
     "execution_count": 25,
     "metadata": {},
     "output_type": "execute_result"
    }
   ],
   "source": [
    "array = [-1,0,1,2,-1,-4]\n",
    "threeSum(array)"
   ]
  }
 ],
 "metadata": {
  "kernelspec": {
   "display_name": "Python 3 (ipykernel)",
   "language": "python",
   "name": "python3"
  },
  "language_info": {
   "codemirror_mode": {
    "name": "ipython",
    "version": 3
   },
   "file_extension": ".py",
   "mimetype": "text/x-python",
   "name": "python",
   "nbconvert_exporter": "python",
   "pygments_lexer": "ipython3",
   "version": "3.11.4"
  }
 },
 "nbformat": 4,
 "nbformat_minor": 5
}
