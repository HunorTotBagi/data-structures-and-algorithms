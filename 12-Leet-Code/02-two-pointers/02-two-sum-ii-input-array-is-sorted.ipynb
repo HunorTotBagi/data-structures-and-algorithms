{
 "cells": [
  {
   "cell_type": "markdown",
   "id": "badea14f",
   "metadata": {},
   "source": [
    "## 1. Problem description"
   ]
  },
  {
   "cell_type": "markdown",
   "id": "39c7db75",
   "metadata": {},
   "source": [
    "Given a **1-indexed** array of integers `numbers` that is already **sorted in non-decreasing order**, find two numbers such that they add up to a specific `target` number. Let these two numbers be `numbers[index_1]` and `numbers[index_2]` where `1 <= index1 < index2 <= numbers.length`.\n",
    "\n",
    "Return the indices of the two numbers, `index_1` and `index_2`, **added by one** as an integer array `[index_1, index_2]` of length 2.\n",
    "\n",
    "The tests are generated such that there is **exactly one solution**. You **may not** use the same element twice.\n",
    "\n",
    "Your solution must use only constant extra space."
   ]
  },
  {
   "cell_type": "markdown",
   "id": "735b2abf",
   "metadata": {},
   "source": [
    "## 2. Implementation"
   ]
  },
  {
   "cell_type": "code",
   "execution_count": 28,
   "id": "0e18fc4d",
   "metadata": {},
   "outputs": [],
   "source": [
    "def twoSum(numbers, target):\n",
    "    left = 0\n",
    "    right = len(numbers) - 1\n",
    "    \n",
    "    while left < right:\n",
    "        currentSum = numbers[left] + numbers[right]\n",
    "        \n",
    "        if currentSum > target:\n",
    "            right -= 1\n",
    "        elif currentSum < target:\n",
    "            left += 1\n",
    "        else:\n",
    "            return [left + 1, right + 1]\n",
    "    return []"
   ]
  },
  {
   "cell_type": "markdown",
   "id": "a0cef4e0",
   "metadata": {},
   "source": [
    "## 3. Testing"
   ]
  },
  {
   "cell_type": "code",
   "execution_count": 29,
   "id": "65f47eee",
   "metadata": {},
   "outputs": [
    {
     "name": "stdout",
     "output_type": "stream",
     "text": [
      "[1, 2]\n",
      "[1, 3]\n",
      "[1, 2]\n",
      "[1, 2]\n"
     ]
    }
   ],
   "source": [
    "numbers = [\n",
    "    [[2, 7, 11, 15], 9],\n",
    "    [[2, 3, 4], 6],\n",
    "    [[-1,0], -1],\n",
    "    [[0,0,3,4], 0]\n",
    "]\n",
    "\n",
    "for number, target in numbers:\n",
    "    print(twoSum(number, target))"
   ]
  },
  {
   "cell_type": "markdown",
   "id": "37b5ffdc",
   "metadata": {},
   "source": [
    "### Time complexity: $\\mathcal{O}(N)$\n",
    "### Space complexity: $\\mathcal{O}(1)$"
   ]
  },
  {
   "cell_type": "code",
   "execution_count": null,
   "id": "73026eaa",
   "metadata": {},
   "outputs": [],
   "source": []
  }
 ],
 "metadata": {
  "kernelspec": {
   "display_name": "Python 3 (ipykernel)",
   "language": "python",
   "name": "python3"
  },
  "language_info": {
   "codemirror_mode": {
    "name": "ipython",
    "version": 3
   },
   "file_extension": ".py",
   "mimetype": "text/x-python",
   "name": "python",
   "nbconvert_exporter": "python",
   "pygments_lexer": "ipython3",
   "version": "3.11.4"
  }
 },
 "nbformat": 4,
 "nbformat_minor": 5
}
