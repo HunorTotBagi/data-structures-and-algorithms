{
 "cells": [
  {
   "cell_type": "markdown",
   "id": "a6aace8b",
   "metadata": {},
   "source": [
    "A phrase is a **palindrome** if, after converting all uppercase letters into lowercase letters and removing all non-alphanumeric characters, it reads the same forward and backward. Alphanumeric characters include letters and numbers.\n",
    "\n",
    "Given a string `s`, return `true` if it is a **palindrome**, or `false` otherwise."
   ]
  },
  {
   "cell_type": "code",
   "execution_count": 121,
   "id": "8d7ba534",
   "metadata": {},
   "outputs": [],
   "source": [
    "string_1 = \"joaoj\"\n",
    "string_2 = \"asdwer\"\n",
    "string_3 = \"redder\"\n",
    "string_4 = \"A man, a plan, a canal: Panama\"\n",
    "string_5 = \"race a car\"\n",
    "string_6 = \" \""
   ]
  },
  {
   "cell_type": "code",
   "execution_count": 122,
   "id": "96c0d186",
   "metadata": {},
   "outputs": [],
   "source": [
    "import re\n",
    "\n",
    "def is_palindrome(input_string):\n",
    "    input_string = remove_non_alphanumeric(input_string)\n",
    "    input_string = convert_string_to_lower_case(input_string)\n",
    "\n",
    "    string_length = len(input_string)\n",
    "    \n",
    "    i = 0\n",
    "    if string_length == 0:\n",
    "        return True\n",
    "    \n",
    "    while i <= int(string_length/2):\n",
    "        if input_string[i] != input_string[string_length-i-1]:\n",
    "            return False\n",
    "        i += 1\n",
    "    return True\n",
    "\n",
    "def convert_string_to_lower_case(input_string):\n",
    "    return input_string.lower()\n",
    "\n",
    "def remove_non_alphanumeric(input_string):\n",
    "    return re.sub(r'[^a-zA-Z0-9]', '', input_string)"
   ]
  },
  {
   "cell_type": "code",
   "execution_count": 123,
   "id": "cd152618",
   "metadata": {},
   "outputs": [
    {
     "name": "stdout",
     "output_type": "stream",
     "text": [
      "The word 'joaoj' is a palindrome: True\n",
      "The word 'asdwer' is a palindrome: False\n",
      "The word 'redder' is a palindrome: True\n",
      "The word 'A man, a plan, a canal: Panama' is a palindrome: True\n",
      "The word 'race a car' is a palindrome: False\n",
      "The word ' ' is a palindrome: True\n"
     ]
    }
   ],
   "source": [
    "print(f\"The word '{string_1}' is a palindrome: {is_palindrome(string_1)}\")\n",
    "print(f\"The word '{string_2}' is a palindrome: {is_palindrome(string_2)}\")\n",
    "print(f\"The word '{string_3}' is a palindrome: {is_palindrome(string_3)}\")\n",
    "print(f\"The word '{string_4}' is a palindrome: {is_palindrome(string_4)}\")\n",
    "print(f\"The word '{string_5}' is a palindrome: {is_palindrome(string_5)}\")\n",
    "print(f\"The word '{string_6}' is a palindrome: {is_palindrome(string_6)}\")"
   ]
  },
  {
   "cell_type": "markdown",
   "id": "3bba90e4",
   "metadata": {},
   "source": [
    "### Time complexity: $\\mathcal{O}(N)$\n",
    "### Space complexity: $\\mathcal{O}(N)$"
   ]
  }
 ],
 "metadata": {
  "kernelspec": {
   "display_name": "Python 3 (ipykernel)",
   "language": "python",
   "name": "python3"
  },
  "language_info": {
   "codemirror_mode": {
    "name": "ipython",
    "version": 3
   },
   "file_extension": ".py",
   "mimetype": "text/x-python",
   "name": "python",
   "nbconvert_exporter": "python",
   "pygments_lexer": "ipython3",
   "version": "3.11.4"
  }
 },
 "nbformat": 4,
 "nbformat_minor": 5
}
