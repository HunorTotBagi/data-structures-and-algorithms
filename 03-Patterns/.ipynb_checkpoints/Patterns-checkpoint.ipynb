{
 "cells": [
  {
   "cell_type": "code",
   "execution_count": 274,
   "id": "0d9ca60a",
   "metadata": {},
   "outputs": [],
   "source": [
    "# Pattern 1\n",
    "# * * * *\n",
    "# * * * *\n",
    "# * * * *\n",
    "# * * * *"
   ]
  },
  {
   "cell_type": "code",
   "execution_count": 275,
   "id": "086375f0",
   "metadata": {},
   "outputs": [
    {
     "name": "stdout",
     "output_type": "stream",
     "text": [
      "* * * * \n",
      "* * * * \n",
      "* * * * \n",
      "* * * * \n"
     ]
    }
   ],
   "source": [
    "def Pattern1(n):\n",
    "    for i in range(n):\n",
    "        print(\"* \" * n)\n",
    "        \n",
    "Pattern1(4)"
   ]
  },
  {
   "cell_type": "code",
   "execution_count": 276,
   "id": "f91bbdf1",
   "metadata": {},
   "outputs": [],
   "source": [
    "# Pattern 2\n",
    "# *\n",
    "# * * \n",
    "# * * *\n",
    "# * * * *"
   ]
  },
  {
   "cell_type": "code",
   "execution_count": 277,
   "id": "f729b761",
   "metadata": {},
   "outputs": [
    {
     "name": "stdout",
     "output_type": "stream",
     "text": [
      "* \n",
      "* * \n",
      "* * * \n",
      "* * * * \n"
     ]
    }
   ],
   "source": [
    "def Pattern2(n):\n",
    "    for i in range(n):\n",
    "        print(\"* \" * (i+1))\n",
    "        \n",
    "Pattern2(4)"
   ]
  },
  {
   "cell_type": "code",
   "execution_count": 278,
   "id": "726bccc2",
   "metadata": {},
   "outputs": [],
   "source": [
    "# Pattern 3\n",
    "# * * * *\n",
    "# * * *\n",
    "# * *\n",
    "# *"
   ]
  },
  {
   "cell_type": "code",
   "execution_count": 279,
   "id": "2b5aa6ee",
   "metadata": {},
   "outputs": [
    {
     "name": "stdout",
     "output_type": "stream",
     "text": [
      "* * * * \n",
      "* * * \n",
      "* * \n",
      "* \n"
     ]
    }
   ],
   "source": [
    "def Pattern3(n):\n",
    "    for i in range(n):\n",
    "        print(\"* \" * (n-i))\n",
    "        \n",
    "Pattern3(4)"
   ]
  },
  {
   "cell_type": "code",
   "execution_count": 280,
   "id": "8ce0faf0",
   "metadata": {},
   "outputs": [],
   "source": [
    "# Pattern 4\n",
    "# 1\n",
    "# 1 2\n",
    "# 1 2 3\n",
    "# 1 2 3 4\n",
    "# 1 2 3 4 5"
   ]
  },
  {
   "cell_type": "code",
   "execution_count": 281,
   "id": "5f38fa44",
   "metadata": {},
   "outputs": [
    {
     "name": "stdout",
     "output_type": "stream",
     "text": [
      "1\n",
      "1 2\n",
      "1 2 3\n",
      "1 2 3 4\n",
      "1 2 3 4 5\n"
     ]
    }
   ],
   "source": [
    "def Pattern4(n):\n",
    "    for i in range(1,n+1):\n",
    "        print(*range(1,i+1))\n",
    "\n",
    "Pattern4(5)"
   ]
  },
  {
   "cell_type": "code",
   "execution_count": 282,
   "id": "94dbbf2f",
   "metadata": {},
   "outputs": [],
   "source": [
    "# Pattern 5\n",
    "# *\n",
    "# * *\n",
    "# * * *\n",
    "# * * * *\n",
    "# * * * * *\n",
    "# * * * *\n",
    "# * * *\n",
    "# * *\n",
    "# *"
   ]
  },
  {
   "cell_type": "code",
   "execution_count": 283,
   "id": "4381519d",
   "metadata": {},
   "outputs": [
    {
     "name": "stdout",
     "output_type": "stream",
     "text": [
      "* \n",
      "* * \n",
      "* * * \n",
      "* * * * \n",
      "* * * * * \n",
      "* * * * \n",
      "* * * \n",
      "* * \n",
      "* \n"
     ]
    }
   ],
   "source": [
    "def Pattern5(n):\n",
    "    for i in range(1,n+1):\n",
    "        print(\"* \" * (i))\n",
    "    for i in range(1,n):\n",
    "        print(\"* \" * (n-i))\n",
    "        \n",
    "        \n",
    "Pattern5(5)"
   ]
  },
  {
   "cell_type": "code",
   "execution_count": 284,
   "id": "f5832557",
   "metadata": {},
   "outputs": [],
   "source": [
    "# Pattern 6\n",
    "#     *\n",
    "#    **\n",
    "#   ***\n",
    "#  ****\n",
    "# *****"
   ]
  },
  {
   "cell_type": "code",
   "execution_count": 285,
   "id": "148a53e0",
   "metadata": {
    "scrolled": true
   },
   "outputs": [
    {
     "name": "stdout",
     "output_type": "stream",
     "text": [
      "    *\n",
      "   **\n",
      "  ***\n",
      " ****\n",
      "*****\n"
     ]
    }
   ],
   "source": [
    "def Pattern6(n):\n",
    "    for i in range(1,n+1):\n",
    "        string = \" \"*(n-i)+\"*\"*i\n",
    "        print(string)\n",
    "\n",
    "Pattern6(5)"
   ]
  },
  {
   "cell_type": "code",
   "execution_count": 286,
   "id": "fa3ef43d",
   "metadata": {},
   "outputs": [],
   "source": [
    "# Pattern 7\n",
    "# *****\n",
    "#  ****\n",
    "#   ***\n",
    "#    **\n",
    "#     *"
   ]
  },
  {
   "cell_type": "code",
   "execution_count": 287,
   "id": "5b50ab1a",
   "metadata": {},
   "outputs": [
    {
     "name": "stdout",
     "output_type": "stream",
     "text": [
      "*****\n",
      " ****\n",
      "  ***\n",
      "   **\n",
      "    *\n"
     ]
    }
   ],
   "source": [
    "def Pattern7(n):\n",
    "    for i in range(1,n+1):\n",
    "        string = \" \"*(i-1)+\"*\"*(n-i+1)\n",
    "        print(string)\n",
    "        \n",
    "Pattern7(5)"
   ]
  },
  {
   "cell_type": "code",
   "execution_count": 288,
   "id": "5e0d5372",
   "metadata": {},
   "outputs": [],
   "source": [
    "# Pattern 8\n",
    "#     *\n",
    "#    ***\n",
    "#   *****   \n",
    "#  *******\n",
    "# *********"
   ]
  },
  {
   "cell_type": "code",
   "execution_count": 289,
   "id": "df87f861",
   "metadata": {},
   "outputs": [
    {
     "name": "stdout",
     "output_type": "stream",
     "text": [
      "    *\n",
      "   ***\n",
      "  *****\n",
      " *******\n",
      "*********\n"
     ]
    }
   ],
   "source": [
    "def Pattern8(n):\n",
    "    for i in range(1,n+1):\n",
    "        string = \" \"*(n-i) + \"*\"*((i*2)-1)\n",
    "        print(string)\n",
    "        \n",
    "Pattern8(5)"
   ]
  },
  {
   "cell_type": "code",
   "execution_count": 290,
   "id": "ebd9ddde",
   "metadata": {},
   "outputs": [],
   "source": [
    "# Pattern 9\n",
    "# *********\n",
    "#  *******\n",
    "#   *****\n",
    "#    ***\n",
    "#     *"
   ]
  },
  {
   "cell_type": "code",
   "execution_count": 291,
   "id": "4fba1636",
   "metadata": {},
   "outputs": [
    {
     "name": "stdout",
     "output_type": "stream",
     "text": [
      "*********\n",
      " *******\n",
      "  *****\n",
      "   ***\n",
      "    *\n"
     ]
    }
   ],
   "source": [
    "def Pattern9(n):\n",
    "    for i in range(1,n+1):\n",
    "        string = \" \"*(i-1) + \"*\"*(2*(n-i)+1) #((n+1)*2-(i*2)-1)\n",
    "        print(string)\n",
    "        \n",
    "Pattern9(5)"
   ]
  },
  {
   "cell_type": "code",
   "execution_count": 292,
   "id": "e5dbf457",
   "metadata": {},
   "outputs": [],
   "source": [
    "# Pattern 10\n",
    "#     *\n",
    "#    * *\n",
    "#   * * *\n",
    "#  * * * *\n",
    "# * * * * *"
   ]
  },
  {
   "cell_type": "code",
   "execution_count": 293,
   "id": "c902fea2",
   "metadata": {},
   "outputs": [
    {
     "name": "stdout",
     "output_type": "stream",
     "text": [
      "    * \n",
      "   * * \n",
      "  * * * \n",
      " * * * * \n",
      "* * * * * \n"
     ]
    }
   ],
   "source": [
    "def Pattern10(n):\n",
    "    for i in range(1,n+1):\n",
    "        string = \" \"*(n-i) + \"* \"*i\n",
    "        print(string)\n",
    "\n",
    "Pattern10(5)"
   ]
  },
  {
   "cell_type": "code",
   "execution_count": 294,
   "id": "1da7bcd5",
   "metadata": {},
   "outputs": [],
   "source": [
    "# Pattern 11\n",
    "# * * * * *\n",
    "#  * * * *\n",
    "#   * * *\n",
    "#    * *\n",
    "#     *"
   ]
  },
  {
   "cell_type": "code",
   "execution_count": 295,
   "id": "5267d546",
   "metadata": {},
   "outputs": [
    {
     "name": "stdout",
     "output_type": "stream",
     "text": [
      "* * * * * \n",
      " * * * * \n",
      "  * * * \n",
      "   * * \n",
      "    * \n"
     ]
    }
   ],
   "source": [
    "def Pattern11(n):\n",
    "    for i in range(1,n+1):\n",
    "        string = \" \"*(i-1) + \"* \"*(n+1-i)\n",
    "        print(string)\n",
    "\n",
    "Pattern11(5)"
   ]
  },
  {
   "cell_type": "code",
   "execution_count": 296,
   "id": "00d4ce65",
   "metadata": {},
   "outputs": [],
   "source": [
    "# Pattern 12\n",
    "# * * * * *\n",
    "#  * * * *\n",
    "#   * * *\n",
    "#    * *\n",
    "#     *\n",
    "#     *\n",
    "#    * *\n",
    "#   * * *\n",
    "#  * * * *\n",
    "# * * * * *"
   ]
  },
  {
   "cell_type": "code",
   "execution_count": 297,
   "id": "c7bca0b0",
   "metadata": {},
   "outputs": [
    {
     "name": "stdout",
     "output_type": "stream",
     "text": [
      "* * * * * \n",
      " * * * * \n",
      "  * * * \n",
      "   * * \n",
      "    * \n",
      "    * \n",
      "   * * \n",
      "  * * * \n",
      " * * * * \n",
      "* * * * * \n"
     ]
    }
   ],
   "source": [
    "def Pattern12(n):\n",
    "    Pattern11(n)\n",
    "    Pattern10(n)\n",
    "    \n",
    "Pattern12(5)"
   ]
  },
  {
   "cell_type": "code",
   "execution_count": 298,
   "id": "b0e4dd78",
   "metadata": {},
   "outputs": [],
   "source": [
    "# Pattern 13\n",
    "#     *\n",
    "#    * *\n",
    "#   *   *\n",
    "#  *     *\n",
    "# *********"
   ]
  },
  {
   "cell_type": "code",
   "execution_count": 308,
   "id": "377326ef",
   "metadata": {},
   "outputs": [
    {
     "name": "stdout",
     "output_type": "stream",
     "text": [
      "    *\n",
      "   * *\n",
      "  *   *\n",
      " *     *\n",
      "*********\n"
     ]
    }
   ],
   "source": [
    "def Pattern13(n):\n",
    "    first_line = \" \"*(n-1) + \"*\"\n",
    "    print(first_line)\n",
    "    for i in range(1,n-1):\n",
    "        string = \" \"*(n-i-1) + \"*\" + \" \"*((i*2)-1) + \"*\"\n",
    "        print(string)\n",
    "    last_line = \"*\"*((n*2)-1)\n",
    "    print(last_line)\n",
    "\n",
    "Pattern13(5)"
   ]
  },
  {
   "cell_type": "code",
   "execution_count": 300,
   "id": "2408817b",
   "metadata": {},
   "outputs": [],
   "source": [
    "# Pattern 14\n",
    "# *********\n",
    "#  *     *\n",
    "#   *   *\n",
    "#    * *\n",
    "#     *"
   ]
  },
  {
   "cell_type": "code",
   "execution_count": 301,
   "id": "167f3e8b",
   "metadata": {},
   "outputs": [
    {
     "name": "stdout",
     "output_type": "stream",
     "text": [
      "*********\n",
      " *     *\n",
      "  *   *\n",
      "   * *\n",
      "    *\n"
     ]
    }
   ],
   "source": [
    "def Pattern14(n):\n",
    "    first_line = \"*\"*((n*2)-1)\n",
    "    print(first_line)\n",
    "    for i in range(1,n-1):\n",
    "        string = \" \"*i + \"*\" + \" \"*(2*n-2*i-3) + \"*\" #((n-1-i)*2-1)\n",
    "        print(string)\n",
    "    last_line = \" \"*(n-1) + \"*\"\n",
    "    print(last_line)\n",
    "\n",
    "Pattern14(5)"
   ]
  },
  {
   "cell_type": "code",
   "execution_count": 320,
   "id": "811d2eb8",
   "metadata": {},
   "outputs": [],
   "source": [
    "# Pattern 15\n",
    "#     *\n",
    "#    * *\n",
    "#   *   *\n",
    "#  *     *\n",
    "# *       *\n",
    "#  *     *\n",
    "#   *   *\n",
    "#    * *\n",
    "#     *"
   ]
  },
  {
   "cell_type": "code",
   "execution_count": 321,
   "id": "d047058f",
   "metadata": {},
   "outputs": [
    {
     "name": "stdout",
     "output_type": "stream",
     "text": [
      "    *\n",
      "   * *\n",
      "  *   *\n",
      " *     *\n",
      "*       *\n",
      " *     *\n",
      "  *   *\n",
      "   * *\n",
      "    *\n"
     ]
    }
   ],
   "source": [
    "def Pattern15(n):\n",
    "    first_line = \" \"*(n-1) + \"*\"\n",
    "    print(first_line)\n",
    "    for i in range(1,n):\n",
    "        string = \" \"*(n-i-1) + \"*\" + \" \"*((i*2)-1) + \"*\"\n",
    "        print(string)\n",
    "    for i in range(1,n-1):\n",
    "        string = \" \"*i + \"*\" + \" \"*(2*n-2*i-3) + \"*\" #((n-1-i)*2-1)\n",
    "        print(string)\n",
    "    last_line = \" \"*(n-1) + \"*\"\n",
    "    print(last_line)\n",
    "\n",
    "Pattern15(5)"
   ]
  },
  {
   "cell_type": "code",
   "execution_count": 322,
   "id": "8f15811f",
   "metadata": {},
   "outputs": [],
   "source": [
    "# Pattern16\n",
    "#     1\n",
    "#   1 2 1\n",
    "#  1 3 3 1\n",
    "# 1 4 6 4 1 "
   ]
  },
  {
   "cell_type": "code",
   "execution_count": null,
   "id": "b4b39168",
   "metadata": {},
   "outputs": [],
   "source": [
    "def Pattern16(n):\n",
    "    for i in range(1,n+1):\n",
    "        string = \" \"*(n-i) "
   ]
  }
 ],
 "metadata": {
  "kernelspec": {
   "display_name": "Python 3 (ipykernel)",
   "language": "python",
   "name": "python3"
  },
  "language_info": {
   "codemirror_mode": {
    "name": "ipython",
    "version": 3
   },
   "file_extension": ".py",
   "mimetype": "text/x-python",
   "name": "python",
   "nbconvert_exporter": "python",
   "pygments_lexer": "ipython3",
   "version": "3.9.13"
  }
 },
 "nbformat": 4,
 "nbformat_minor": 5
}
