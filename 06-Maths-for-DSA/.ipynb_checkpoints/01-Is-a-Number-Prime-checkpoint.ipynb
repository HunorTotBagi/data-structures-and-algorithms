{
 "cells": [
  {
   "cell_type": "code",
   "execution_count": 38,
   "id": "e87e83d9",
   "metadata": {},
   "outputs": [
    {
     "name": "stdout",
     "output_type": "stream",
     "text": [
      "Prime\n"
     ]
    }
   ],
   "source": [
    "def prime(n):\n",
    "    for i in range(1,n):\n",
    "        if n % i == 0:\n",
    "            print(\"Prime\")\n",
    "            break\n",
    "        else:\n",
    "            print(\"Not a prime\")\n",
    "            break\n",
    "        \n",
    "prime(9)"
   ]
  },
  {
   "cell_type": "code",
   "execution_count": 22,
   "id": "3f27f157",
   "metadata": {},
   "outputs": [
    {
     "data": {
      "text/plain": [
       "True"
      ]
     },
     "execution_count": 22,
     "metadata": {},
     "output_type": "execute_result"
    }
   ],
   "source": [
    "# We can check just until sqrt(n)\n",
    "\n",
    "def prime1(n):\n",
    "    if n<=1:\n",
    "        return False\n",
    "    i = 2\n",
    "    while i*i <= n:\n",
    "        if n % i == 0:\n",
    "            return False\n",
    "        i += 1\n",
    "    return True\n",
    "\n",
    "prime1(17)"
   ]
  }
 ],
 "metadata": {
  "kernelspec": {
   "display_name": "Python 3 (ipykernel)",
   "language": "python",
   "name": "python3"
  },
  "language_info": {
   "codemirror_mode": {
    "name": "ipython",
    "version": 3
   },
   "file_extension": ".py",
   "mimetype": "text/x-python",
   "name": "python",
   "nbconvert_exporter": "python",
   "pygments_lexer": "ipython3",
   "version": "3.9.13"
  }
 },
 "nbformat": 4,
 "nbformat_minor": 5
}
